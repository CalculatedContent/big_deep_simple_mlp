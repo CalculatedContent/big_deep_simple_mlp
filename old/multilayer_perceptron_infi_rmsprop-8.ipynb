{
 "cells": [
  {
   "cell_type": "markdown",
   "metadata": {
    "ExecuteTime": {
     "end_time": "2016-04-20T21:52:04.548207",
     "start_time": "2016-04-20T21:52:04.544771"
    }
   },
   "source": [
    "### Simple MLP 8\n",
    "\n",
    "Testing new infimnist on every epoch\n",
    "\n",
    "RMSProp solver with DropOut\n",
    "\n",
    "2500, 2000, 1500, 1000, 500\n",
    "\n",
    "100 epochs\n",
    "\n",
    "see:  https://github.com/nlintz/TensorFlow-Tutorials/blob/master/4_modern_net.py\n",
    "\n"
   ]
  },
  {
   "cell_type": "code",
   "execution_count": 1,
   "metadata": {
    "ExecuteTime": {
     "end_time": "2016-04-24T21:21:29.048550",
     "start_time": "2016-04-24T21:21:29.046374"
    },
    "collapsed": true
   },
   "outputs": [],
   "source": [
    "# A Multilayer Perceptron implementation example using TensorFlow library.\n",
    "# This example is using the MNIST database of handwritten digits\n",
    "# (http://yann.lecun.com/exdb/mnist/)=\n",
    "\n",
    "\n",
    "# Author: Aymeric Damien\n",
    "# Project: https://github.com/aymericdamien/TensorFlow-Examples/"
   ]
  },
  {
   "cell_type": "code",
   "execution_count": 2,
   "metadata": {
    "ExecuteTime": {
     "end_time": "2016-04-24T21:21:31.052805",
     "start_time": "2016-04-24T21:21:29.335718"
    },
    "collapsed": false
   },
   "outputs": [],
   "source": [
    "import tensorflow as tf\n",
    "import numpy as np\n",
    "import input_data"
   ]
  },
  {
   "cell_type": "code",
   "execution_count": 3,
   "metadata": {
    "ExecuteTime": {
     "end_time": "2016-04-24T21:21:31.074453",
     "start_time": "2016-04-24T21:21:31.053892"
    },
    "collapsed": false,
    "scrolled": false
   },
   "outputs": [],
   "source": [
    "import os\n",
    "from subprocess import Popen\n",
    "INFIMNIST = '/Users/charlesmartin/packages/infimnist/infimnist -d /Users/charlesmartin/packages/infimnist/data '\n",
    "\n",
    "class InfiMNIST(object):\n",
    "\n",
    "    def __init__(self):\n",
    "        self.data_dir = \".\"\n",
    "        self._infimnist_start = 10000\n",
    "        self._infimnist_stop =  self._infimnist_start + 59999\n",
    "\n",
    "    def next_epoch(self):\n",
    "        #print \"creating infimnist pat files %d - %d\" % (self._infimnist_start, self._infimnist_stop)\n",
    "        lab_file = os.path.join(self.data_dir, 'infimnist-labels')\n",
    "        pat_file = os.path.join(self.data_dir, 'infimnist-images')\n",
    "        \n",
    "        # execute cmd \n",
    "        \n",
    "        with open(lab_file, 'wb') as out:\n",
    "            cmd = \"{} lab {} {} \".format(INFIMNIST, self._infimnist_start, self._infimnist_stop)\n",
    "            #print cmd\n",
    "            Popen(cmd, shell=True, stdout=out, cwd=self.data_dir).wait()\n",
    "            \n",
    "        with open(pat_file, 'wb') as out:\n",
    "            cmd = \"{} pat {} {} \".format(INFIMNIST, self._infimnist_start, self._infimnist_stop)\n",
    "            #print cmd\n",
    "            Popen(cmd, shell=True, stdout=out, cwd=self.data_dir).wait()\n",
    "        \n",
    "        cmd1 = \"rm infimnist-labels.gz infimnist-images.gz mnist-labels.gz mnist-images.gz\"\n",
    "        cmd2 = \"gzip -f infimnist-labels infimnist-images\"\n",
    "        cmd3 = \"ln -s infimnist-labels.gz  mnist-labels.gz\"\n",
    "        cmd4 = \"ln -s infimnist-images.gz  mnist-images.gz\"\n",
    "\n",
    "        os.system(cmd1)\n",
    "        os.system(cmd2)\n",
    "        os.system(cmd3)\n",
    "        os.system(cmd4)\n",
    "        \n",
    "        self._infimnist_start = self._infimnist_stop + 1\n",
    "        self._infimnist_stop =  self._infimnist_start + 59999\n"
   ]
  },
  {
   "cell_type": "code",
   "execution_count": 4,
   "metadata": {
    "ExecuteTime": {
     "end_time": "2016-04-24T21:21:31.077596",
     "start_time": "2016-04-24T21:21:31.075666"
    },
    "collapsed": false
   },
   "outputs": [],
   "source": [
    "infiminst = InfiMNIST()"
   ]
  },
  {
   "cell_type": "code",
   "execution_count": 5,
   "metadata": {
    "ExecuteTime": {
     "end_time": "2016-04-24T21:21:31.208859",
     "start_time": "2016-04-24T21:21:31.206293"
    },
    "collapsed": true
   },
   "outputs": [],
   "source": [
    "# Parameters\n",
    "learning_rate = 0.001\n",
    "training_epochs = 100\n",
    "batch_size = 100\n",
    "display_step = 1\n",
    "total_batch = 55000/100"
   ]
  },
  {
   "cell_type": "code",
   "execution_count": 6,
   "metadata": {
    "ExecuteTime": {
     "end_time": "2016-04-24T21:21:31.828821",
     "start_time": "2016-04-24T21:21:31.822993"
    },
    "collapsed": false
   },
   "outputs": [],
   "source": [
    "# Network Parameters\n",
    "n_hidden_1 = 2500\n",
    "n_hidden_2 = 2000 \n",
    "n_hidden_3 = 1500\n",
    "n_hidden_4 = 1000 \n",
    "n_hidden_5 =  500 \n",
    "\n",
    "n_input = 784 # MNIST data input (img shape: 28*28)\n",
    "n_classes = 10 # MNIST total classes (0-9 digits)\n",
    "\n",
    "std_0 = 1.0/np.sqrt(n_input)\n",
    "std_h1 = 1.0/np.sqrt(n_hidden_1)\n",
    "std_h2 = 1.0/np.sqrt(n_hidden_2)\n",
    "std_h3 = 1.0/np.sqrt(n_hidden_3)\n",
    "std_h4 = 1.0/np.sqrt(n_hidden_4)\n",
    "std_h5 = 1.0/np.sqrt(n_hidden_5)"
   ]
  },
  {
   "cell_type": "code",
   "execution_count": 7,
   "metadata": {
    "ExecuteTime": {
     "end_time": "2016-04-24T21:21:33.179419",
     "start_time": "2016-04-24T21:21:33.174907"
    },
    "collapsed": false
   },
   "outputs": [],
   "source": [
    "# tf Graph input\n",
    "x = tf.placeholder(\"float\", [None, n_input])\n",
    "y = tf.placeholder(\"float\", [None, n_classes])"
   ]
  },
  {
   "cell_type": "code",
   "execution_count": 8,
   "metadata": {
    "ExecuteTime": {
     "end_time": "2016-04-24T21:21:33.786126",
     "start_time": "2016-04-24T21:21:33.782261"
    },
    "collapsed": true
   },
   "outputs": [],
   "source": [
    "# dropout parameters\n",
    "pv = tf.placeholder(\"float\")\n",
    "ph = tf.placeholder(\"float\")"
   ]
  },
  {
   "cell_type": "code",
   "execution_count": 9,
   "metadata": {
    "ExecuteTime": {
     "end_time": "2016-04-24T21:22:24.997585",
     "start_time": "2016-04-24T21:22:24.981098"
    },
    "collapsed": true
   },
   "outputs": [],
   "source": [
    "def multilayer_perceptron(_X, _weights, _biases, _pv, _ph):\n",
    "\n",
    "    _Xd = tf.nn.dropout(_X, _pv)\n",
    "    \n",
    "    layer_1 = tf.nn.relu(tf.add(tf.matmul(_Xd, _weights['h1']), _biases['b1'])) \n",
    "    layer_1d =  tf.nn.dropout(layer_1, _ph)\n",
    "    \n",
    "    layer_2 = tf.nn.relu(tf.add(tf.matmul(layer_1d, _weights['h2']), _biases['b2'])) \n",
    "    layer_2d =  tf.nn.dropout(layer_2, _ph)\n",
    "    \n",
    "    layer_3 = tf.nn.relu(tf.add(tf.matmul(layer_2d, _weights['h3']), _biases['b3'])) \n",
    "    layer_3d =  tf.nn.dropout(layer_3, _ph)\n",
    "    \n",
    "    layer_4 = tf.nn.relu(tf.add(tf.matmul(layer_3d, _weights['h4']), _biases['b4'])) \n",
    "    layer_4d =  tf.nn.dropout(layer_4, _ph)\n",
    "    \n",
    "    layer_5 = tf.nn.relu(tf.add(tf.matmul(layer_4d, _weights['h5']), _biases['b5'])) \n",
    "    layer_5d =  tf.nn.dropout(layer_5, _ph)\n",
    "\n",
    "    \n",
    "    return tf.matmul(layer_5d, weights['out']) + biases['out']"
   ]
  },
  {
   "cell_type": "code",
   "execution_count": 13,
   "metadata": {
    "ExecuteTime": {
     "end_time": "2016-04-24T21:11:10.205364",
     "start_time": "2016-04-24T21:11:10.167576"
    },
    "collapsed": false
   },
   "outputs": [],
   "source": [
    "# Store layers weight & bias\n",
    "weights = {\n",
    "    'h1': tf.Variable(tf.random_normal([n_input, n_hidden_1], stddev=std_0)),\n",
    "    'h2': tf.Variable(tf.random_normal([n_hidden_1, n_hidden_2], stddev=std_h1)),\n",
    "    'h3': tf.Variable(tf.random_normal([n_hidden_2, n_hidden_3], stddev=std_h2)),\n",
    "    'h4': tf.Variable(tf.random_normal([n_hidden_3, n_hidden_4], stddev=std_h3)),\n",
    "    'h5': tf.Variable(tf.random_normal([n_hidden_4, n_hidden_5], stddev=std_h4)),\n",
    "\n",
    "    'out': tf.Variable(tf.random_normal([n_hidden_5, n_classes], stddev=std_h5))\n",
    "}\n",
    "biases = {\n",
    "    'b1': tf.Variable(tf.random_normal([n_hidden_1], stddev=std_h1)),\n",
    "    'b2': tf.Variable(tf.random_normal([n_hidden_2], stddev=std_h2)),\n",
    "    'b3': tf.Variable(tf.random_normal([n_hidden_3], stddev=std_h3)),\n",
    "    'b4': tf.Variable(tf.random_normal([n_hidden_4], stddev=std_h4)),\n",
    "    'b5': tf.Variable(tf.random_normal([n_hidden_5], stddev=std_h5)),\n",
    "    \n",
    "    'out': tf.Variable(tf.random_normal([n_classes], stddev=std_0))\n",
    "}\n"
   ]
  },
  {
   "cell_type": "code",
   "execution_count": 15,
   "metadata": {
    "ExecuteTime": {
     "end_time": "2016-04-24T21:11:14.347114",
     "start_time": "2016-04-24T21:11:14.326953"
    },
    "collapsed": false,
    "scrolled": false
   },
   "outputs": [],
   "source": [
    "# Construct model\n",
    "pred = multilayer_perceptron(x, weights, biases, pv, ph )"
   ]
  },
  {
   "cell_type": "code",
   "execution_count": 16,
   "metadata": {
    "ExecuteTime": {
     "end_time": "2016-04-24T21:11:28.160406",
     "start_time": "2016-04-24T21:11:28.063239"
    },
    "collapsed": false
   },
   "outputs": [],
   "source": [
    "# Define loss and optimizer\n",
    "# Softmax loss\n",
    "cost = tf.reduce_mean(tf.nn.softmax_cross_entropy_with_logits(pred, y)) \n",
    "\n",
    "optimizer = tf.train.RMSPropOptimizer(learning_rate=learning_rate).minimize(cost) "
   ]
  },
  {
   "cell_type": "code",
   "execution_count": 17,
   "metadata": {
    "ExecuteTime": {
     "end_time": "2016-04-24T21:11:30.384798",
     "start_time": "2016-04-24T21:11:30.382055"
    },
    "collapsed": true
   },
   "outputs": [],
   "source": [
    "# Initializing the variables\n",
    "init = tf.initialize_all_variables()"
   ]
  },
  {
   "cell_type": "code",
   "execution_count": 19,
   "metadata": {
    "ExecuteTime": {
     "start_time": "2016-04-25T04:11:31.156Z"
    },
    "collapsed": false,
    "scrolled": true
   },
   "outputs": [
    {
     "name": "stdout",
     "output_type": "stream",
     "text": [
      "Epoch: 0001 cost= 0.823340013\n",
      "Accuracy: 0.9037\n",
      "Epoch: 0002 cost= 0.158644966\n",
      "Accuracy: 0.943\n",
      "Epoch: 0003 cost= 0.182545319\n",
      "Accuracy: 0.9466\n",
      "Epoch: 0004 cost= 0.227190911\n",
      "Accuracy: 0.9022\n",
      "Epoch: 0005 cost= 0.236369785\n",
      "Accuracy: 0.9433\n",
      "Epoch: 0006 cost= 0.240885008\n",
      "Accuracy: 0.9428\n",
      "Epoch: 0007 cost= 0.276692170\n",
      "Accuracy: 0.9302\n",
      "Epoch: 0008 cost= 0.306233509\n",
      "Accuracy: 0.8845\n",
      "Epoch: 0009 cost= 0.367273306\n",
      "Accuracy: 0.8458\n",
      "Epoch: 0010 cost= 0.435537624\n",
      "Accuracy: 0.8783\n",
      "Epoch: 0011 cost= 0.552445756\n",
      "Accuracy: 0.8429\n",
      "Epoch: 0012 cost= 0.676830031\n",
      "Accuracy: 0.8384\n",
      "Epoch: 0013 cost= 0.870384803\n",
      "Accuracy: 0.73\n",
      "Epoch: 0014 cost= 1.005682015\n",
      "Accuracy: 0.6807\n",
      "Epoch: 0015 cost= 1.160961369\n",
      "Accuracy: 0.5288\n",
      "Epoch: 0016 cost= 1.310616465\n",
      "Accuracy: 0.56\n",
      "Epoch: 0017 cost= 1.522226617\n",
      "Accuracy: 0.3543\n",
      "Epoch: 0018 cost= 1.606513506\n",
      "Accuracy: 0.3864\n",
      "Epoch: 0019 cost= 1.749260806\n",
      "Accuracy: 0.3411\n",
      "Epoch: 0020 cost= 1.714347283\n",
      "Accuracy: 0.3295\n",
      "Epoch: 0021 cost= 1.676854611\n",
      "Accuracy: 0.3801\n",
      "Epoch: 0022 cost= 1.744372252\n",
      "Accuracy: 0.5778\n",
      "Epoch: 0023 cost= 1.726298219\n",
      "Accuracy: 0.3904\n",
      "Epoch: 0024 cost= 1.938040521\n",
      "Accuracy: 0.3015\n",
      "Epoch: 0025 cost= 1.847725540\n",
      "Accuracy: 0.3884\n",
      "Epoch: 0026 cost= 1.850161756\n",
      "Accuracy: 0.3034\n",
      "Epoch: 0027 cost= 1.854757348\n",
      "Accuracy: 0.2541\n",
      "Epoch: 0028 cost= 1.968717780\n",
      "Accuracy: 0.254\n",
      "Epoch: 0029 cost= 1.996911624\n",
      "Accuracy: 0.2532\n",
      "Epoch: 0030 cost= 2.021464118\n",
      "Accuracy: 0.192\n",
      "Epoch: 0031 cost= 2.010775347\n",
      "Accuracy: 0.3265\n",
      "Epoch: 0032 cost= 1.980155305\n",
      "Accuracy: 0.2638\n",
      "Epoch: 0033 cost= 2.011623937\n",
      "Accuracy: 0.1502\n",
      "Epoch: 0034 cost= 2.039388868\n",
      "Accuracy: 0.3306\n",
      "Epoch: 0035 cost= 2.026925909\n",
      "Accuracy: 0.2046\n",
      "Epoch: 0036 cost= 2.002526467\n",
      "Accuracy: 0.2676\n",
      "Epoch: 0037 cost= 1.987574923\n",
      "Accuracy: 0.2076\n",
      "Epoch: 0038 cost= 1.986741117\n",
      "Accuracy: 0.1555\n",
      "Epoch: 0039 cost= 2.067927090\n",
      "Accuracy: 0.2635\n",
      "Epoch: 0040 cost= 2.005261330\n",
      "Accuracy: 0.3539\n",
      "Epoch: 0041 cost= 1.986826198\n",
      "Accuracy: 0.2762\n",
      "Epoch: 0042 cost= 2.062092429\n",
      "Accuracy: 0.1799\n",
      "Epoch: 0043 cost= 2.046621825\n",
      "Accuracy: 0.2971\n",
      "Epoch: 0044 cost= 2.091100712\n",
      "Accuracy: 0.2265\n",
      "Epoch: 0045 cost= 1.981604719\n",
      "Accuracy: 0.1771\n"
     ]
    },
    {
     "ename": "KeyboardInterrupt",
     "evalue": "",
     "output_type": "error",
     "traceback": [
      "\u001b[0;31m---------------------------------------------------------------------------\u001b[0m",
      "\u001b[0;31mKeyboardInterrupt\u001b[0m                         Traceback (most recent call last)",
      "\u001b[0;32m<ipython-input-19-937866193624>\u001b[0m in \u001b[0;36m<module>\u001b[0;34m()\u001b[0m\n\u001b[1;32m     15\u001b[0m             \u001b[0mbatch_xs\u001b[0m\u001b[0;34m,\u001b[0m \u001b[0mbatch_ys\u001b[0m \u001b[0;34m=\u001b[0m \u001b[0mmnist\u001b[0m\u001b[0;34m.\u001b[0m\u001b[0mtrain\u001b[0m\u001b[0;34m.\u001b[0m\u001b[0mnext_batch\u001b[0m\u001b[0;34m(\u001b[0m\u001b[0mbatch_size\u001b[0m\u001b[0;34m)\u001b[0m\u001b[0;34m\u001b[0m\u001b[0m\n\u001b[1;32m     16\u001b[0m             \u001b[0;31m# Fit training using batch data\u001b[0m\u001b[0;34m\u001b[0m\u001b[0;34m\u001b[0m\u001b[0m\n\u001b[0;32m---> 17\u001b[0;31m             \u001b[0msess\u001b[0m\u001b[0;34m.\u001b[0m\u001b[0mrun\u001b[0m\u001b[0;34m(\u001b[0m\u001b[0moptimizer\u001b[0m\u001b[0;34m,\u001b[0m \u001b[0mfeed_dict\u001b[0m\u001b[0;34m=\u001b[0m\u001b[0;34m{\u001b[0m\u001b[0mx\u001b[0m\u001b[0;34m:\u001b[0m \u001b[0mbatch_xs\u001b[0m\u001b[0;34m,\u001b[0m \u001b[0my\u001b[0m\u001b[0;34m:\u001b[0m \u001b[0mbatch_ys\u001b[0m\u001b[0;34m,\u001b[0m \u001b[0mpv\u001b[0m\u001b[0;34m:\u001b[0m \u001b[0;36m0.8\u001b[0m\u001b[0;34m,\u001b[0m \u001b[0mph\u001b[0m\u001b[0;34m:\u001b[0m \u001b[0;36m0.5\u001b[0m\u001b[0;34m}\u001b[0m\u001b[0;34m)\u001b[0m\u001b[0;34m\u001b[0m\u001b[0m\n\u001b[0m\u001b[1;32m     18\u001b[0m             \u001b[0;31m# Compute average loss\u001b[0m\u001b[0;34m\u001b[0m\u001b[0;34m\u001b[0m\u001b[0m\n\u001b[1;32m     19\u001b[0m             \u001b[0mavg_cost\u001b[0m \u001b[0;34m+=\u001b[0m \u001b[0msess\u001b[0m\u001b[0;34m.\u001b[0m\u001b[0mrun\u001b[0m\u001b[0;34m(\u001b[0m\u001b[0mcost\u001b[0m\u001b[0;34m,\u001b[0m \u001b[0mfeed_dict\u001b[0m\u001b[0;34m=\u001b[0m\u001b[0;34m{\u001b[0m\u001b[0mx\u001b[0m\u001b[0;34m:\u001b[0m \u001b[0mbatch_xs\u001b[0m\u001b[0;34m,\u001b[0m \u001b[0my\u001b[0m\u001b[0;34m:\u001b[0m \u001b[0mbatch_ys\u001b[0m\u001b[0;34m,\u001b[0m \u001b[0mpv\u001b[0m\u001b[0;34m:\u001b[0m \u001b[0;36m1.0\u001b[0m\u001b[0;34m,\u001b[0m \u001b[0mph\u001b[0m\u001b[0;34m:\u001b[0m \u001b[0;36m1.0\u001b[0m\u001b[0;34m}\u001b[0m\u001b[0;34m)\u001b[0m\u001b[0;34m/\u001b[0m\u001b[0mtotal_batch\u001b[0m\u001b[0;34m\u001b[0m\u001b[0m\n",
      "\u001b[0;32m//anaconda/lib/python2.7/site-packages/tensorflow/python/client/session.pyc\u001b[0m in \u001b[0;36mrun\u001b[0;34m(self, fetches, feed_dict, options, run_metadata)\u001b[0m\n\u001b[1;32m    338\u001b[0m     \u001b[0;32mtry\u001b[0m\u001b[0;34m:\u001b[0m\u001b[0;34m\u001b[0m\u001b[0m\n\u001b[1;32m    339\u001b[0m       result = self._run(None, fetches, feed_dict, options_ptr,\n\u001b[0;32m--> 340\u001b[0;31m                          run_metadata_ptr)\n\u001b[0m\u001b[1;32m    341\u001b[0m       \u001b[0;32mif\u001b[0m \u001b[0mrun_metadata\u001b[0m\u001b[0;34m:\u001b[0m\u001b[0;34m\u001b[0m\u001b[0m\n\u001b[1;32m    342\u001b[0m         \u001b[0mproto_data\u001b[0m \u001b[0;34m=\u001b[0m \u001b[0mtf_session\u001b[0m\u001b[0;34m.\u001b[0m\u001b[0mTF_GetBuffer\u001b[0m\u001b[0;34m(\u001b[0m\u001b[0mrun_metadata_ptr\u001b[0m\u001b[0;34m)\u001b[0m\u001b[0;34m\u001b[0m\u001b[0m\n",
      "\u001b[0;32m//anaconda/lib/python2.7/site-packages/tensorflow/python/client/session.pyc\u001b[0m in \u001b[0;36m_run\u001b[0;34m(self, handle, fetches, feed_dict, options, run_metadata)\u001b[0m\n\u001b[1;32m    562\u001b[0m     \u001b[0;32mtry\u001b[0m\u001b[0;34m:\u001b[0m\u001b[0;34m\u001b[0m\u001b[0m\n\u001b[1;32m    563\u001b[0m       results = self._do_run(handle, target_list, unique_fetches,\n\u001b[0;32m--> 564\u001b[0;31m                              feed_dict_string, options, run_metadata)\n\u001b[0m\u001b[1;32m    565\u001b[0m     \u001b[0;32mfinally\u001b[0m\u001b[0;34m:\u001b[0m\u001b[0;34m\u001b[0m\u001b[0m\n\u001b[1;32m    566\u001b[0m       \u001b[0;31m# The movers are no longer used. Delete them.\u001b[0m\u001b[0;34m\u001b[0m\u001b[0;34m\u001b[0m\u001b[0m\n",
      "\u001b[0;32m//anaconda/lib/python2.7/site-packages/tensorflow/python/client/session.pyc\u001b[0m in \u001b[0;36m_do_run\u001b[0;34m(self, handle, target_list, fetch_list, feed_dict, options, run_metadata)\u001b[0m\n\u001b[1;32m    635\u001b[0m     \u001b[0;32mif\u001b[0m \u001b[0mhandle\u001b[0m \u001b[0;32mis\u001b[0m \u001b[0mNone\u001b[0m\u001b[0;34m:\u001b[0m\u001b[0;34m\u001b[0m\u001b[0m\n\u001b[1;32m    636\u001b[0m       return self._do_call(_run_fn, self._session, feed_dict, fetch_list,\n\u001b[0;32m--> 637\u001b[0;31m                            target_list, options, run_metadata)\n\u001b[0m\u001b[1;32m    638\u001b[0m     \u001b[0;32melse\u001b[0m\u001b[0;34m:\u001b[0m\u001b[0;34m\u001b[0m\u001b[0m\n\u001b[1;32m    639\u001b[0m       return self._do_call(_prun_fn, self._session, handle, feed_dict,\n",
      "\u001b[0;32m//anaconda/lib/python2.7/site-packages/tensorflow/python/client/session.pyc\u001b[0m in \u001b[0;36m_do_call\u001b[0;34m(self, fn, *args)\u001b[0m\n\u001b[1;32m    642\u001b[0m   \u001b[0;32mdef\u001b[0m \u001b[0m_do_call\u001b[0m\u001b[0;34m(\u001b[0m\u001b[0mself\u001b[0m\u001b[0;34m,\u001b[0m \u001b[0mfn\u001b[0m\u001b[0;34m,\u001b[0m \u001b[0;34m*\u001b[0m\u001b[0margs\u001b[0m\u001b[0;34m)\u001b[0m\u001b[0;34m:\u001b[0m\u001b[0;34m\u001b[0m\u001b[0m\n\u001b[1;32m    643\u001b[0m     \u001b[0;32mtry\u001b[0m\u001b[0;34m:\u001b[0m\u001b[0;34m\u001b[0m\u001b[0m\n\u001b[0;32m--> 644\u001b[0;31m       \u001b[0;32mreturn\u001b[0m \u001b[0mfn\u001b[0m\u001b[0;34m(\u001b[0m\u001b[0;34m*\u001b[0m\u001b[0margs\u001b[0m\u001b[0;34m)\u001b[0m\u001b[0;34m\u001b[0m\u001b[0m\n\u001b[0m\u001b[1;32m    645\u001b[0m     \u001b[0;32mexcept\u001b[0m \u001b[0mtf_session\u001b[0m\u001b[0;34m.\u001b[0m\u001b[0mStatusNotOK\u001b[0m \u001b[0;32mas\u001b[0m \u001b[0me\u001b[0m\u001b[0;34m:\u001b[0m\u001b[0;34m\u001b[0m\u001b[0m\n\u001b[1;32m    646\u001b[0m       \u001b[0merror_message\u001b[0m \u001b[0;34m=\u001b[0m \u001b[0mcompat\u001b[0m\u001b[0;34m.\u001b[0m\u001b[0mas_text\u001b[0m\u001b[0;34m(\u001b[0m\u001b[0me\u001b[0m\u001b[0;34m.\u001b[0m\u001b[0merror_message\u001b[0m\u001b[0;34m)\u001b[0m\u001b[0;34m\u001b[0m\u001b[0m\n",
      "\u001b[0;32m//anaconda/lib/python2.7/site-packages/tensorflow/python/client/session.pyc\u001b[0m in \u001b[0;36m_run_fn\u001b[0;34m(session, feed_dict, fetch_list, target_list, options, run_metadata)\u001b[0m\n\u001b[1;32m    626\u001b[0m       \u001b[0;32melse\u001b[0m\u001b[0;34m:\u001b[0m\u001b[0;34m\u001b[0m\u001b[0m\n\u001b[1;32m    627\u001b[0m         return tf_session.TF_Run(\n\u001b[0;32m--> 628\u001b[0;31m             session, None, feed_dict, fetch_list, target_list, None)\n\u001b[0m\u001b[1;32m    629\u001b[0m \u001b[0;34m\u001b[0m\u001b[0m\n\u001b[1;32m    630\u001b[0m     \u001b[0;32mdef\u001b[0m \u001b[0m_prun_fn\u001b[0m\u001b[0;34m(\u001b[0m\u001b[0msession\u001b[0m\u001b[0;34m,\u001b[0m \u001b[0mhandle\u001b[0m\u001b[0;34m,\u001b[0m \u001b[0mfeed_dict\u001b[0m\u001b[0;34m,\u001b[0m \u001b[0mfetch_list\u001b[0m\u001b[0;34m)\u001b[0m\u001b[0;34m:\u001b[0m\u001b[0;34m\u001b[0m\u001b[0m\n",
      "\u001b[0;31mKeyboardInterrupt\u001b[0m: "
     ]
    }
   ],
   "source": [
    "# Launch the graph\n",
    "import input_data\n",
    "\n",
    "accs = []\n",
    "with tf.Session() as sess:\n",
    "    sess.run(init)\n",
    "\n",
    "    # Training cycle\n",
    "    for epoch in range(training_epochs):\n",
    "        infiminst.next_epoch()\n",
    "        mnist = input_data.read_data_sets(\".\", one_hot=True)\n",
    "        avg_cost = 0.0\n",
    "        # Loop over all batches\n",
    "        for i in range(total_batch):\n",
    "            batch_xs, batch_ys = mnist.train.next_batch(batch_size)\n",
    "            # Fit training using batch data\n",
    "            sess.run(optimizer, feed_dict={x: batch_xs, y: batch_ys, pv: 0.8, ph: 0.5})\n",
    "            # Compute average loss\n",
    "            avg_cost += sess.run(cost, feed_dict={x: batch_xs, y: batch_ys, pv: 1.0, ph: 1.0})/total_batch\n",
    "            \n",
    "        # Display logs per epoch step\n",
    "        if epoch % display_step == 0:\n",
    "            print \"Epoch:\", '%04d' % (epoch+1), \"cost=\", \"{:.9f}\".format(avg_cost)\n",
    "            correct_prediction = tf.equal(tf.argmax(pred, 1), tf.argmax(y, 1))\n",
    "            accuracy = tf.reduce_mean(tf.cast(correct_prediction, \"float\"))\n",
    "            a = accuracy.eval(feed_dict={x: mnist.test.images, y: mnist.test.labels, pv:1.0, ph:1.0})\n",
    "            accs.append(a)\n",
    "            print \"Accuracy:\", a\n",
    "\n",
    "    # Test model\n",
    "    correct_prediction = tf.equal(tf.argmax(pred, 1), tf.argmax(y, 1))\n",
    "    # Calculate accuracy\n",
    "    accuracy = tf.reduce_mean(tf.cast(correct_prediction, \"float\"))\n",
    "    print \"Accuracy:\", accuracy.eval({x: mnist.test.images, y: mnist.test.labels, pv:1.0, ph:1.0})"
   ]
  },
  {
   "cell_type": "code",
   "execution_count": 20,
   "metadata": {
    "ExecuteTime": {
     "start_time": "2016-04-25T04:11:34.355Z"
    },
    "collapsed": false
   },
   "outputs": [],
   "source": [
    "import matplotlib\n",
    "import numpy as np\n",
    "import matplotlib.pyplot as plt\n",
    "%matplotlib inline  "
   ]
  },
  {
   "cell_type": "code",
   "execution_count": 21,
   "metadata": {
    "ExecuteTime": {
     "start_time": "2016-04-25T04:11:36.586Z"
    },
    "collapsed": false
   },
   "outputs": [
    {
     "data": {
      "text/plain": [
       "[<matplotlib.lines.Line2D at 0x11e2a1f90>]"
      ]
     },
     "execution_count": 21,
     "metadata": {},
     "output_type": "execute_result"
    },
    {
     "data": {
      "image/png": "[encoded data removed]",
      "text/plain": [
       "<matplotlib.figure.Figure at 0x11e17d950>"
      ]
     },
     "metadata": {},
     "output_type": "display_data"
    }
   ],
   "source": [
    "plt.plot(accs)\n"
   ]
  },
  {
   "cell_type": "code",
   "execution_count": null,
   "metadata": {
    "collapsed": true
   },
   "outputs": [],
   "source": []
  },
  {
   "cell_type": "code",
   "execution_count": null,
   "metadata": {
    "collapsed": true
   },
   "outputs": [],
   "source": []
  }
 ],
 "metadata": {
  "kernelspec": {
   "display_name": "Python 2",
   "language": "python",
   "name": "python2"
  },
  "language_info": {
   "codemirror_mode": {
    "name": "ipython",
    "version": 2
   },
   "file_extension": ".py",
   "mimetype": "text/x-python",
   "name": "python",
   "nbconvert_exporter": "python",
   "pygments_lexer": "ipython2",
   "version": "2.7.11"
  }
 },
 "nbformat": 4,
 "nbformat_minor": 0
}
