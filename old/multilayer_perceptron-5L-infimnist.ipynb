{
 "cells": [
  {
   "cell_type": "code",
   "execution_count": 65,
   "metadata": {
    "ExecuteTime": {
     "end_time": "2016-04-16T23:46:23.330128",
     "start_time": "2016-04-16T23:46:23.328091"
    },
    "collapsed": true
   },
   "outputs": [],
   "source": [
    "# A Multilayer Perceptron implementation example using TensorFlow library.\n",
    "# This example is using the MNIST database of handwritten digits\n",
    "# (http://yann.lecun.com/exdb/mnist/)\n",
    "\n",
    "# Author: Aymeric Damien\n",
    "# Project: https://github.com/aymericdamien/TensorFlow-Examples/"
   ]
  },
  {
   "cell_type": "code",
   "execution_count": 13,
   "metadata": {
    "ExecuteTime": {
     "end_time": "2016-04-18T00:02:50.965020",
     "start_time": "2016-04-18T00:02:37.254511"
    },
    "collapsed": false
   },
   "outputs": [
    {
     "name": "stdout",
     "output_type": "stream",
     "text": [
      "Succesfully downloaded train-images-idx3-ubyte.gz 9912422 bytes.\n",
      "Extracting /Users/charlesmartin14/packages/infimnist/data/8m/train-images-idx3-ubyte.gz\n",
      "Succesfully downloaded train-labels-idx1-ubyte.gz 28881 bytes.\n",
      "Extracting /Users/charlesmartin14/packages/infimnist/data/8m/train-labels-idx1-ubyte.gz\n",
      "Succesfully downloaded t10k-images-idx3-ubyte.gz 1648877 bytes.\n",
      "Extracting /Users/charlesmartin14/packages/infimnist/data/8m/t10k-images-idx3-ubyte.gz\n",
      "Succesfully downloaded t10k-labels-idx1-ubyte.gz 4542 bytes.\n",
      "Extracting /Users/charlesmartin14/packages/infimnist/data/8m/t10k-labels-idx1-ubyte.gz\n"
     ]
    },
    {
     "name": "stderr",
     "output_type": "stream",
     "text": [
      "/Users/charlesmartin14/anaconda2/lib/python2.7/gzip.py:275: VisibleDeprecationWarning: converting an array with ndim > 0 to an index will result in an error in the future\n",
      "  chunk = self.extrabuf[offset: offset + size]\n",
      "input_data.py:35: VisibleDeprecationWarning: converting an array with ndim > 0 to an index will result in an error in the future\n",
      "  data = data.reshape(num_images, rows, cols, 1)\n"
     ]
    }
   ],
   "source": [
    "# Import MINST data\n",
    "import input_data\n",
    "infimnist = input_data.read_data_sets(\"/Users/charlesmartin14/packages/infimnist/data/8m\", one_hot=True)"
   ]
  },
  {
   "cell_type": "code",
   "execution_count": 14,
   "metadata": {
    "ExecuteTime": {
     "end_time": "2016-04-18T00:02:50.969967",
     "start_time": "2016-04-18T00:02:50.966670"
    },
    "collapsed": true
   },
   "outputs": [],
   "source": [
    "import tensorflow as tf"
   ]
  },
  {
   "cell_type": "code",
   "execution_count": 54,
   "metadata": {
    "ExecuteTime": {
     "end_time": "2016-04-18T08:08:51.579064",
     "start_time": "2016-04-18T08:08:51.575013"
    },
    "collapsed": false
   },
   "outputs": [],
   "source": [
    "# Parameters\n",
    "learning_rate = 0.001\n",
    "training_epochs = 1000\n",
    "batch_size = 100\n",
    "display_step = 10"
   ]
  },
  {
   "cell_type": "code",
   "execution_count": 55,
   "metadata": {
    "ExecuteTime": {
     "end_time": "2016-04-18T08:08:51.843255",
     "start_time": "2016-04-18T08:08:51.838452"
    },
    "collapsed": true
   },
   "outputs": [],
   "source": [
    "# Network Parameters\n",
    "n_hidden_1 = 512 # 1st layer num features\n",
    "n_hidden_2 = 256 # 2nd layer num features\n",
    "n_hidden_3 = 128\n",
    "n_hidden_4 = 64 \n",
    "n_hidden_5 = 32 \n",
    "\n",
    "n_input = 784 # MNIST data input (img shape: 28*28)\n",
    "n_classes = 10 # MNIST total classes (0-9 digits)"
   ]
  },
  {
   "cell_type": "code",
   "execution_count": 56,
   "metadata": {
    "ExecuteTime": {
     "end_time": "2016-04-18T08:08:52.115978",
     "start_time": "2016-04-18T08:08:52.110545"
    },
    "collapsed": true
   },
   "outputs": [],
   "source": [
    "# tf Graph input\n",
    "x = tf.placeholder(\"float\", [None, n_input])\n",
    "y = tf.placeholder(\"float\", [None, n_classes])"
   ]
  },
  {
   "cell_type": "code",
   "execution_count": 57,
   "metadata": {
    "ExecuteTime": {
     "end_time": "2016-04-18T08:08:52.371977",
     "start_time": "2016-04-18T08:08:52.364909"
    },
    "collapsed": true
   },
   "outputs": [],
   "source": [
    "# Create model\n",
    "def multilayer_perceptron(_X, _weights, _biases):\n",
    "    #Hidden layers with RELU activation\n",
    "    layer_1 = tf.nn.relu(tf.add(tf.matmul(_X, _weights['h1']), _biases['b1'])) \n",
    "    layer_2 = tf.nn.relu(tf.add(tf.matmul(layer_1, _weights['h2']), _biases['b2'])) \n",
    "    layer_3 = tf.nn.relu(tf.add(tf.matmul(layer_2, _weights['h3']), _biases['b3'])) \n",
    "    layer_4 = tf.nn.relu(tf.add(tf.matmul(layer_3, _weights['h4']), _biases['b4'])) \n",
    "    layer_5 = tf.nn.relu(tf.add(tf.matmul(layer_4, _weights['h5']), _biases['b5'])) \n",
    "\n",
    "    return tf.matmul(layer_5, weights['out']) + biases['out']"
   ]
  },
  {
   "cell_type": "code",
   "execution_count": 58,
   "metadata": {
    "ExecuteTime": {
     "end_time": "2016-04-18T08:08:52.706867",
     "start_time": "2016-04-18T08:08:52.622058"
    },
    "collapsed": true
   },
   "outputs": [],
   "source": [
    "# Store layers weight & bias\n",
    "weights = {\n",
    "    'h1': tf.Variable(tf.random_normal([n_input, n_hidden_1])),\n",
    "    'h2': tf.Variable(tf.random_normal([n_hidden_1, n_hidden_2])),\n",
    "    'h3': tf.Variable(tf.random_normal([n_hidden_2, n_hidden_3])),\n",
    "    'h4': tf.Variable(tf.random_normal([n_hidden_3, n_hidden_4])),\n",
    "    'h5': tf.Variable(tf.random_normal([n_hidden_4, n_hidden_5])),\n",
    "\n",
    "    'out': tf.Variable(tf.random_normal([n_hidden_5, n_classes]))\n",
    "}\n",
    "biases = {\n",
    "    'b1': tf.Variable(tf.random_normal([n_hidden_1])),\n",
    "    'b2': tf.Variable(tf.random_normal([n_hidden_2])),\n",
    "    'b3': tf.Variable(tf.random_normal([n_hidden_3])),\n",
    "    'b4': tf.Variable(tf.random_normal([n_hidden_4])),\n",
    "    'b5': tf.Variable(tf.random_normal([n_hidden_5])),\n",
    "\n",
    "    'out': tf.Variable(tf.random_normal([n_classes]))\n",
    "}"
   ]
  },
  {
   "cell_type": "code",
   "execution_count": 59,
   "metadata": {
    "ExecuteTime": {
     "end_time": "2016-04-18T08:08:52.905936",
     "start_time": "2016-04-18T08:08:52.894267"
    },
    "collapsed": true
   },
   "outputs": [],
   "source": [
    "# Construct model\n",
    "pred = multilayer_perceptron(x, weights, biases)"
   ]
  },
  {
   "cell_type": "code",
   "execution_count": 60,
   "metadata": {
    "ExecuteTime": {
     "end_time": "2016-04-18T08:08:53.359663",
     "start_time": "2016-04-18T08:08:53.181163"
    },
    "collapsed": true
   },
   "outputs": [],
   "source": [
    "# Define loss and optimizer\n",
    "# Softmax loss\n",
    "cost = tf.reduce_mean(tf.nn.softmax_cross_entropy_with_logits(pred, y)) \n",
    "# Adam Optimizer\n",
    "optimizer = tf.train.AdamOptimizer(learning_rate=learning_rate).minimize(cost) "
   ]
  },
  {
   "cell_type": "code",
   "execution_count": 61,
   "metadata": {
    "ExecuteTime": {
     "end_time": "2016-04-18T08:08:53.480409",
     "start_time": "2016-04-18T08:08:53.469448"
    },
    "collapsed": true
   },
   "outputs": [],
   "source": [
    "# Initializing the variables\n",
    "init = tf.initialize_all_variables()"
   ]
  },
  {
   "cell_type": "code",
   "execution_count": null,
   "metadata": {
    "ExecuteTime": {
     "start_time": "2016-04-18T16:03:15.400Z"
    },
    "collapsed": false,
    "scrolled": true
   },
   "outputs": [
    {
     "name": "stdout",
     "output_type": "stream",
     "text": [
      " Epoch: 0001 cost= 18919.929398304\n",
      "Accuracy: 0.799\n",
      "Epoch: 0011 cost= 2.280046194\n",
      "Accuracy: 0.1244\n",
      "Epoch: 0021 cost= 2.270970098\n",
      "Accuracy: 0.124\n",
      "Epoch: 0031 cost= 2.301021858\n",
      "Accuracy: 0.1135\n",
      "Epoch: 0041 cost= 2.301304736\n",
      "Accuracy: 0.1135\n",
      "Epoch: 0051 cost= 2.301467560\n",
      "Accuracy: 0.1135\n",
      "Epoch: 0061 cost= 2.301324827\n",
      "Accuracy: 0.1135\n",
      "Epoch: 0071 cost= 2.301300493\n",
      "Accuracy: 0.1135\n",
      "Epoch: 0081 cost= 2.300864893\n",
      "Accuracy: 0.1135\n",
      "Epoch: 0091 cost= 2.301380170\n",
      "Accuracy: 0.1135\n",
      "Epoch: 0101 cost= 2.301192140\n",
      "Accuracy: 0.1135\n",
      "Epoch: 0111 cost= 2.301181941\n",
      "Accuracy: 0.1135\n",
      "Epoch: 0121 cost= 2.301338132\n",
      "Accuracy: 0.1135\n",
      "Epoch: 0131 cost= 2.301291591\n",
      "Accuracy: 0.1135\n",
      "Epoch: 0141 cost= 2.301316017\n",
      "Accuracy: 0.1135\n",
      "Epoch: 0151 cost= 2.301030456\n",
      "Accuracy: 0.1135\n",
      "Epoch: 0161 cost= 2.301247456\n",
      "Accuracy: 0.1135\n",
      "Epoch: 0171 cost= 2.301300748\n",
      "Accuracy: 0.1135\n",
      "Epoch: 0181 cost= 2.301284331\n",
      "Accuracy: 0.1135\n",
      "Epoch: 0191 cost= 2.301074121\n",
      "Accuracy: 0.1135\n",
      "Epoch: 0201 cost= 2.301238202\n",
      "Accuracy: 0.1135\n",
      "Epoch: 0211 cost= 2.301439548\n",
      "Accuracy: 0.1135\n",
      "Epoch: 0221 cost= 2.301268812\n",
      "Accuracy: 0.1135\n",
      "Epoch: 0231 cost= 2.301201902\n",
      "Accuracy: 0.1135\n",
      "Epoch: 0241 cost= 2.301095654\n",
      "Accuracy: 0.1135\n",
      "Epoch: 0251 cost= 2.301388243\n",
      "Accuracy: 0.1135\n",
      "Epoch: 0261 cost= 2.300992778\n",
      "Accuracy: 0.1135\n",
      "Epoch: 0271 cost= 2.300940793\n",
      "Accuracy: 0.1135\n",
      "Epoch: 0281 cost= 2.301650218\n",
      "Accuracy: 0.1135\n",
      "Epoch: 0291 cost= 2.301050402\n",
      "Accuracy: 0.1135\n",
      "Epoch: 0301 cost= 2.301016106\n",
      "Accuracy: 0.1135\n",
      "Epoch: 0311 cost= 2.300889865\n",
      "Accuracy: 0.1135\n",
      "Epoch: 0321 cost= 2.301510694\n",
      "Accuracy: 0.1135\n",
      "Epoch: 0331 cost= 2.301277695\n",
      "Accuracy: 0.1135\n",
      "Epoch: 0341 cost= 2.301015486\n",
      "Accuracy: 0.1135\n",
      "Epoch: 0351 cost= 2.301395977\n",
      "Accuracy: 0.1135\n",
      "Epoch: 0361 cost= 2.301154174\n",
      "Accuracy: 0.1135\n",
      "Epoch: 0371 cost= 2.301202358\n",
      "Accuracy: 0.1135\n",
      "Epoch: 0381 cost= 2.301464523\n",
      "Accuracy: 0.1135\n",
      "Epoch: 0391 cost= 2.301199943\n",
      "Accuracy: 0.1135\n",
      "Epoch: 0401 cost= 2.301182158\n",
      "Accuracy: 0.1135\n",
      "Epoch: 0411 cost= 2.301320527\n",
      "Accuracy: 0.1135\n",
      "Epoch: 0421 cost= 2.301113084\n",
      "Accuracy: 0.1135\n",
      "Epoch: 0431 cost= 2.300983442\n",
      "Accuracy: 0.1135\n",
      "Epoch: 0441 cost= 2.301543139\n",
      "Accuracy: 0.1135\n",
      "Epoch: 0451 cost= 2.301271267\n",
      "Accuracy: 0.1135\n",
      "Epoch: 0461 cost= 2.301173289\n",
      "Accuracy: 0.1135\n",
      "Epoch: 0471 cost= 2.301363761\n",
      "Accuracy: 0.1135\n",
      "Epoch: 0481 cost= 2.301082031\n",
      "Accuracy: 0.1135\n",
      "Epoch: 0491 cost= 2.301341033\n",
      "Accuracy: 0.1135\n",
      "Epoch: 0501 cost= 2.301182945\n",
      "Accuracy: 0.1135\n",
      "Epoch: 0511 cost= 2.301095150\n",
      "Accuracy: 0.1135\n",
      "Epoch: 0521 cost= 2.301219262\n",
      "Accuracy: 0.1135\n",
      "Epoch: 0531 cost= 2.301191399\n",
      "Accuracy: 0.1135\n",
      "Epoch: 0541 cost= 2.301284191\n",
      "Accuracy: 0.1135\n",
      "Epoch: 0551 cost= 2.301156882\n",
      "Accuracy: 0.1135\n",
      "Epoch: 0561 cost= 2.301117542\n",
      "Accuracy: 0.1135\n",
      "Epoch: 0571 cost= 2.301285051\n",
      "Accuracy: 0.1135\n",
      "Epoch: 0581 cost= 2.301395289\n",
      "Accuracy: 0.1135\n",
      "Epoch: 0591 cost= 2.301113843\n",
      "Accuracy: 0.1135\n",
      "Epoch: 0601 cost= 2.301419450\n",
      "Accuracy: 0.1135\n",
      "Epoch: 0611 cost= 2.301212457\n",
      "Accuracy: 0.1135\n",
      "Epoch: 0621 cost= 2.301098121\n",
      "Accuracy: 0.1135\n",
      "Epoch: 0631 cost= 2.301616707\n",
      "Accuracy: 0.1135\n",
      "Epoch: 0641 cost= 2.301230484\n",
      "Accuracy: 0.1135\n",
      "Epoch: 0651 cost= 2.301450969\n",
      "Accuracy: 0.1135\n",
      "Epoch: 0661 cost= 2.300952842\n",
      "Accuracy: 0.1135\n",
      "Epoch: 0671 cost= 2.301366374\n",
      "Accuracy: 0.1135\n",
      "Epoch: 0681 cost= 2.301149543\n",
      "Accuracy: 0.1135\n",
      "Epoch: 0691 cost= 2.301498314\n",
      "Accuracy: 0.1135\n",
      "Epoch: 0701 cost= 2.300950652\n",
      "Accuracy: 0.1135\n",
      "Epoch: 0711 cost= 2.301300568\n",
      "Accuracy: 0.1135\n",
      "Epoch: 0721 cost= 2.301256058\n",
      "Accuracy: 0.1135\n",
      "Epoch: 0731 cost= 2.300949704\n",
      "Accuracy: 0.1135\n",
      "Epoch: 0741 cost= 2.301311422\n",
      "Accuracy: "
     ]
    }
   ],
   "source": [
    "# Launch the graph\n",
    "with tf.Session() as sess:\n",
    "    sess.run(init)\n",
    "\n",
    "    # Training cycle\n",
    "    for epoch in range(training_epochs):\n",
    "        avg_cost = 0.\n",
    "        total_batch = int(infimnist.train.num_examples/batch_size)\n",
    "        # Loop over all batches\n",
    "        for i in range(total_batch):\n",
    "            batch_xs, batch_ys = infimnist.train.next_batch(batch_size)\n",
    "            \n",
    "            # Fit training using batch data\n",
    "            sess.run(optimizer, feed_dict={x: batch_xs, y: batch_ys})\n",
    "            # Compute average loss\n",
    "            avg_cost += sess.run(cost, feed_dict={x: batch_xs, y: batch_ys})/total_batch\n",
    "        # Display logs per epoch step\n",
    "        if epoch % display_step == 0:\n",
    "            print \"Epoch:\", '%04d' % (epoch+1), \"cost=\", \"{:.9f}\".format(avg_cost)\n",
    "            correct_prediction = tf.equal(tf.argmax(pred, 1), tf.argmax(y, 1))\n",
    "            accuracy = tf.reduce_mean(tf.cast(correct_prediction, \"float\"))\n",
    "            print \"Accuracy:\", accuracy.eval({x: infimnist.test.images, y: infimnist.test.labels})\n",
    "            \n",
    "    print \"Optimization Finished!\"\n",
    "\n",
    "    # Test model\n",
    "    correct_prediction = tf.equal(tf.argmax(pred, 1), tf.argmax(y, 1))\n",
    "    # Calculate accuracy\n",
    "    accuracy = tf.reduce_mean(tf.cast(correct_prediction, \"float\"))\n",
    "    print \"Accuracy:\", accuracy.eval({x: mnist.test.images, y: mnist.test.labels})"
   ]
  },
  {
   "cell_type": "code",
   "execution_count": null,
   "metadata": {
    "collapsed": true
   },
   "outputs": [],
   "source": []
  },
  {
   "cell_type": "code",
   "execution_count": null,
   "metadata": {
    "ExecuteTime": {
     "start_time": "2016-04-18T18:44:40.616Z"
    },
    "collapsed": true
   },
   "outputs": [],
   "source": [
    " 0l9\n",
    "    \\"
   ]
  },
  {
   "cell_type": "code",
   "execution_count": null,
   "metadata": {
    "collapsed": true
   },
   "outputs": [],
   "source": [
    "\\][0-=0=-]"
   ]
  }
 ],
 "metadata": {
  "kernelspec": {
   "display_name": "Python 2",
   "language": "python",
   "name": "python2"
  },
  "language_info": {
   "codemirror_mode": {
    "name": "ipython",
    "version": 2
   },
   "file_extension": ".py",
   "mimetype": "text/x-python",
   "name": "python",
   "nbconvert_exporter": "python",
   "pygments_lexer": "ipython2",
   "version": "2.7.11"
  }
 },
 "nbformat": 4,
 "nbformat_minor": 0
}
