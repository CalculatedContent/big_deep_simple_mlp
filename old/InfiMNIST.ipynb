{
 "cells": [
  {
   "cell_type": "markdown",
   "metadata": {
    "collapsed": true
   },
   "source": [
    "Class to allow epochs of InfiMNIST to be iterated over and loaded into Tensorflow notebooks\n",
    "\n",
    "http://leon.bottou.org/projects/infimnist\n",
    "\n",
    "TODO:  change APIs to only load deformations\n",
    "\n",
    "use orginal minst for actual train and test\n",
    "\n",
    "merge classes so minst, infimnist, and alignmnsit all use the same base class\n"
   ]
  },
  {
   "cell_type": "code",
   "execution_count": null,
   "metadata": {
    "collapsed": false
   },
   "outputs": [],
   "source": [
    "%%writefile  infimnist.py\n",
    "\n",
    "from __future__ import print_function\n",
    "import gzip\n",
    "import os\n",
    "import urllib\n",
    "import numpy as np\n",
    "\n",
    "class InfiMNIST(object):\n",
    "\n",
    "    def __init__(self, filename='alignmnist.npz'):\n",
    "        self.data_dir = \".\"\n",
    "        self._infimnist_start = 10000\n",
    "        self._infimnist_stop =  self._infimnist_start + 59999        \n",
    "        \n",
    "    # does not work\n",
    "    def dense_to_one_hot(self, labels_dense, num_classes=10):\n",
    "        \"\"\"Convert class labels from scalars to one-hot vectors.\"\"\"\n",
    "        num_labels = labels_dense.shape[0]\n",
    "        index_offset = np.arange(num_labels) * num_classes\n",
    "        labels_one_hot = np.zeros((num_labels, num_classes))\n",
    "        labels_one_hot.flat[index_offset + labels_dense.ravel()] = 1\n",
    "        return labels_one_hot\n",
    "    \n",
    "    def reshape_images(self, images):\n",
    "        #print images.shape[0], images.shape[1] * images.shape[2]\n",
    "        images = images.reshape(images.shape[0], images.shape[1] * images.shape[2])\n",
    "        # Convert from [0, 255] -> [0.0, 1.0].\n",
    "        images = images.astype(np.float32)\n",
    "        images = np.multiply(images, 1.0 / 255.0)\n",
    "        return images\n",
    "        \n",
    "    def shuffle_epoch(self, images, labels):   \n",
    "        num = labels.shape[0]\n",
    "        pids = np.arange(num)\n",
    "        np.random.shuffle(pids)\n",
    "        images, labels = images[pids], labels[pids]\n",
    "        return images, labels\n",
    "    \n",
    "    \n",
    "    def _read32(bytestream):\n",
    "        dt = np.dtype(np.uint32).newbyteorder('>')\n",
    "        return np.frombuffer(bytestream.read(4), dtype=dt)\n",
    "\n",
    "    def extract_images(filename):\n",
    "        \"\"\"Extract the images into a 4D uint8 numpy array [index, y, x, depth].\"\"\"\n",
    "        #print('Extracting', filename)\n",
    "        with gzip.open(filename) as bytestream:\n",
    "        magic = _read32(bytestream)\n",
    "        if magic != 2051:\n",
    "            raise ValueError('Invalid magic number %d in MNIST image file: %s' % (magic, filename))\n",
    "        num_images = _read32(bytestream)\n",
    "        rows = _read32(bytestream)\n",
    "        cols = _read32(bytestream)\n",
    "        buf = bytestream.read(rows * cols * num_images)\n",
    "        data = np.frombuffer(buf, dtype=np.uint8)\n",
    "        data = data.reshape(num_images, rows, cols, 1)\n",
    "        return data\n",
    "    \n",
    "    def extract_labels(filename, one_hot=False):\n",
    "        \"\"\"Extract the labels into a 1D uint8 numpy array [index].\"\"\"\n",
    "        #print('Extracting', filename)\n",
    "        with gzip.open(filename) as bytestream:\n",
    "            magic = _read32(bytestream)\n",
    "            if magic != 2049:\n",
    "                raise ValueError('Invalid magic number %d in MNIST label file: %s' %(magic, filename))\n",
    "        num_items = _read32(bytestream)\n",
    "        buf = bytestream.read(num_items)\n",
    "        labels = numpy.frombuffer(buf, dtype=np.uint8)\n",
    "        return dense_to_one_hot(labels)\n",
    "    \n",
    "    def read_data_sets(self,image_file, label_file):\n",
    "        train_images = extract_images(image_file)\n",
    "        train_labels = extract_labels(label_file)\n",
    "        \n",
    "        return images, labels\n",
    "  \n",
    "    \n",
    "    def next_epoch(self):\n",
    "        #print \"creating infimnist pat files %d - %d\" % (self._infimnist_start, self._infimnist_stop)\n",
    "        lab_file = os.path.join(self.data_dir, 'infimnist-labels')\n",
    "        pat_file = os.path.join(self.data_dir, 'infimnist-images')\n",
    "\n",
    "        # execute cmd\n",
    "\n",
    "        with open(lab_file, 'wb') as out:\n",
    "                cmd = \"{} lab {} {} \".format(INFIMNIST, self._infimnist_start, self._infimnist_stop)\n",
    "                #print cmd\n",
    "                Popen(cmd, shell=True, stdout=out, cwd=self.data_dir).wait()\n",
    "\n",
    "        with open(pat_file, 'wb') as out:\n",
    "                cmd = \"{} pat {} {} \".format(INFIMNIST, self._infimnist_start, self._infimnist_stop)\n",
    "                #print cmd\n",
    "            Popen(cmd, shell=True, stdout=out, cwd=self.data_dir).wait()\n",
    "\n",
    "        cmd1 = \"rm infimnist-labels.gz infimnist-images.gz mnist-labels.gz mnist-images.gz\"\n",
    "        cmd2 = \"gzip -f infimnist-labels infimnist-images\"\n",
    "\n",
    "        # note: we don't regenerate the test data, only the training data\n",
    "\n",
    "        os.system(cmd1)\n",
    "        os.system(cmd2)\n",
    "\n",
    "        self._infimnist_start = self._infimnist_stop + 1\n",
    "        self._infimnist_stop =  self._infimnist_start + 59999\n",
    "        \n",
    "        # read files in, reshape, and shuffle for each epoch\n",
    "        # (should not shuffle original)\n",
    "        x_train, y_train = read_data_sets(pat_file+'.gz', lab_file+'.gz')\n",
    "     \n",
    "        x_train = self.reshape_images(x_train)\n",
    "        y_train = self.dense_to_one_hot(y_train)\n",
    "\n",
    "        #print x_train.shape, y_train.shape, x_test.shape, y_test.shape\n",
    "        x_train, y_train = self.shuffle_epoch(x_train,y_train)\n",
    "        #print x_train.shape, y_train.shape, x_test.shape, y_test.shape\n",
    "        \n",
    "        \n",
    "        return x_train, y_train, x_test, y_test"
   ]
  },
  {
   "cell_type": "code",
   "execution_count": null,
   "metadata": {
    "collapsed": true
   },
   "outputs": [],
   "source": [
    "%run alignmnist.py"
   ]
  },
  {
   "cell_type": "code",
   "execution_count": null,
   "metadata": {
    "collapsed": true
   },
   "outputs": [],
   "source": [
    "a = AlignMNIST()"
   ]
  },
  {
   "cell_type": "code",
   "execution_count": null,
   "metadata": {
    "collapsed": false
   },
   "outputs": [],
   "source": [
    "x_train, y_train, x_test, y_test = a.next_epoch()"
   ]
  },
  {
   "cell_type": "code",
   "execution_count": null,
   "metadata": {
    "collapsed": false
   },
   "outputs": [],
   "source": [
    "print x_train.shape, y_train.shape, x_test.shape, y_test.shape"
   ]
  },
  {
   "cell_type": "code",
   "execution_count": null,
   "metadata": {
    "collapsed": false
   },
   "outputs": [],
   "source": [
    "from matplotlib import pyplot\n",
    "import matplotlib as mpl\n",
    "%matplotlib inline  \n",
    "\n",
    "def show(image): \n",
    "    fig = pyplot.figure()\n",
    "    ax = fig.add_subplot(1,1,1)\n",
    "    imgplot = ax.imshow(image, cmap=mpl.cm.Greys)\n",
    "    imgplot.set_interpolation('nearest')\n",
    "    ax.xaxis.set_ticks_position('top')\n",
    "    ax.yaxis.set_ticks_position('left')\n",
    "    pyplot.show()"
   ]
  },
  {
   "cell_type": "code",
   "execution_count": null,
   "metadata": {
    "collapsed": false,
    "scrolled": true
   },
   "outputs": [],
   "source": [
    "image = x_train[0,:]\n",
    "image = image.reshape(28,28)\n",
    "print y_train[0]\n",
    "show(image)"
   ]
  },
  {
   "cell_type": "code",
   "execution_count": null,
   "metadata": {
    "collapsed": false
   },
   "outputs": [],
   "source": [
    "for i in range(75):\n",
    "    x_train, y_train, x_test, y_test = a.next_epoch()\n",
    "    print i, x_train.shape, y_train.shape, x_test.shape, y_test.shape"
   ]
  },
  {
   "cell_type": "code",
   "execution_count": null,
   "metadata": {
    "collapsed": true
   },
   "outputs": [],
   "source": []
  },
  {
   "cell_type": "code",
   "execution_count": null,
   "metadata": {
    "collapsed": true
   },
   "outputs": [],
   "source": []
  },
  {
   "cell_type": "code",
   "execution_count": null,
   "metadata": {
    "collapsed": true
   },
   "outputs": [],
   "source": []
  },
  {
   "cell_type": "code",
   "execution_count": null,
   "metadata": {
    "collapsed": true
   },
   "outputs": [],
   "source": []
  }
 ],
 "metadata": {
  "kernelspec": {
   "display_name": "Python 2",
   "language": "python",
   "name": "python2"
  },
  "language_info": {
   "codemirror_mode": {
    "name": "ipython",
    "version": 2
   },
   "file_extension": ".py",
   "mimetype": "text/x-python",
   "name": "python",
   "nbconvert_exporter": "python",
   "pygments_lexer": "ipython2",
   "version": "2.7.11"
  }
 },
 "nbformat": 4,
 "nbformat_minor": 0
}
