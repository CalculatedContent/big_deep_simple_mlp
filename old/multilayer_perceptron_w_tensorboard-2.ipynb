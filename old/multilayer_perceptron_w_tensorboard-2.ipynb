{
 "cells": [
  {
   "cell_type": "markdown",
   "metadata": {
    "ExecuteTime": {
     "end_time": "2016-04-20T21:52:04.548207",
     "start_time": "2016-04-20T21:52:04.544771"
    }
   },
   "source": [
    "### MLP with Tensorboard 2\n",
    "\n",
    "see:  https://github.com/nlintz/TensorFlow-Tutorials/blob/master/9_tensorboard.py\n",
    "\n",
    "testing optimization loss function and gradient clipping\n",
    "\n",
    "https://github.com/tensorflow/tensorflow/blob/c936c06a20b867eaa868e9f2c4fb53856391b18f/tensorflow/contrib/layers/python/layers/optimizers.py#L114\n",
    "\n",
    "https://github.com/kapild/deeplearning/blob/8adb8452a8b16e15bdcec23153a78a3b1fa02f76/tensorflow/contrib/layers/python/layers/optimizers_test.py"
   ]
  },
  {
   "cell_type": "code",
   "execution_count": 1,
   "metadata": {
    "ExecuteTime": {
     "end_time": "2016-05-03T02:16:10.174952",
     "start_time": "2016-05-03T02:16:10.170841"
    },
    "collapsed": true
   },
   "outputs": [],
   "source": [
    "# A Multilayer Perceptron implementation example using TensorFlow library.\n",
    "# This example is using the MNIST database of handwritten digits\n",
    "# (http://yann.lecun.com/exdb/mnist/)=\n",
    "\n",
    "\n",
    "# Author: Aymeric Damien\n",
    "# Project: https://github.com/aymericdamien/TensorFlow-Examples/"
   ]
  },
  {
   "cell_type": "code",
   "execution_count": 2,
   "metadata": {
    "ExecuteTime": {
     "end_time": "2016-05-03T02:16:12.474485",
     "start_time": "2016-05-03T02:16:10.176250"
    },
    "collapsed": false
   },
   "outputs": [],
   "source": [
    "import tensorflow as tf\n",
    "import numpy as np\n",
    "import input_data"
   ]
  },
  {
   "cell_type": "code",
   "execution_count": 3,
   "metadata": {
    "ExecuteTime": {
     "end_time": "2016-05-03T02:16:12.478815",
     "start_time": "2016-05-03T02:16:12.475720"
    },
    "collapsed": true
   },
   "outputs": [],
   "source": [
    "# Parameters\n",
    "#learning_rate = 0.001\n",
    "training_epochs = 100\n",
    "batch_size = 100\n",
    "display_step = 1\n",
    "total_batch = 55000/100"
   ]
  },
  {
   "cell_type": "code",
   "execution_count": 4,
   "metadata": {
    "ExecuteTime": {
     "end_time": "2016-05-03T02:16:12.483328",
     "start_time": "2016-05-03T02:16:12.479841"
    },
    "collapsed": false
   },
   "outputs": [],
   "source": [
    "# Network Parameters\n",
    "n_hidden_1 = 1000 # 1st layer num features\n",
    "n_hidden_2 = 500 # 2nd layer num features\n",
    "n_input = 784 # MNIST data input (img shape: 28*28)\n",
    "n_classes = 10 # MNIST total classes (0-9 digits)\n",
    "\n",
    "std_0 = 1.0/np.sqrt(n_input)\n",
    "std_h1 = 1.0/np.sqrt(n_hidden_1)\n",
    "std_h2 = 1.0/np.sqrt(n_hidden_2)\n"
   ]
  },
  {
   "cell_type": "code",
   "execution_count": 5,
   "metadata": {
    "ExecuteTime": {
     "end_time": "2016-05-03T02:16:12.488504",
     "start_time": "2016-05-03T02:16:12.484979"
    },
    "collapsed": false
   },
   "outputs": [],
   "source": [
    "# tf Graph input\n",
    "x = tf.placeholder(\"float\", [None, n_input])\n",
    "y = tf.placeholder(\"float\", [None, n_classes])"
   ]
  },
  {
   "cell_type": "code",
   "execution_count": 6,
   "metadata": {
    "ExecuteTime": {
     "end_time": "2016-05-03T02:16:12.493000",
     "start_time": "2016-05-03T02:16:12.489741"
    },
    "collapsed": false
   },
   "outputs": [],
   "source": [
    "def multilayer_perceptron(_X, _weights, _biases):\n",
    "    layer_1 = tf.nn.relu(tf.add(tf.matmul(_X, _weights['h1']), _biases['b1'])) \n",
    "    layer_2 = tf.nn.relu(tf.add(tf.matmul(layer_1, _weights['h2']), _biases['b2'])) \n",
    "    return tf.matmul(layer_2, weights['out']) + biases['out']"
   ]
  },
  {
   "cell_type": "code",
   "execution_count": 7,
   "metadata": {
    "ExecuteTime": {
     "end_time": "2016-05-03T02:16:12.533093",
     "start_time": "2016-05-03T02:16:12.494128"
    },
    "collapsed": false
   },
   "outputs": [],
   "source": [
    "# Store layers weight & bias\n",
    "weights = {\n",
    "    'h1': tf.Variable(tf.random_normal([n_input, n_hidden_1], stddev=std_0)),\n",
    "    'h2': tf.Variable(tf.random_normal([n_hidden_1, n_hidden_2], stddev=std_h1)),\n",
    "    'out': tf.Variable(tf.random_normal([n_hidden_2, n_classes], stddev=std_h2))\n",
    "}\n",
    "biases = {\n",
    "    'b1': tf.Variable(tf.random_normal([n_hidden_1], stddev=std_h1)),\n",
    "    'b2': tf.Variable(tf.random_normal([n_hidden_2], stddev=std_h2)),\n",
    "    'out': tf.Variable(tf.random_normal([n_classes], stddev=0.3))\n",
    "}"
   ]
  },
  {
   "cell_type": "code",
   "execution_count": 8,
   "metadata": {
    "ExecuteTime": {
     "end_time": "2016-05-03T02:16:12.541271",
     "start_time": "2016-05-03T02:16:12.534636"
    },
    "collapsed": false,
    "scrolled": false
   },
   "outputs": [],
   "source": [
    "# Construct model\n",
    "pred = multilayer_perceptron(x, weights, biases )"
   ]
  },
  {
   "cell_type": "code",
   "execution_count": 9,
   "metadata": {
    "ExecuteTime": {
     "end_time": "2016-05-03T02:16:12.552398",
     "start_time": "2016-05-03T02:16:12.542190"
    },
    "collapsed": false
   },
   "outputs": [],
   "source": [
    "cost =  tf.reduce_mean(tf.nn.softmax_cross_entropy_with_logits(pred, y)) \n",
    "gs = tf.get_variable(\"global_step\",[],trainable=False,initializer=tf.constant_initializer(0))\n",
    "lr = tf.constant(0.001) "
   ]
  },
  {
   "cell_type": "code",
   "execution_count": 10,
   "metadata": {
    "ExecuteTime": {
     "end_time": "2016-05-03T02:16:12.558267",
     "start_time": "2016-05-03T02:16:12.553656"
    },
    "collapsed": true
   },
   "outputs": [],
   "source": [
    "from tensorflow.python.framework import ops\n",
    "from tensorflow.python.ops import array_ops\n",
    "from tensorflow.python.ops import clip_ops\n",
    "from tensorflow.python.ops import control_flow_ops\n",
    "from tensorflow.python.ops import init_ops\n",
    "from tensorflow.python.ops import logging_ops\n",
    "from tensorflow.python.ops import variable_scope as vs\n",
    "from tensorflow.python.ops import variables as vars_\n",
    "from tensorflow.python.training import training as train"
   ]
  },
  {
   "cell_type": "code",
   "execution_count": 11,
   "metadata": {
    "ExecuteTime": {
     "end_time": "2016-05-03T02:16:12.560902",
     "start_time": "2016-05-03T02:16:12.559370"
    },
    "collapsed": true
   },
   "outputs": [],
   "source": [
    "# we can check to see if we built the model sanely"
   ]
  },
  {
   "cell_type": "code",
   "execution_count": 12,
   "metadata": {
    "ExecuteTime": {
     "end_time": "2016-05-03T02:16:12.564922",
     "start_time": "2016-05-03T02:16:12.562064"
    },
    "collapsed": false
   },
   "outputs": [
    {
     "name": "stdout",
     "output_type": "stream",
     "text": [
      "Variable:0\n",
      "Variable_1:0\n",
      "Variable_2:0\n",
      "Variable_3:0\n",
      "Variable_4:0\n",
      "Variable_5:0\n"
     ]
    }
   ],
   "source": [
    "variables = vars_.trainable_variables()\n",
    "for v in variables:\n",
    "    print v.name"
   ]
  },
  {
   "cell_type": "raw",
   "metadata": {
    "ExecuteTime": {
     "end_time": "2016-05-03T00:09:44.777711",
     "start_time": "2016-05-03T00:09:44.734593"
    }
   },
   "source": [
    "opt = train.RMSPropOptimizer(learning_rate=0.001)\n",
    "gradients = opt.compute_gradients(cost, variables)"
   ]
  },
  {
   "cell_type": "raw",
   "metadata": {
    "ExecuteTime": {
     "end_time": "2016-05-03T00:09:45.545457",
     "start_time": "2016-05-03T00:09:45.541936"
    }
   },
   "source": [
    "for gradient, variable in gradients:\n",
    "    if isinstance(gradient, ops.IndexedSlices):\n",
    "        grad_values = gradient.values\n",
    "    else:\n",
    "        grad_values = gradient\n",
    "    print variable.name, grad_values.name"
   ]
  },
  {
   "cell_type": "code",
   "execution_count": 13,
   "metadata": {
    "ExecuteTime": {
     "end_time": "2016-05-03T02:16:12.673191",
     "start_time": "2016-05-03T02:16:12.566123"
    },
    "collapsed": false
   },
   "outputs": [],
   "source": [
    "train_op = tf.contrib.layers.optimize_loss(cost, global_step=gs, learning_rate=lr,optimizer=\"SGD\")"
   ]
  },
  {
   "cell_type": "raw",
   "metadata": {
    "ExecuteTime": {
     "end_time": "2016-05-02T23:59:29.574023",
     "start_time": "2016-05-02T23:59:29.572173"
    }
   },
   "source": []
  },
  {
   "cell_type": "code",
   "execution_count": 14,
   "metadata": {
    "ExecuteTime": {
     "end_time": "2016-05-03T02:16:12.686519",
     "start_time": "2016-05-03T02:16:12.674133"
    },
    "collapsed": false
   },
   "outputs": [],
   "source": [
    "with tf.name_scope(\"accuracy\"):\n",
    "    correct_prediction = tf.equal(tf.argmax(pred, 1), tf.argmax(y, 1)) # Count correct predictions\n",
    "    # Calculate accuracy\n",
    "    acc_op = tf.reduce_mean(tf.cast(correct_prediction, \"float\"))  # Cast boolean to float to average\n",
    "    # Add scalar summary for accuracy\n",
    "    tf.scalar_summary(\"accuracy\", acc_op)"
   ]
  },
  {
   "cell_type": "code",
   "execution_count": 15,
   "metadata": {
    "ExecuteTime": {
     "end_time": "2016-05-03T02:16:13.571819",
     "start_time": "2016-05-03T02:16:12.687810"
    },
    "collapsed": false,
    "scrolled": false
   },
   "outputs": [
    {
     "name": "stderr",
     "output_type": "stream",
     "text": [
      "/Users/charlesmartin14/anaconda2/lib/python2.7/gzip.py:275: VisibleDeprecationWarning: converting an array with ndim > 0 to an index will result in an error in the future\n",
      "  chunk = self.extrabuf[offset: offset + size]\n",
      "input_data.py:35: VisibleDeprecationWarning: converting an array with ndim > 0 to an index will result in an error in the future\n",
      "  data = data.reshape(num_images, rows, cols, 1)\n"
     ]
    }
   ],
   "source": [
    "mnist = input_data.read_data_sets(\".\", one_hot=True)\n",
    "trX, trY, teX, teY = mnist.train.images, mnist.train.labels, mnist.test.images, mnist.test.labels"
   ]
  },
  {
   "cell_type": "code",
   "execution_count": 16,
   "metadata": {
    "ExecuteTime": {
     "end_time": "2016-05-03T02:16:13.575362",
     "start_time": "2016-05-03T02:16:13.572975"
    },
    "collapsed": false,
    "scrolled": false
   },
   "outputs": [
    {
     "name": "stdout",
     "output_type": "stream",
     "text": [
      "(55000, 784) (55000, 10)\n",
      "(10000, 784) (10000, 10)\n"
     ]
    }
   ],
   "source": [
    "print trX.shape, trY.shape\n",
    "print teX.shape, teY.shape"
   ]
  },
  {
   "cell_type": "code",
   "execution_count": 17,
   "metadata": {
    "ExecuteTime": {
     "end_time": "2016-05-03T02:16:13.587405",
     "start_time": "2016-05-03T02:16:13.576710"
    },
    "collapsed": false,
    "scrolled": true
   },
   "outputs": [
    {
     "data": {
      "text/plain": [
       "440.0"
      ]
     },
     "execution_count": 17,
     "metadata": {},
     "output_type": "execute_result"
    }
   ],
   "source": [
    "55000./125."
   ]
  },
  {
   "cell_type": "code",
   "execution_count": 18,
   "metadata": {
    "ExecuteTime": {
     "end_time": "2016-05-03T02:16:13.711458",
     "start_time": "2016-05-03T02:16:13.588217"
    },
    "collapsed": false
   },
   "outputs": [],
   "source": [
    "!rm -rf ./logs/nn_logs"
   ]
  },
  {
   "cell_type": "code",
   "execution_count": null,
   "metadata": {
    "ExecuteTime": {
     "start_time": "2016-05-03T09:18:21.124Z"
    },
    "collapsed": false,
    "scrolled": false
   },
   "outputs": [
    {
     "name": "stdout",
     "output_type": "stream",
     "text": [
      "(0, 0.41209999)\n",
      "(1, 0.6153)\n",
      "(2, 0.69010001)\n",
      "(3, 0.72729999)\n",
      "(4, 0.75830001)\n",
      "(5, 0.78250003)\n",
      "(6, 0.8021)\n",
      "(7, 0.81720001)\n",
      "(8, 0.83020002)\n",
      "(9, 0.84069997)\n",
      "(10, 0.85049999)\n",
      "(11, 0.85610002)\n",
      "(12, 0.8628)\n",
      "(13, 0.86729997)\n",
      "(14, 0.87260002)\n",
      "(15, 0.87669998)\n",
      "(16, 0.88)\n",
      "(17, 0.88330001)\n",
      "(18, 0.88590002)\n",
      "(19, 0.88849998)\n",
      "(20, 0.88999999)\n",
      "(21, 0.89209998)\n",
      "(22, 0.89389998)\n",
      "(23, 0.89529997)\n",
      "(24, 0.8962)\n",
      "(25, 0.89679998)\n",
      "(26, 0.89749998)\n",
      "(27, 0.89810002)\n",
      "(28, 0.89840001)\n",
      "(29, 0.90030003)\n",
      "(30, 0.90189999)\n",
      "(31, 0.90390003)\n",
      "(32, 0.9048)\n",
      "(33, 0.90549999)\n",
      "(34, 0.90679997)\n",
      "(35, 0.9073)\n",
      "(36, 0.90810001)"
     ]
    }
   ],
   "source": [
    "with tf.Session() as sess:\n",
    "    # create a log writer. run 'tensorboard --logdir=./logs/nn_logs'\n",
    "    writer = tf.train.SummaryWriter(\"./logs/nn_logs\", sess.graph) # for 0.8\n",
    "    merged = tf.merge_all_summaries()\n",
    "\n",
    "    # you need to initialize all variables\n",
    "    tf.initialize_all_variables().run()\n",
    "\n",
    "    for i in range(5000):\n",
    "        for start, end in zip(range(0, len(trX), 125), range(125, len(trX), 125)):\n",
    "            #print start, end\n",
    "            sess.run(train_op, feed_dict={x: trX[start:end], y: trY[start:end]})\n",
    "        summary , acc = sess.run([merged, acc_op], feed_dict={x: teX, y: teY})\n",
    "        writer.add_summary(summary, i)  # Write summary\n",
    "        print(i, acc)                   # Report the accuracy\n",
    "        \n",
    "    writer.flush()"
   ]
  },
  {
   "cell_type": "code",
   "execution_count": null,
   "metadata": {
    "collapsed": true
   },
   "outputs": [],
   "source": []
  }
 ],
 "metadata": {
  "kernelspec": {
   "display_name": "Python 2",
   "language": "python",
   "name": "python2"
  },
  "language_info": {
   "codemirror_mode": {
    "name": "ipython",
    "version": 2
   },
   "file_extension": ".py",
   "mimetype": "text/x-python",
   "name": "python",
   "nbconvert_exporter": "python",
   "pygments_lexer": "ipython2",
   "version": "2.7.11"
  }
 },
 "nbformat": 4,
 "nbformat_minor": 0
}
