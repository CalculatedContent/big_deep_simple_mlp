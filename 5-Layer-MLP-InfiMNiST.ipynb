{
 "cells": [
  {
   "cell_type": "markdown",
   "metadata": {
    "ExecuteTime": {
     "end_time": "2016-04-20T21:52:04.548207",
     "start_time": "2016-04-20T21:52:04.544771"
    }
   },
   "source": [
    "## 5 Layer MLP w/InfiMNIST\n",
    "\n",
    "500 epochs of RMSProp"
   ]
  },
  {
   "cell_type": "code",
   "execution_count": 1,
   "metadata": {
    "ExecuteTime": {
     "end_time": "2016-05-04T22:35:05.559870",
     "start_time": "2016-05-04T22:35:03.489984"
    },
    "collapsed": false
   },
   "outputs": [],
   "source": [
    "import tensorflow as tf\n",
    "import numpy as np"
   ]
  },
  {
   "cell_type": "code",
   "execution_count": 2,
   "metadata": {
    "ExecuteTime": {
     "end_time": "2016-06-06T22:10:55.919425",
     "start_time": "2016-06-06T22:10:55.798303"
    },
    "collapsed": false
   },
   "outputs": [],
   "source": [
    "%run augmentmnist.py"
   ]
  },
  {
   "cell_type": "code",
   "execution_count": 3,
   "metadata": {
    "ExecuteTime": {
     "end_time": "2016-05-04T22:35:05.569237",
     "start_time": "2016-05-04T22:35:05.566733"
    },
    "collapsed": true
   },
   "outputs": [],
   "source": [
    "num_epochs = 500\n",
    "batch_size = 125\n",
    "\n",
    "learning_rate = 0.001\n"
   ]
  },
  {
   "cell_type": "code",
   "execution_count": 4,
   "metadata": {
    "ExecuteTime": {
     "end_time": "2016-05-04T22:35:19.719645",
     "start_time": "2016-05-04T22:35:19.713990"
    },
    "collapsed": false
   },
   "outputs": [],
   "source": [
    "# Network Parameters\n",
    "n_hidden_1 = 2500\n",
    "n_hidden_2 = 1500\n",
    "n_hidden_3 = 1000\n",
    "n_hidden_4 = 500\n",
    "n_input = 784 # MNIST data input (img shape: 28*28)\n",
    "n_classes = 10 # MNIST total classes (0-9 digits)\n",
    "\n",
    "std_0 = 1.0/np.sqrt(n_input)\n",
    "std_h1 = 1.0/np.sqrt(n_hidden_1)\n",
    "std_h2 = 1.0/np.sqrt(n_hidden_2)\n",
    "std_h3 = 1.0/np.sqrt(n_hidden_3)\n",
    "std_h4 = 1.0/np.sqrt(n_hidden_4)\n",
    "\n",
    "logfile = \"5-layer-mlp-infimnist\""
   ]
  },
  {
   "cell_type": "code",
   "execution_count": 5,
   "metadata": {
    "ExecuteTime": {
     "end_time": "2016-05-04T22:35:20.469254",
     "start_time": "2016-05-04T22:35:20.464080"
    },
    "collapsed": false
   },
   "outputs": [],
   "source": [
    "# tf Graph input\n",
    "x = tf.placeholder(\"float\", [None, n_input])\n",
    "y = tf.placeholder(\"float\", [None, n_classes])\n",
    "\n",
    "xt = tf.placeholder(\"float\", [None, n_input])\n",
    "yt = tf.placeholder(\"float\", [None, n_classes])"
   ]
  },
  {
   "cell_type": "code",
   "execution_count": 6,
   "metadata": {
    "ExecuteTime": {
     "end_time": "2016-05-04T22:35:21.195832",
     "start_time": "2016-05-04T22:35:21.191412"
    },
    "collapsed": false
   },
   "outputs": [],
   "source": [
    "def multilayer_perceptron(_X, _weights, _biases):\n",
    "    layer_1 = tf.nn.relu(tf.add(tf.matmul(_X, _weights['h1']), _biases['b1'])) \n",
    "    layer_2 = tf.nn.relu(tf.add(tf.matmul(layer_1, _weights['h2']), _biases['b2'])) \n",
    "    layer_3 = tf.nn.relu(tf.add(tf.matmul(layer_2, _weights['h3']), _biases['b3'])) \n",
    "    layer_4 = tf.nn.relu(tf.add(tf.matmul(layer_3, _weights['h4']), _biases['b4'])) \n",
    "    return tf.matmul(layer_4, weights['out']) + biases['out']"
   ]
  },
  {
   "cell_type": "code",
   "execution_count": 7,
   "metadata": {
    "ExecuteTime": {
     "end_time": "2016-05-04T22:35:21.913615",
     "start_time": "2016-05-04T22:35:21.855560"
    },
    "collapsed": false
   },
   "outputs": [],
   "source": [
    "# Store layers weight & bias\n",
    "weights = {\n",
    "    'h1': tf.Variable(tf.random_normal([n_input, n_hidden_1], stddev=std_0)),\n",
    "    'h2': tf.Variable(tf.random_normal([n_hidden_1, n_hidden_2], stddev=std_h1)),\n",
    "    'h3': tf.Variable(tf.random_normal([n_hidden_2, n_hidden_3], stddev=std_h2)),\n",
    "    'h4': tf.Variable(tf.random_normal([n_hidden_3, n_hidden_4], stddev=std_h3)),\n",
    "    'out': tf.Variable(tf.random_normal([n_hidden_4, n_classes], stddev=std_h4))\n",
    "}\n",
    "biases = {\n",
    "    'b1': tf.Variable(tf.random_normal([n_hidden_1], stddev=0.1)),\n",
    "    'b2': tf.Variable(tf.random_normal([n_hidden_2], stddev=0.01)),\n",
    "    'b3': tf.Variable(tf.random_normal([n_hidden_3], stddev=0.01)),\n",
    "    'b4': tf.Variable(tf.random_normal([n_hidden_4], stddev=0.01)),\n",
    "    'out': tf.Variable(tf.random_normal([n_classes], stddev=0.001))\n",
    "}"
   ]
  },
  {
   "cell_type": "code",
   "execution_count": 8,
   "metadata": {
    "ExecuteTime": {
     "end_time": "2016-05-04T22:35:23.055468",
     "start_time": "2016-05-04T22:35:23.040509"
    },
    "collapsed": false,
    "scrolled": false
   },
   "outputs": [],
   "source": [
    "mlp = multilayer_perceptron(x, weights, biases )\n",
    "mlp_test = multilayer_perceptron(xt, weights, biases )"
   ]
  },
  {
   "cell_type": "code",
   "execution_count": 9,
   "metadata": {
    "ExecuteTime": {
     "end_time": "2016-05-04T22:35:23.865189",
     "start_time": "2016-05-04T22:35:23.855758"
    },
    "collapsed": false
   },
   "outputs": [],
   "source": [
    "cost =  tf.reduce_mean(tf.nn.softmax_cross_entropy_with_logits(mlp, y)) \n",
    "gs = tf.get_variable(\"global_step\",[],trainable=False,initializer=tf.constant_initializer(0))\n",
    "lr = tf.constant(learning_rate) "
   ]
  },
  {
   "cell_type": "code",
   "execution_count": 10,
   "metadata": {
    "ExecuteTime": {
     "end_time": "2016-05-04T22:35:24.801765",
     "start_time": "2016-05-04T22:35:24.607145"
    },
    "collapsed": false,
    "scrolled": true
   },
   "outputs": [],
   "source": [
    "train_op = tf.contrib.layers.optimize_loss(cost, global_step=gs, learning_rate=lr,optimizer=\"RMSProp\")"
   ]
  },
  {
   "cell_type": "code",
   "execution_count": 11,
   "metadata": {
    "ExecuteTime": {
     "end_time": "2016-05-04T22:35:25.322532",
     "start_time": "2016-05-04T22:35:25.303706"
    },
    "collapsed": false
   },
   "outputs": [
    {
     "data": {
      "text/plain": [
       "<tf.Tensor 'ScalarSummary_2:0' shape=() dtype=string>"
      ]
     },
     "execution_count": 11,
     "metadata": {},
     "output_type": "execute_result"
    }
   ],
   "source": [
    "#with tf.name_scope(\"training accuracy\"):\n",
    "pred = tf.equal(tf.argmax(mlp, 1), tf.argmax(y, 1)) # Count correct predictions\n",
    "train_acc_op = tf.reduce_mean(tf.cast(pred, \"float\"))  # Cast boolean to float to average\n",
    "tf.scalar_summary(\"training accuracy\", train_acc_op)"
   ]
  },
  {
   "cell_type": "code",
   "execution_count": 12,
   "metadata": {
    "ExecuteTime": {
     "end_time": "2016-05-04T22:35:26.266848",
     "start_time": "2016-05-04T22:35:26.255677"
    },
    "collapsed": false
   },
   "outputs": [
    {
     "data": {
      "text/plain": [
       "<tf.Tensor 'ScalarSummary_3:0' shape=() dtype=string>"
      ]
     },
     "execution_count": 12,
     "metadata": {},
     "output_type": "execute_result"
    }
   ],
   "source": [
    "test_pred = tf.equal(tf.argmax(mlp_test, 1), tf.argmax(yt, 1)) # Count correct predictions\n",
    "test_acc_op = tf.reduce_mean(tf.cast(test_pred, \"float\"))  # Cast boolean to float to average\n",
    "tf.scalar_summary(\"test 0 accuracy\", test_acc_op)"
   ]
  },
  {
   "cell_type": "code",
   "execution_count": 13,
   "metadata": {
    "ExecuteTime": {
     "end_time": "2016-05-04T22:35:28.052227",
     "start_time": "2016-05-04T22:35:27.823881"
    },
    "collapsed": false
   },
   "outputs": [
    {
     "name": "stdout",
     "output_type": "stream",
     "text": [
      "\u001b[34m2-layer-mlp-alignmnist\u001b[m\u001b[m \u001b[34m2-layer-mlp-infimnist\u001b[m\u001b[m  \u001b[34m5-layer-mlp-alignmnist\u001b[m\u001b[m\r\n"
     ]
    }
   ],
   "source": [
    "!rm -rf ./logs/{logfile}\n",
    "!ls logs"
   ]
  },
  {
   "cell_type": "markdown",
   "metadata": {
    "ExecuteTime": {
     "end_time": "2016-05-04T22:35:29.913834",
     "start_time": "2016-05-04T22:35:29.911621"
    },
    "collapsed": true
   },
   "source": [
    "### Original MNIST Data"
   ]
  },
  {
   "cell_type": "code",
   "execution_count": 14,
   "metadata": {
    "ExecuteTime": {
     "start_time": "2016-05-05T05:35:31.093Z"
    },
    "collapsed": false
   },
   "outputs": [
    {
     "name": "stdout",
     "output_type": "stream",
     "text": [
      "Extracting ./train-images-idx3-ubyte.gz\n",
      "Extracting ./train-labels-idx1-ubyte.gz\n",
      "Extracting ./t10k-images-idx3-ubyte.gz\n",
      "Extracting ./t10k-labels-idx1-ubyte.gz\n"
     ]
    }
   ],
   "source": [
    "from tensorflow.examples.tutorials.mnist import input_data\n",
    "mnist = input_data.read_data_sets(\".\", one_hot=True)\n",
    "trX_0, trY_0 = mnist.train.images, mnist.train.labels\n",
    "teX_0, teY_0 = mnist.test.images, mnist.test.labels"
   ]
  },
  {
   "cell_type": "markdown",
   "metadata": {},
   "source": [
    "### InfiMNIST "
   ]
  },
  {
   "cell_type": "code",
   "execution_count": 15,
   "metadata": {
    "collapsed": true
   },
   "outputs": [],
   "source": [
    "infiminst = InfiMNIST()"
   ]
  },
  {
   "cell_type": "code",
   "execution_count": 16,
   "metadata": {
    "ExecuteTime": {
     "start_time": "2016-05-05T05:35:34.204Z"
    },
    "collapsed": false,
    "scrolled": true
   },
   "outputs": [
    {
     "name": "stdout",
     "output_type": "stream",
     "text": [
      "creating infimnist pat files 10000 - 69999\n",
      "updating 80000 - 139999\n"
     ]
    },
    {
     "name": "stderr",
     "output_type": "stream",
     "text": [
      "//anaconda/lib/python2.7/gzip.py:275: VisibleDeprecationWarning: converting an array with ndim > 0 to an index will result in an error in the future\n",
      "  chunk = self.extrabuf[offset: offset + size]\n",
      "<string>:59: VisibleDeprecationWarning: converting an array with ndim > 0 to an index will result in an error in the future\n"
     ]
    },
    {
     "name": "stdout",
     "output_type": "stream",
     "text": [
      "(0, 0, 0.95796669, 0.95670003)\n",
      "creating infimnist pat files 710000 - 769999\n",
      "updating 780000 - 839999\n",
      "(10, 10, 0.98334998, 0.98049998)\n",
      "creating infimnist pat files 1410000 - 1469999\n",
      "updating 1480000 - 1539999\n",
      "(20, 20, 0.98963332, 0.98580003)\n",
      "creating infimnist pat files 2110000 - 2169999\n",
      "updating 2180000 - 2239999\n",
      "(30, 30, 0.98406667, 0.97549999)\n",
      "creating infimnist pat files 2810000 - 2869999\n",
      "updating 2880000 - 2939999\n",
      "(40, 40, 0.99360001, 0.98830003)\n",
      "creating infimnist pat files 3510000 - 3569999\n",
      "updating 3580000 - 3639999\n",
      "(50, 50, 0.98823333, 0.9813)\n",
      "creating infimnist pat files 4210000 - 4269999\n",
      "updating 4280000 - 4339999\n",
      "(60, 60, 0.98376667, 0.97820002)\n",
      "creating infimnist pat files 4910000 - 4969999\n",
      "updating 4980000 - 5039999\n",
      "(70, 70, 0.99488336, 0.9874)\n",
      "creating infimnist pat files 5610000 - 5669999\n",
      "updating 5680000 - 5739999\n",
      "(80, 80, 0.98431665, 0.97430003)\n",
      "creating infimnist pat files 6310000 - 6369999\n",
      "updating 6380000 - 6439999\n",
      "(90, 90, 0.99268335, 0.98750001)\n",
      "creating infimnist pat files 7010000 - 7069999\n",
      "updating 7080000 - 7139999\n",
      "(100, 100, 0.99216664, 0.9849)\n",
      "creating infimnist pat files 7710000 - 7769999\n",
      "updating 7780000 - 7839999\n",
      "(110, 110, 0.99258333, 0.98229998)\n",
      "creating infimnist pat files 8410000 - 8469999\n",
      "updating 8480000 - 8539999\n",
      "(120, 120, 0.98586667, 0.9781)\n",
      "creating infimnist pat files 9110000 - 9169999\n",
      "updating 9180000 - 9239999\n",
      "(130, 130, 0.97488332, 0.97000003)\n",
      "creating infimnist pat files 9810000 - 9869999\n",
      "updating 9880000 - 9939999\n",
      "(140, 140, 0.98906666, 0.98189998)\n",
      "creating infimnist pat files 10510000 - 10569999\n",
      "updating 10580000 - 10639999\n",
      "(150, 150, 0.9781, 0.97079998)\n",
      "creating infimnist pat files 11210000 - 11269999\n",
      "updating 11280000 - 11339999\n",
      "(160, 160, 0.97303331, 0.96439999)\n",
      "creating infimnist pat files 11910000 - 11969999\n",
      "updating 11980000 - 12039999\n",
      "(170, 170, 0.97001666, 0.96289998)\n",
      "creating infimnist pat files 12610000 - 12669999\n",
      "updating 12680000 - 12739999\n",
      "(180, 180, 0.90393335, 0.91070002)\n",
      "creating infimnist pat files 13310000 - 13369999\n",
      "updating 13380000 - 13439999\n",
      "(190, 190, 0.90428334, 0.91009998)\n",
      "creating infimnist pat files 14010000 - 14069999\n",
      "updating 14080000 - 14139999\n",
      "(200, 200, 0.83268332, 0.83660001)\n",
      "creating infimnist pat files 14710000 - 14769999\n",
      "updating 14780000 - 14839999\n",
      "(210, 210, 0.91461664, 0.91659999)\n",
      "creating infimnist pat files 15410000 - 15469999\n",
      "updating 15480000 - 15539999\n",
      "(220, 220, 0.92313331, 0.92150003)\n",
      "creating infimnist pat files 16110000 - 16169999\n",
      "updating 16180000 - 16239999\n",
      "(230, 230, 0.90691668, 0.91460001)\n",
      "creating infimnist pat files 16810000 - 16869999\n",
      "updating 16880000 - 16939999\n",
      "(240, 240, 0.86905003, 0.8836)\n",
      "creating infimnist pat files 17510000 - 17569999\n",
      "updating 17580000 - 17639999\n",
      "(250, 250, 0.89393336, 0.90799999)\n",
      "creating infimnist pat files 18210000 - 18269999\n",
      "updating 18280000 - 18339999\n",
      "(260, 260, 0.97143334, 0.9756)\n",
      "creating infimnist pat files 18910000 - 18969999\n",
      "updating 18980000 - 19039999\n",
      "(270, 270, 0.79661667, 0.8204)\n",
      "creating infimnist pat files 19610000 - 19669999\n",
      "updating 19680000 - 19739999\n",
      "(280, 280, 0.82286668, 0.84719998)\n",
      "creating infimnist pat files 20310000 - 20369999\n",
      "updating 20380000 - 20439999\n",
      "(290, 290, 0.88524997, 0.90469998)\n",
      "creating infimnist pat files 21010000 - 21069999\n",
      "updating 21080000 - 21139999\n",
      "(300, 300, 0.87124997, 0.88959998)\n",
      "creating infimnist pat files 21710000 - 21769999\n",
      "updating 21780000 - 21839999\n",
      "(310, 310, 0.87669998, 0.89029998)\n",
      "creating infimnist pat files 22410000 - 22469999\n",
      "updating 22480000 - 22539999\n",
      "(320, 320, 0.89416665, 0.91579998)\n",
      "creating infimnist pat files 23110000 - 23169999\n",
      "updating 23180000 - 23239999\n",
      "(330, 330, 0.89143336, 0.91109997)\n",
      "creating infimnist pat files 23810000 - 23869999\n",
      "updating 23880000 - 23939999\n",
      "(340, 340, 0.85863334, 0.8775)\n",
      "creating infimnist pat files 24510000 - 24569999\n",
      "updating 24580000 - 24639999\n",
      "(350, 350, 0.93846667, 0.94679999)\n",
      "creating infimnist pat files 25210000 - 25269999\n",
      "updating 25280000 - 25339999\n",
      "(360, 360, 0.90708333, 0.92079997)\n",
      "creating infimnist pat files 25910000 - 25969999\n",
      "updating 25980000 - 26039999\n",
      "(370, 370, 0.79788333, 0.8003)\n",
      "creating infimnist pat files 26610000 - 26669999\n",
      "updating 26680000 - 26739999\n",
      "(380, 380, 0.88611668, 0.88739997)\n",
      "creating infimnist pat files 27310000 - 27369999\n",
      "updating 27380000 - 27439999\n",
      "(390, 390, 0.81708336, 0.83039999)\n",
      "creating infimnist pat files 28010000 - 28069999\n",
      "updating 28080000 - 28139999\n",
      "(400, 400, 0.73680001, 0.75580001)\n",
      "creating infimnist pat files 28710000 - 28769999\n",
      "updating 28780000 - 28839999\n",
      "(410, 410, 0.78163332, 0.79290003)\n",
      "creating infimnist pat files 29410000 - 29469999\n",
      "updating 29480000 - 29539999\n",
      "(420, 420, 0.83845001, 0.84200001)\n",
      "creating infimnist pat files 30110000 - 30169999\n",
      "updating 30180000 - 30239999\n",
      "(430, 430, 0.84750003, 0.86440003)\n",
      "creating infimnist pat files 30810000 - 30869999\n",
      "updating 30880000 - 30939999\n",
      "(440, 440, 0.81484997, 0.81099999)\n",
      "creating infimnist pat files 31510000 - 31569999\n",
      "updating 31580000 - 31639999\n",
      "(450, 450, 0.85275, 0.8689)\n",
      "creating infimnist pat files 32210000 - 32269999\n",
      "updating 32280000 - 32339999\n",
      "(460, 460, 0.61098331, 0.62599999)\n",
      "creating infimnist pat files 32910000 - 32969999\n",
      "updating 32980000 - 33039999\n",
      "(470, 470, 0.57740003, 0.58579999)\n",
      "creating infimnist pat files 33610000 - 33669999\n",
      "updating 33680000 - 33739999\n",
      "(480, 480, 0.68045002, 0.68449998)\n",
      "creating infimnist pat files 34310000 - 34369999\n",
      "updating 34380000 - 34439999\n",
      "(490, 490, 0.82856667, 0.84579998)\n"
     ]
    }
   ],
   "source": [
    "test_accuracies = []\n",
    "train_accuracies = []\n",
    "with tf.Session() as sess:\n",
    "    # create a log writer. run 'tensorboard --logdir=./logs/{logfile}'\n",
    "    writer = tf.train.SummaryWriter(\"./logs/{0}\".format(logfile), sess.graph) # for 0.8\n",
    "    merged = tf.merge_all_summaries()\n",
    " \n",
    "    tf.initialize_all_variables().run()\n",
    "\n",
    "    i = -1\n",
    "    for epoch in range(num_epochs):\n",
    "        \n",
    "        i+=1\n",
    "        log=((i%10)==0)\n",
    "            \n",
    "        trX, trY = infiminst.next_epoch(log)\n",
    "        \n",
    "        for start, end in zip(range(0, len(trX), batch_size), range(batch_size, len(trX), batch_size)):\n",
    "            sess.run(train_op, feed_dict={x: trX[start:end], y: trY[start:end]})\n",
    "                 \n",
    "        summary, trn_acc, tst_acc = sess.run([merged, train_acc_op, test_acc_op], feed_dict={x: trX, y: trY, xt: teX_0, yt: teY_0})\n",
    "        writer.add_summary(summary, epoch)  \n",
    "        \n",
    "        if (log):\n",
    "            print(i,epoch, trn_acc, tst_acc)         \n",
    "        \n",
    "        train_accuracies.append(trn_acc)\n",
    "        test_accuracies.append(tst_acc)\n",
    "\n",
    "        writer.flush()\n",
    "        "
   ]
  },
  {
   "cell_type": "code",
   "execution_count": 17,
   "metadata": {
    "collapsed": true
   },
   "outputs": [],
   "source": [
    "import matplotlib\n",
    "import numpy as np\n",
    "import matplotlib.pyplot as plt\n",
    "%matplotlib inline  "
   ]
  },
  {
   "cell_type": "code",
   "execution_count": 18,
   "metadata": {
    "collapsed": false
   },
   "outputs": [
    {
     "data": {
      "text/plain": [
       "[<matplotlib.lines.Line2D at 0x11d019190>]"
      ]
     },
     "execution_count": 18,
     "metadata": {},
     "output_type": "execute_result"
    },
    {
     "data": {
      "image/png": "[encoded data removed]",
      "text/plain": [
       "<matplotlib.figure.Figure at 0x11d0191d0>"
      ]
     },
     "metadata": {},
     "output_type": "display_data"
    }
   ],
   "source": [
    "plt.plot(train_accuracies)\n",
    "plt.plot(test_accuracies)"
   ]
  },
  {
   "cell_type": "code",
   "execution_count": 19,
   "metadata": {
    "collapsed": true
   },
   "outputs": [],
   "source": [
    "plt.show()"
   ]
  },
  {
   "cell_type": "markdown",
   "metadata": {},
   "source": [
    "### the best error is"
   ]
  },
  {
   "cell_type": "code",
   "execution_count": 20,
   "metadata": {
    "collapsed": false
   },
   "outputs": [
    {
     "data": {
      "text/plain": [
       "0.98909998"
      ]
     },
     "execution_count": 20,
     "metadata": {},
     "output_type": "execute_result"
    }
   ],
   "source": [
    "np.max(test_accuracies)"
   ]
  },
  {
   "cell_type": "code",
   "execution_count": null,
   "metadata": {
    "collapsed": true
   },
   "outputs": [],
   "source": []
  }
 ],
 "metadata": {
  "kernelspec": {
   "display_name": "Python 2",
   "language": "python",
   "name": "python2"
  },
  "language_info": {
   "codemirror_mode": {
    "name": "ipython",
    "version": 2
   },
   "file_extension": ".py",
   "mimetype": "text/x-python",
   "name": "python",
   "nbconvert_exporter": "python",
   "pygments_lexer": "ipython2",
   "version": "2.7.11"
  }
 },
 "nbformat": 4,
 "nbformat_minor": 0
}
