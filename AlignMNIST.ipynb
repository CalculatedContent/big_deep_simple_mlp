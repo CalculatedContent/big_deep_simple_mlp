{
 "cells": [
  {
   "cell_type": "markdown",
   "metadata": {
    "collapsed": true
   },
   "source": [
    "Class to allow epochs of AlignMNIST to be iterated over and loaded into Tensorflow notebooks\n",
    "\n",
    "http://www2.compute.dtu.dk/~sohau/augmentations/\n",
    "\n",
    "TODO:  merge this class and alignmnist.py using notebook read/write"
   ]
  },
  {
   "cell_type": "code",
   "execution_count": 1,
   "metadata": {
    "collapsed": false
   },
   "outputs": [
    {
     "name": "stdout",
     "output_type": "stream",
     "text": [
      "Writing alignmnist.py\n"
     ]
    }
   ],
   "source": [
    "%%writefile  alignmnist.py\n",
    "\n",
    "import numpy as np\n",
    "\n",
    "class AlignMNIST(object):\n",
    "\n",
    "    def __init__(self, filename='alignmnist.npz'):\n",
    "        self._alignmnist_start = 0\n",
    "        self._alignmnist_stop =  self._alignmnist_start + 60000           \n",
    "        self._data = np.load(filename, mmap_mode='r')\n",
    "        \n",
    "    # does not work\n",
    "    def dense_to_one_hot(self, labels_dense, num_classes=10):\n",
    "        \"\"\"Convert class labels from scalars to one-hot vectors.\"\"\"\n",
    "        num_labels = labels_dense.shape[0]\n",
    "        index_offset = np.arange(num_labels) * num_classes\n",
    "        labels_one_hot = np.zeros((num_labels, num_classes))\n",
    "        labels_one_hot.flat[index_offset + labels_dense.ravel()] = 1\n",
    "        return labels_one_hot\n",
    "    \n",
    "    def reshape_images(self, images):\n",
    "        #print images.shape[0], images.shape[1] * images.shape[2]\n",
    "        images = images.reshape(images.shape[0], images.shape[1] * images.shape[2])\n",
    "        # Convert from [0, 255] -> [0.0, 1.0].\n",
    "        images = images.astype(np.float32)\n",
    "        images = np.multiply(images, 1.0 / 255.0)\n",
    "        return images\n",
    "        \n",
    "    def shuffle_epoch(self, images, labels):   \n",
    "        num = labels.shape[0]\n",
    "        pids = np.arange(num)\n",
    "        np.random.shuffle(pids)\n",
    "        images, labels = images[pids], labels[pids]\n",
    "        return images, labels\n",
    "\n",
    "    # we could also just use all the data instead of 55,000\n",
    "    # but the first epoch is always the original data set\n",
    "    def next_epoch(self):\n",
    "\n",
    "        x = self._data['x']\n",
    "        x = x[self._alignmnist_start:self._alignmnist_stop,:,:]\n",
    "        y = self._data['y']\n",
    "        y = y.astype(int)\n",
    "        y = y[self._alignmnist_start:self._alignmnist_stop]\n",
    "        \n",
    "        self._alignmnist_start += 60000\n",
    "        self._alignmnist_stop += 60000\n",
    "\n",
    "        #print x.shape, y.shape\n",
    "        x = self.reshape_images(x)\n",
    "        y = self.dense_to_one_hot(y)\n",
    "        #print x.shape, y.shape\n",
    "                \n",
    "        x_train, y_train = x[0:55000,:], y[0:55000]\n",
    "        x_test, y_test = x[55000:60000,:], y[55000:60000]\n",
    "\n",
    "        #print x_train.shape, y_train.shape, x_test.shape, y_test.shape\n",
    "        x_train, y_train = self.shuffle_epoch(x_train,y_train)\n",
    "        #print x_train.shape, y_train.shape, x_test.shape, y_test.shape\n",
    "        \n",
    "        return x_train, y_train, x_test, y_test"
   ]
  },
  {
   "cell_type": "code",
   "execution_count": 2,
   "metadata": {
    "collapsed": true
   },
   "outputs": [],
   "source": [
    "%run alignmnist.py"
   ]
  },
  {
   "cell_type": "code",
   "execution_count": 3,
   "metadata": {
    "collapsed": true
   },
   "outputs": [],
   "source": [
    "a = AlignMNIST()"
   ]
  },
  {
   "cell_type": "code",
   "execution_count": 4,
   "metadata": {
    "collapsed": false
   },
   "outputs": [],
   "source": [
    "x_train, y_train, x_test, y_test = a.next_epoch()"
   ]
  },
  {
   "cell_type": "code",
   "execution_count": 5,
   "metadata": {
    "collapsed": false
   },
   "outputs": [
    {
     "name": "stdout",
     "output_type": "stream",
     "text": [
      "(55000, 784) (55000, 10) (5000, 784) (5000, 10)\n"
     ]
    }
   ],
   "source": [
    "print x_train.shape, y_train.shape, x_test.shape, y_test.shape"
   ]
  },
  {
   "cell_type": "code",
   "execution_count": 6,
   "metadata": {
    "collapsed": false
   },
   "outputs": [],
   "source": [
    "from matplotlib import pyplot\n",
    "import matplotlib as mpl\n",
    "%matplotlib inline  \n",
    "\n",
    "def show(image): \n",
    "    fig = pyplot.figure()\n",
    "    ax = fig.add_subplot(1,1,1)\n",
    "    imgplot = ax.imshow(image, cmap=mpl.cm.Greys)\n",
    "    imgplot.set_interpolation('nearest')\n",
    "    ax.xaxis.set_ticks_position('top')\n",
    "    ax.yaxis.set_ticks_position('left')\n",
    "    pyplot.show()"
   ]
  },
  {
   "cell_type": "code",
   "execution_count": 7,
   "metadata": {
    "collapsed": false,
    "scrolled": true
   },
   "outputs": [
    {
     "name": "stdout",
     "output_type": "stream",
     "text": [
      "[ 0.  0.  0.  1.  0.  0.  0.  0.  0.  0.]\n"
     ]
    },
    {
     "data": {
      "image/png": "[encoded data removed]",
      "text/plain": [
       "<matplotlib.figure.Figure at 0x1066cd110>"
      ]
     },
     "metadata": {},
     "output_type": "display_data"
    }
   ],
   "source": [
    "image = x_train[0,:]\n",
    "image = image.reshape(28,28)\n",
    "print y_train[0]\n",
    "show(image)"
   ]
  },
  {
   "cell_type": "code",
   "execution_count": 8,
   "metadata": {
    "collapsed": false
   },
   "outputs": [
    {
     "name": "stdout",
     "output_type": "stream",
     "text": [
      "0 (55000, 784) (55000, 10) (5000, 784) (5000, 10)\n",
      "1 (55000, 784) (55000, 10) (5000, 784) (5000, 10)\n",
      "2 (55000, 784) (55000, 10) (5000, 784) (5000, 10)\n",
      "3 (55000, 784) (55000, 10) (5000, 784) (5000, 10)\n",
      "4 (55000, 784) (55000, 10) (5000, 784) (5000, 10)\n",
      "5 (55000, 784) (55000, 10) (5000, 784) (5000, 10)\n",
      "6 (55000, 784) (55000, 10) (5000, 784) (5000, 10)\n",
      "7 (55000, 784) (55000, 10) (5000, 784) (5000, 10)\n",
      "8 (55000, 784) (55000, 10) (5000, 784) (5000, 10)\n",
      "9 (55000, 784) (55000, 10) (5000, 784) (5000, 10)\n",
      "10 (55000, 784) (55000, 10) (5000, 784) (5000, 10)\n",
      "11 (55000, 784) (55000, 10) (5000, 784) (5000, 10)\n",
      "12 (55000, 784) (55000, 10) (5000, 784) (5000, 10)\n",
      "13 (55000, 784) (55000, 10) (5000, 784) (5000, 10)\n",
      "14 (55000, 784) (55000, 10) (5000, 784) (5000, 10)\n",
      "15 (55000, 784) (55000, 10) (5000, 784) (5000, 10)\n",
      "16 (55000, 784) (55000, 10) (5000, 784) (5000, 10)\n",
      "17 (55000, 784) (55000, 10) (5000, 784) (5000, 10)\n",
      "18 (55000, 784) (55000, 10) (5000, 784) (5000, 10)\n",
      "19 (55000, 784) (55000, 10) (5000, 784) (5000, 10)\n",
      "20 (55000, 784) (55000, 10) (5000, 784) (5000, 10)\n",
      "21 (55000, 784) (55000, 10) (5000, 784) (5000, 10)\n",
      "22 (55000, 784) (55000, 10) (5000, 784) (5000, 10)\n",
      "23 (55000, 784) (55000, 10) (5000, 784) (5000, 10)\n",
      "24 (55000, 784) (55000, 10) (5000, 784) (5000, 10)\n",
      "25 (55000, 784) (55000, 10) (5000, 784) (5000, 10)\n",
      "26 (55000, 784) (55000, 10) (5000, 784) (5000, 10)\n",
      "27 (55000, 784) (55000, 10) (5000, 784) (5000, 10)\n",
      "28 (55000, 784) (55000, 10) (5000, 784) (5000, 10)\n",
      "29 (55000, 784) (55000, 10) (5000, 784) (5000, 10)\n",
      "30 (55000, 784) (55000, 10) (5000, 784) (5000, 10)\n",
      "31 (55000, 784) (55000, 10) (5000, 784) (5000, 10)\n",
      "32 (55000, 784) (55000, 10) (5000, 784) (5000, 10)\n",
      "33 (55000, 784) (55000, 10) (5000, 784) (5000, 10)\n",
      "34 (55000, 784) (55000, 10) (5000, 784) (5000, 10)\n",
      "35 (55000, 784) (55000, 10) (5000, 784) (5000, 10)\n",
      "36 (55000, 784) (55000, 10) (5000, 784) (5000, 10)\n",
      "37 (55000, 784) (55000, 10) (5000, 784) (5000, 10)\n",
      "38 (55000, 784) (55000, 10) (5000, 784) (5000, 10)\n",
      "39 (55000, 784) (55000, 10) (5000, 784) (5000, 10)\n",
      "40 (55000, 784) (55000, 10) (5000, 784) (5000, 10)\n",
      "41 (55000, 784) (55000, 10) (5000, 784) (5000, 10)\n",
      "42 (55000, 784) (55000, 10) (5000, 784) (5000, 10)\n",
      "43 (55000, 784) (55000, 10) (5000, 784) (5000, 10)\n",
      "44 (55000, 784) (55000, 10) (5000, 784) (5000, 10)\n",
      "45 (55000, 784) (55000, 10) (5000, 784) (5000, 10)\n",
      "46 (55000, 784) (55000, 10) (5000, 784) (5000, 10)\n",
      "47 (55000, 784) (55000, 10) (5000, 784) (5000, 10)\n",
      "48 (55000, 784) (55000, 10) (5000, 784) (5000, 10)\n",
      "49 (55000, 784) (55000, 10) (5000, 784) (5000, 10)\n",
      "50 (55000, 784) (55000, 10) (5000, 784) (5000, 10)\n",
      "51 (55000, 784) (55000, 10) (5000, 784) (5000, 10)\n",
      "52 (55000, 784) (55000, 10) (5000, 784) (5000, 10)\n",
      "53 (55000, 784) (55000, 10) (5000, 784) (5000, 10)\n",
      "54 (55000, 784) (55000, 10) (5000, 784) (5000, 10)\n",
      "55 (55000, 784) (55000, 10) (5000, 784) (5000, 10)\n",
      "56 (55000, 784) (55000, 10) (5000, 784) (5000, 10)\n",
      "57 (55000, 784) (55000, 10) (5000, 784) (5000, 10)\n",
      "58 (55000, 784) (55000, 10) (5000, 784) (5000, 10)\n",
      "59 (55000, 784) (55000, 10) (5000, 784) (5000, 10)\n",
      "60 (55000, 784) (55000, 10) (5000, 784) (5000, 10)\n",
      "61 (55000, 784) (55000, 10) (5000, 784) (5000, 10)\n",
      "62 (55000, 784) (55000, 10) (5000, 784) (5000, 10)\n",
      "63 (55000, 784) (55000, 10) (5000, 784) (5000, 10)\n",
      "64 (55000, 784) (55000, 10) (5000, 784) (5000, 10)\n",
      "65 (55000, 784) (55000, 10) (5000, 784) (5000, 10)\n",
      "66 (55000, 784) (55000, 10) (5000, 784) (5000, 10)\n",
      "67 (55000, 784) (55000, 10) (5000, 784) (5000, 10)\n",
      "68 (55000, 784) (55000, 10) (5000, 784) (5000, 10)\n",
      "69 (55000, 784) (55000, 10) (5000, 784) (5000, 10)\n",
      "70 (55000, 784) (55000, 10) (5000, 784) (5000, 10)\n",
      "71 (55000, 784) (55000, 10) (5000, 784) (5000, 10)\n",
      "72 (55000, 784) (55000, 10) (5000, 784) (5000, 10)\n",
      "73 (55000, 784) (55000, 10) (5000, 784) (5000, 10)\n",
      "74 (55000, 784) (55000, 10) (5000, 784) (5000, 10)\n"
     ]
    }
   ],
   "source": [
    "for i in range(75):\n",
    "    x_train, y_train, x_test, y_test = a.next_epoch()\n",
    "    print i, x_train.shape, y_train.shape, x_test.shape, y_test.shape"
   ]
  },
  {
   "cell_type": "code",
   "execution_count": null,
   "metadata": {
    "collapsed": true
   },
   "outputs": [],
   "source": []
  },
  {
   "cell_type": "code",
   "execution_count": null,
   "metadata": {
    "collapsed": true
   },
   "outputs": [],
   "source": []
  },
  {
   "cell_type": "code",
   "execution_count": null,
   "metadata": {
    "collapsed": true
   },
   "outputs": [],
   "source": []
  },
  {
   "cell_type": "code",
   "execution_count": null,
   "metadata": {
    "collapsed": true
   },
   "outputs": [],
   "source": []
  }
 ],
 "metadata": {
  "kernelspec": {
   "display_name": "Python 2",
   "language": "python",
   "name": "python2"
  },
  "language_info": {
   "codemirror_mode": {
    "name": "ipython",
    "version": 2
   },
   "file_extension": ".py",
   "mimetype": "text/x-python",
   "name": "python",
   "nbconvert_exporter": "python",
   "pygments_lexer": "ipython2",
   "version": "2.7.11"
  }
 },
 "nbformat": 4,
 "nbformat_minor": 0
}
