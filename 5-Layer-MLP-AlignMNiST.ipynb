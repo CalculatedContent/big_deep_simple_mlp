{
 "cells": [
  {
   "cell_type": "markdown",
   "metadata": {
    "ExecuteTime": {
     "end_time": "2016-04-20T21:52:04.548207",
     "start_time": "2016-04-20T21:52:04.544771"
    }
   },
   "source": [
    "## 5 Layer MLP w/AlignMNIST\n",
    "\n",
    "75 epochs of RMSProp"
   ]
  },
  {
   "cell_type": "code",
   "execution_count": 1,
   "metadata": {
    "ExecuteTime": {
     "end_time": "2016-05-04T22:21:42.303339",
     "start_time": "2016-05-04T22:21:41.057014"
    },
    "collapsed": false
   },
   "outputs": [],
   "source": [
    "import tensorflow as tf\n",
    "import numpy as np\n",
    "import input_data"
   ]
  },
  {
   "cell_type": "code",
   "execution_count": 2,
   "metadata": {
    "ExecuteTime": {
     "end_time": "2016-05-04T22:21:42.307432",
     "start_time": "2016-05-04T22:21:42.304414"
    },
    "collapsed": false
   },
   "outputs": [],
   "source": [
    "%run alignmnist.py"
   ]
  },
  {
   "cell_type": "code",
   "execution_count": 3,
   "metadata": {
    "ExecuteTime": {
     "end_time": "2016-05-04T22:21:42.607897",
     "start_time": "2016-05-04T22:21:42.605546"
    },
    "collapsed": true
   },
   "outputs": [],
   "source": [
    "num_epochs = 75\n",
    "batch_size = 125\n",
    "\n",
    "learning_rate = 0.001"
   ]
  },
  {
   "cell_type": "code",
   "execution_count": 4,
   "metadata": {
    "ExecuteTime": {
     "end_time": "2016-05-04T22:21:43.245224",
     "start_time": "2016-05-04T22:21:43.241142"
    },
    "collapsed": false
   },
   "outputs": [],
   "source": [
    "# Network Parameters\n",
    "n_hidden_1 = 2500\n",
    "n_hidden_2 = 1500\n",
    "n_hidden_3 = 1000\n",
    "n_hidden_4 = 500\n",
    "n_input = 784 # MNIST data input (img shape: 28*28)\n",
    "n_classes = 10 # MNIST total classes (0-9 digits)\n",
    "\n",
    "# maybe there is a better initialization?\n",
    "std_0 = 1.0/np.sqrt(n_input)\n",
    "std_h1 = 1.0/np.sqrt(n_hidden_1)\n",
    "std_h2 = 1.0/np.sqrt(n_hidden_2)\n",
    "std_h3 = 1.0/np.sqrt(n_hidden_3)\n",
    "std_h4 = 1.0/np.sqrt(n_hidden_4)\n",
    "\n",
    "logfile = \"5-layer-mlp-alignmnist\""
   ]
  },
  {
   "cell_type": "code",
   "execution_count": 5,
   "metadata": {
    "ExecuteTime": {
     "end_time": "2016-05-04T22:21:43.727964",
     "start_time": "2016-05-04T22:21:43.721861"
    },
    "collapsed": false
   },
   "outputs": [],
   "source": [
    "# tf Graph input\n",
    "x = tf.placeholder(\"float\", [None, n_input])\n",
    "y = tf.placeholder(\"float\", [None, n_classes])\n",
    "\n",
    "xt = tf.placeholder(\"float\", [None, n_input])\n",
    "yt = tf.placeholder(\"float\", [None, n_classes])"
   ]
  },
  {
   "cell_type": "code",
   "execution_count": 6,
   "metadata": {
    "ExecuteTime": {
     "end_time": "2016-05-04T22:21:44.308399",
     "start_time": "2016-05-04T22:21:44.305404"
    },
    "collapsed": false
   },
   "outputs": [],
   "source": [
    "def multilayer_perceptron(_X, _weights, _biases):\n",
    "    layer_1 = tf.nn.relu(tf.add(tf.matmul(_X, _weights['h1']), _biases['b1'])) \n",
    "    layer_2 = tf.nn.relu(tf.add(tf.matmul(layer_1, _weights['h2']), _biases['b2'])) \n",
    "    layer_3 = tf.nn.relu(tf.add(tf.matmul(layer_2, _weights['h3']), _biases['b3'])) \n",
    "    layer_4 = tf.nn.relu(tf.add(tf.matmul(layer_3, _weights['h4']), _biases['b4'])) \n",
    "    return tf.matmul(layer_4, weights['out']) + biases['out']"
   ]
  },
  {
   "cell_type": "code",
   "execution_count": 7,
   "metadata": {
    "ExecuteTime": {
     "end_time": "2016-05-04T22:21:44.956518",
     "start_time": "2016-05-04T22:21:44.921159"
    },
    "collapsed": false
   },
   "outputs": [],
   "source": [
    "# Store layers weight & bias\n",
    "weights = {\n",
    "    'h1': tf.Variable(tf.random_normal([n_input, n_hidden_1], stddev=std_0)),\n",
    "    'h2': tf.Variable(tf.random_normal([n_hidden_1, n_hidden_2], stddev=std_h1)),\n",
    "    'h3': tf.Variable(tf.random_normal([n_hidden_2, n_hidden_3], stddev=std_h2)),\n",
    "    'h4': tf.Variable(tf.random_normal([n_hidden_3, n_hidden_4], stddev=std_h3)),\n",
    "    'out': tf.Variable(tf.random_normal([n_hidden_4, n_classes], stddev=std_h4))\n",
    "}\n",
    "biases = {\n",
    "    'b1': tf.Variable(tf.random_normal([n_hidden_1], stddev=0.1)),\n",
    "    'b2': tf.Variable(tf.random_normal([n_hidden_2], stddev=0.01)),\n",
    "    'b3': tf.Variable(tf.random_normal([n_hidden_3], stddev=0.01)),\n",
    "    'b4': tf.Variable(tf.random_normal([n_hidden_4], stddev=0.01)),\n",
    "    'out': tf.Variable(tf.random_normal([n_classes], stddev=0.001))\n",
    "}"
   ]
  },
  {
   "cell_type": "code",
   "execution_count": 8,
   "metadata": {
    "ExecuteTime": {
     "end_time": "2016-05-04T22:21:45.346716",
     "start_time": "2016-05-04T22:21:45.336865"
    },
    "collapsed": false,
    "scrolled": false
   },
   "outputs": [],
   "source": [
    "mlp = multilayer_perceptron(x, weights, biases )\n",
    "mlp_test = multilayer_perceptron(xt, weights, biases )"
   ]
  },
  {
   "cell_type": "code",
   "execution_count": 9,
   "metadata": {
    "ExecuteTime": {
     "end_time": "2016-05-04T22:21:45.858972",
     "start_time": "2016-05-04T22:21:45.850052"
    },
    "collapsed": false
   },
   "outputs": [],
   "source": [
    "cost =  tf.reduce_mean(tf.nn.softmax_cross_entropy_with_logits(mlp, y)) \n",
    "gs = tf.get_variable(\"global_step\",[],trainable=False,initializer=tf.constant_initializer(0))\n",
    "lr = tf.constant(learning_rate) "
   ]
  },
  {
   "cell_type": "code",
   "execution_count": 10,
   "metadata": {
    "ExecuteTime": {
     "end_time": "2016-05-04T22:21:46.354400",
     "start_time": "2016-05-04T22:21:46.217038"
    },
    "collapsed": false,
    "scrolled": true
   },
   "outputs": [],
   "source": [
    "train_op = tf.contrib.layers.optimize_loss(cost, global_step=gs, learning_rate=lr,optimizer=\"RMSProp\")"
   ]
  },
  {
   "cell_type": "code",
   "execution_count": 11,
   "metadata": {
    "ExecuteTime": {
     "end_time": "2016-05-04T22:21:46.701651",
     "start_time": "2016-05-04T22:21:46.681418"
    },
    "collapsed": false
   },
   "outputs": [
    {
     "data": {
      "text/plain": [
       "<tf.Tensor 'ScalarSummary_2:0' shape=() dtype=string>"
      ]
     },
     "execution_count": 11,
     "metadata": {},
     "output_type": "execute_result"
    }
   ],
   "source": [
    "#with tf.name_scope(\"training accuracy\"):\n",
    "pred = tf.equal(tf.argmax(mlp, 1), tf.argmax(y, 1)) # Count correct predictions\n",
    "train_acc_op = tf.reduce_mean(tf.cast(pred, \"float\"))  # Cast boolean to float to average\n",
    "tf.scalar_summary(\"training accuracy\", train_acc_op)"
   ]
  },
  {
   "cell_type": "code",
   "execution_count": 12,
   "metadata": {
    "ExecuteTime": {
     "end_time": "2016-05-04T22:21:47.060583",
     "start_time": "2016-05-04T22:21:47.049444"
    },
    "collapsed": false
   },
   "outputs": [
    {
     "data": {
      "text/plain": [
       "<tf.Tensor 'ScalarSummary_3:0' shape=() dtype=string>"
      ]
     },
     "execution_count": 12,
     "metadata": {},
     "output_type": "execute_result"
    }
   ],
   "source": [
    "test_pred = tf.equal(tf.argmax(mlp_test, 1), tf.argmax(yt, 1)) # Count correct predictions\n",
    "test_acc_op = tf.reduce_mean(tf.cast(test_pred, \"float\"))  # Cast boolean to float to average\n",
    "tf.scalar_summary(\"test 0 accuracy\", test_acc_op)"
   ]
  },
  {
   "cell_type": "code",
   "execution_count": 13,
   "metadata": {
    "ExecuteTime": {
     "end_time": "2016-05-04T22:21:48.210893",
     "start_time": "2016-05-04T22:21:48.208976"
    },
    "collapsed": false
   },
   "outputs": [],
   "source": [
    "alignmnist = AlignMNIST()"
   ]
  },
  {
   "cell_type": "code",
   "execution_count": 14,
   "metadata": {
    "ExecuteTime": {
     "end_time": "2016-05-04T22:21:51.522596",
     "start_time": "2016-05-04T22:21:51.288843"
    },
    "collapsed": false
   },
   "outputs": [
    {
     "name": "stdout",
     "output_type": "stream",
     "text": [
      "\u001b[34m2-layer-mlp-alignmnist\u001b[m\u001b[m \u001b[34m5-layer-mlp-infimnist\u001b[m\u001b[m\r\n"
     ]
    }
   ],
   "source": [
    "!rm -rf ./logs/{logfile}\n",
    "!ls logs"
   ]
  },
  {
   "cell_type": "markdown",
   "metadata": {
    "ExecuteTime": {
     "end_time": "2016-05-04T21:57:37.534602",
     "start_time": "2016-05-04T21:57:37.532739"
    },
    "collapsed": true
   },
   "source": [
    "### Original MNIST Data"
   ]
  },
  {
   "cell_type": "code",
   "execution_count": 15,
   "metadata": {
    "ExecuteTime": {
     "end_time": "2016-05-04T22:22:16.521068",
     "start_time": "2016-05-04T22:22:12.792793"
    },
    "collapsed": false,
    "scrolled": true
   },
   "outputs": [],
   "source": [
    "trX_0, trY_0 , teX_0, teY_0 = alignmnist.next_epoch()"
   ]
  },
  {
   "cell_type": "code",
   "execution_count": 16,
   "metadata": {
    "ExecuteTime": {
     "start_time": "2016-05-05T05:22:36.526Z"
    },
    "collapsed": false,
    "scrolled": false
   },
   "outputs": [
    {
     "name": "stdout",
     "output_type": "stream",
     "text": [
      "(0, 0.85280001, 0.917)\n",
      "(1, 0.95307273, 0.9738)\n",
      "(2, 0.95454544, 0.977)\n",
      "(3, 0.97045457, 0.98100001)\n",
      "(4, 0.97634548, 0.98580003)\n",
      "(5, 0.97394544, 0.98479998)\n",
      "(6, 0.97605455, 0.98400003)\n",
      "(7, 0.97554547, 0.98559999)\n",
      "(8, 0.97698182, 0.98619998)\n",
      "(9, 0.98269093, 0.9914)\n",
      "(10, 0.97436363, 0.98460001)\n",
      "(11, 0.95779997, 0.97280002)\n",
      "(12, 0.97876364, 0.98699999)\n",
      "(13, 0.98209089, 0.98879999)\n",
      "(14, 0.97336364, 0.98720002)\n",
      "(15, 0.98025453, 0.98640001)\n",
      "(16, 0.97901821, 0.98659998)\n",
      "(17, 0.96498179, 0.98019999)\n",
      "(18, 0.97727275, 0.98320001)\n",
      "(19, 0.9720909, 0.98460001)\n",
      "(20, 0.98439997, 0.98699999)\n",
      "(21, 0.9787091, 0.98659998)\n",
      "(22, 0.97723639, 0.98280001)\n",
      "(23, 0.97899997, 0.9892)\n",
      "(24, 0.97910911, 0.9874)\n",
      "(25, 0.97841817, 0.98760003)\n",
      "(26, 0.96785456, 0.98119998)\n",
      "(27, 0.97954547, 0.9874)\n",
      "(28, 0.98467273, 0.98799998)\n",
      "(29, 0.9764182, 0.98839998)\n",
      "(30, 0.98232728, 0.98860002)\n",
      "(31, 0.98365456, 0.9878)\n",
      "(32, 0.9829818, 0.9892)\n",
      "(33, 0.93105453, 0.94459999)\n",
      "(34, 0.98323637, 0.9896)\n",
      "(35, 0.98014545, 0.98640001)\n",
      "(36, 0.98625457, 0.991)\n",
      "(37, 0.98574543, 0.99119997)\n",
      "(38, 0.98343635, 0.99000001)\n",
      "(39, 0.98360002, 0.98860002)\n",
      "(40, 0.98438179, 0.98839998)\n",
      "(41, 0.98580003, 0.98979998)\n",
      "(42, 0.98514545, 0.98900002)\n",
      "(43, 0.98885453, 0.99220002)\n",
      "(44, 0.98052728, 0.986)\n",
      "(45, 0.98243636, 0.98699999)\n",
      "(46, 0.98529088, 0.99019998)\n",
      "(47, 0.97838181, 0.98659998)\n",
      "(48, 0.98710907, 0.99040002)\n",
      "(49, 0.98263639, 0.98860002)\n",
      "(50, 0.98636365, 0.99040002)\n",
      "(51, 0.98343635, 0.98839998)\n",
      "(52, 0.98718184, 0.99239999)\n",
      "(53, 0.97514546, 0.98500001)\n",
      "(54, 0.98681819, 0.9896)\n",
      "(55, 0.97830909, 0.98659998)\n",
      "(56, 0.98187274, 0.98680001)\n",
      "(57, 0.98292726, 0.9892)\n",
      "(58, 0.98612726, 0.99080002)\n",
      "(59, 0.98247272, 0.99059999)\n",
      "(60, 0.98558182, 0.98860002)\n",
      "(61, 0.98670912, 0.9914)\n",
      "(62, 0.98281819, 0.98860002)\n",
      "(63, 0.98456365, 0.98519999)\n",
      "(64, 0.97265452, 0.98799998)\n",
      "(65, 0.98241818, 0.98839998)\n",
      "(66, 0.9698, 0.98360002)\n",
      "(67, 0.98832726, 0.99000001)\n",
      "(68, 0.98329091, 0.9896)\n",
      "(69, 0.9762727, 0.98559999)\n",
      "(70, 0.9823091, 0.98680001)\n",
      "(71, 0.98425454, 0.98940003)\n",
      "(72, 0.98425454, 0.99000001)\n",
      "(73, 0.9805091, 0.98900002)\n",
      "(74, 0.98498183, 0.9896)\n"
     ]
    }
   ],
   "source": [
    "test_accuracies = []\n",
    "train_accuracies = []\n",
    "with tf.Session() as sess:\n",
    "    # create a log writer. run 'tensorboard --logdir=./logs/{logfile}'\n",
    "    writer = tf.train.SummaryWriter(\"./logs/{0}\".format(logfile), sess.graph) # for 0.8\n",
    "    merged = tf.merge_all_summaries()\n",
    " \n",
    "    tf.initialize_all_variables().run()\n",
    "\n",
    "    for epoch in range(num_epochs):\n",
    "        trX, trY, teX, teY = alignmnist.next_epoch()\n",
    "      \n",
    "        for start, end in zip(range(0, len(trX), batch_size), range(batch_size, len(trX), batch_size)):\n",
    "            sess.run(train_op, feed_dict={x: trX[start:end], y: trY[start:end]})\n",
    "                 \n",
    "        summary, trn_acc, tst_acc = sess.run([merged, train_acc_op, test_acc_op], feed_dict={x: trX, y: trY, xt: teX_0, yt: teY_0})\n",
    "        writer.add_summary(summary, epoch)  \n",
    "        \n",
    "        print(epoch, trn_acc, tst_acc)\n",
    "        train_accuracies.append(trn_acc)\n",
    "        test_accuracies.append(tst_acc)\n",
    "\n",
    "        writer.flush()\n",
    "        "
   ]
  },
  {
   "cell_type": "code",
   "execution_count": 17,
   "metadata": {
    "collapsed": false
   },
   "outputs": [],
   "source": [
    "import matplotlib\n",
    "import numpy as np\n",
    "import matplotlib.pyplot as plt\n",
    "%matplotlib inline  "
   ]
  },
  {
   "cell_type": "code",
   "execution_count": 18,
   "metadata": {
    "collapsed": false
   },
   "outputs": [
    {
     "data": {
      "text/plain": [
       "[<matplotlib.lines.Line2D at 0x125448710>]"
      ]
     },
     "execution_count": 18,
     "metadata": {},
     "output_type": "execute_result"
    },
    {
     "data": {
      "image/png": "[encoded data removed]",
      "text/plain": [
       "<matplotlib.figure.Figure at 0x125448750>"
      ]
     },
     "metadata": {},
     "output_type": "display_data"
    }
   ],
   "source": [
    "plt.plot(train_accuracies)\n",
    "plt.plot(test_accuracies)"
   ]
  },
  {
   "cell_type": "code",
   "execution_count": 19,
   "metadata": {
    "collapsed": true
   },
   "outputs": [],
   "source": [
    "plt.show()"
   ]
  },
  {
   "cell_type": "markdown",
   "metadata": {},
   "source": [
    "### the best error is"
   ]
  },
  {
   "cell_type": "code",
   "execution_count": 20,
   "metadata": {
    "collapsed": false
   },
   "outputs": [
    {
     "data": {
      "text/plain": [
       "0.99239999"
      ]
     },
     "execution_count": 20,
     "metadata": {},
     "output_type": "execute_result"
    }
   ],
   "source": [
    "np.max(test_accuracies)"
   ]
  },
  {
   "cell_type": "markdown",
   "metadata": {},
   "source": []
  }
 ],
 "metadata": {
  "kernelspec": {
   "display_name": "Python 2",
   "language": "python",
   "name": "python2"
  },
  "language_info": {
   "codemirror_mode": {
    "name": "ipython",
    "version": 2
   },
   "file_extension": ".py",
   "mimetype": "text/x-python",
   "name": "python",
   "nbconvert_exporter": "python",
   "pygments_lexer": "ipython2",
   "version": "2.7.11"
  }
 },
 "nbformat": 4,
 "nbformat_minor": 0
}
