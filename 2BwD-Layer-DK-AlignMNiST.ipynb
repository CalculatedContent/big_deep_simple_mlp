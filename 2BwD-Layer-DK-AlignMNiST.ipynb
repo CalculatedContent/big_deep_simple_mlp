{
 "cells": [
  {
   "cell_type": "markdown",
   "metadata": {
    "ExecuteTime": {
     "end_time": "2016-04-20T21:52:04.548207",
     "start_time": "2016-04-20T21:52:04.544771"
    }
   },
   "source": [
    "## 2 Layer MLP for Dark Knoweldge Experiments w/AlignMNIST\n",
    "\n",
    "75 epochs of RMSProp on AlignMNIST\n",
    "\n",
    "Bigger network with dropout yet, but no weight sharing yet"
   ]
  },
  {
   "cell_type": "code",
   "execution_count": 1,
   "metadata": {
    "ExecuteTime": {
     "end_time": "2016-06-13T16:25:34.046783",
     "start_time": "2016-06-13T16:25:32.095315"
    },
    "collapsed": false
   },
   "outputs": [],
   "source": [
    "import tensorflow as tf\n",
    "import numpy as np"
   ]
  },
  {
   "cell_type": "code",
   "execution_count": 2,
   "metadata": {
    "ExecuteTime": {
     "end_time": "2016-06-13T16:25:34.055210",
     "start_time": "2016-06-13T16:25:34.048899"
    },
    "collapsed": false
   },
   "outputs": [],
   "source": [
    "%run augmentmnist.py"
   ]
  },
  {
   "cell_type": "code",
   "execution_count": 3,
   "metadata": {
    "ExecuteTime": {
     "end_time": "2016-06-13T16:25:34.059576",
     "start_time": "2016-06-13T16:25:34.056520"
    },
    "collapsed": true
   },
   "outputs": [],
   "source": [
    "num_epochs = 75\n",
    "batch_size = 125\n",
    "\n",
    "learning_rate = 0.001\n",
    "dropout_rate = 0.5"
   ]
  },
  {
   "cell_type": "code",
   "execution_count": 4,
   "metadata": {
    "ExecuteTime": {
     "end_time": "2016-06-13T16:26:16.227196",
     "start_time": "2016-06-13T16:26:16.221886"
    },
    "collapsed": false
   },
   "outputs": [],
   "source": [
    "# Network Parameters\n",
    "n_hidden_1 = 1200 # 1st layer num features\n",
    "n_hidden_2 = 1200 # 2nd layer num features\n",
    "n_input = 784 # MNIST data input (img shape: 28*28)\n",
    "n_classes = 10 # MNIST total classes (0-9 digits)\n",
    "\n",
    "std_0  = np.sqrt(6.0/(n_input+n_hidden_1))\n",
    "std_h1 = np.sqrt(6.0/(n_hidden_1+n_hidden_2))\n",
    "std_h2 = np.sqrt(6.0/(n_hidden_2+n_classes))\n",
    "\n",
    "logfile = \"2BwD-layer-dlk-alignmnist\""
   ]
  },
  {
   "cell_type": "code",
   "execution_count": 5,
   "metadata": {
    "ExecuteTime": {
     "end_time": "2016-06-13T16:26:16.914894",
     "start_time": "2016-06-13T16:26:16.908787"
    },
    "collapsed": false
   },
   "outputs": [],
   "source": [
    "# tf Graph input\n",
    "x = tf.placeholder(\"float\", [None, n_input])\n",
    "y = tf.placeholder(\"float\", [None, n_classes])\n",
    "\n",
    "xt = tf.placeholder(\"float\", [None, n_input])\n",
    "yt = tf.placeholder(\"float\", [None, n_classes])"
   ]
  },
  {
   "cell_type": "code",
   "execution_count": 6,
   "metadata": {
    "ExecuteTime": {
     "end_time": "2016-06-13T16:26:17.700023",
     "start_time": "2016-06-13T16:26:17.695091"
    },
    "collapsed": false
   },
   "outputs": [],
   "source": [
    "def multilayer_perceptron(_X, _weights, _biases, _keep_prob):\n",
    "    layer_1 =  tf.nn.dropout(tf.nn.relu(tf.add(tf.matmul(_X, _weights['h1']), _biases['b1'])),  _keep_prob)\n",
    "    layer_2 =  tf.nn.dropout(tf.nn.relu(tf.add(tf.matmul(layer_1, _weights['h2']), _biases['b2'])), _keep_prob)\n",
    "    return tf.matmul(layer_2, weights['out']) + biases['out']"
   ]
  },
  {
   "cell_type": "code",
   "execution_count": 7,
   "metadata": {
    "ExecuteTime": {
     "end_time": "2016-06-13T16:26:18.640449",
     "start_time": "2016-06-13T16:26:18.603604"
    },
    "collapsed": false
   },
   "outputs": [],
   "source": [
    "# Store layers weight & bias\n",
    "weights = {\n",
    "    'h1': tf.Variable(tf.random_normal([n_input, n_hidden_1], stddev=std_0)),\n",
    "    'h2': tf.Variable(tf.random_normal([n_hidden_1, n_hidden_2], stddev=std_h1)),\n",
    "    'out': tf.Variable(tf.random_normal([n_hidden_2, n_classes], stddev=std_h2))\n",
    "}\n",
    "biases = {\n",
    "    'b1': tf.Variable(tf.random_normal([n_hidden_1], stddev=0.1)),\n",
    "    'b2': tf.Variable(tf.random_normal([n_hidden_2], stddev=0.01)),\n",
    "    'out': tf.Variable(tf.random_normal([n_classes], stddev=0.001))\n",
    "}"
   ]
  },
  {
   "cell_type": "code",
   "execution_count": 8,
   "metadata": {
    "ExecuteTime": {
     "end_time": "2016-06-13T16:26:19.499189",
     "start_time": "2016-06-13T16:26:19.463108"
    },
    "collapsed": false,
    "scrolled": false
   },
   "outputs": [],
   "source": [
    "mlp = multilayer_perceptron(x, weights, biases, dropout_rate )\n",
    "mlp_test = multilayer_perceptron(xt, weights, biases ,  dropout_rate )"
   ]
  },
  {
   "cell_type": "code",
   "execution_count": 9,
   "metadata": {
    "ExecuteTime": {
     "end_time": "2016-06-13T16:26:20.093172",
     "start_time": "2016-06-13T16:26:20.081454"
    },
    "collapsed": false
   },
   "outputs": [],
   "source": [
    "cost =  tf.reduce_mean(tf.nn.softmax_cross_entropy_with_logits(mlp, y)) \n",
    "gs = tf.get_variable(\"global_step\",[],trainable=False,initializer=tf.constant_initializer(0))\n",
    "lr = tf.constant(learning_rate) "
   ]
  },
  {
   "cell_type": "code",
   "execution_count": 10,
   "metadata": {
    "ExecuteTime": {
     "end_time": "2016-06-13T16:26:20.754224",
     "start_time": "2016-06-13T16:26:20.603536"
    },
    "collapsed": false,
    "scrolled": true
   },
   "outputs": [],
   "source": [
    "train_op = tf.contrib.layers.optimize_loss(cost, global_step=gs, learning_rate=lr,optimizer=\"RMSProp\")"
   ]
  },
  {
   "cell_type": "code",
   "execution_count": 11,
   "metadata": {
    "ExecuteTime": {
     "end_time": "2016-06-13T16:26:21.179616",
     "start_time": "2016-06-13T16:26:21.161632"
    },
    "collapsed": false
   },
   "outputs": [
    {
     "data": {
      "text/plain": [
       "<tf.Tensor 'ScalarSummary_2:0' shape=() dtype=string>"
      ]
     },
     "execution_count": 11,
     "metadata": {},
     "output_type": "execute_result"
    }
   ],
   "source": [
    "#with tf.name_scope(\"training accuracy\"):\n",
    "pred = tf.equal(tf.argmax(mlp, 1), tf.argmax(y, 1)) # Count correct predictions\n",
    "train_acc_op = tf.reduce_mean(tf.cast(pred, \"float\"))  # Cast boolean to float to average\n",
    "tf.scalar_summary(\"training accuracy\", train_acc_op)"
   ]
  },
  {
   "cell_type": "code",
   "execution_count": 12,
   "metadata": {
    "ExecuteTime": {
     "end_time": "2016-06-13T16:26:21.951592",
     "start_time": "2016-06-13T16:26:21.939976"
    },
    "collapsed": false
   },
   "outputs": [
    {
     "data": {
      "text/plain": [
       "<tf.Tensor 'ScalarSummary_3:0' shape=() dtype=string>"
      ]
     },
     "execution_count": 12,
     "metadata": {},
     "output_type": "execute_result"
    }
   ],
   "source": [
    "test_pred = tf.equal(tf.argmax(mlp_test, 1), tf.argmax(yt, 1)) # Count correct predictions\n",
    "test_acc_op = tf.reduce_mean(tf.cast(test_pred, \"float\"))  # Cast boolean to float to average\n",
    "tf.scalar_summary(\"test 0 accuracy\", test_acc_op)"
   ]
  },
  {
   "cell_type": "code",
   "execution_count": 13,
   "metadata": {
    "ExecuteTime": {
     "end_time": "2016-06-13T16:26:22.877618",
     "start_time": "2016-06-13T16:26:22.639297"
    },
    "collapsed": false
   },
   "outputs": [
    {
     "name": "stdout",
     "output_type": "stream",
     "text": [
      "\u001b[1m\u001b[36m2-layer-dk-alignmnist\u001b[m\u001b[m           \u001b[1m\u001b[36m2-layer-mlp-mnist-watch\u001b[m\u001b[m\r\n",
      "\u001b[1m\u001b[36m2-layer-dlk-alignmnist\u001b[m\u001b[m          \u001b[1m\u001b[36m2-layer-modern-mlp-alignmnist\u001b[m\u001b[m\r\n",
      "\u001b[1m\u001b[36m2-layer-mlp-alignmnist-wdropout\u001b[m\u001b[m \u001b[1m\u001b[36m5-layer-mlp-alignmnist-wdropout\u001b[m\u001b[m\r\n",
      "\u001b[1m\u001b[36m2-layer-mlp-mnist-temp\u001b[m\u001b[m          \u001b[1m\u001b[36m5-layer-mlp-infimnist\u001b[m\u001b[m\r\n"
     ]
    }
   ],
   "source": [
    "!rm -rf ./logs/{logfile}\n",
    "!ls logs"
   ]
  },
  {
   "cell_type": "markdown",
   "metadata": {
    "ExecuteTime": {
     "end_time": "2016-05-04T21:57:37.534602",
     "start_time": "2016-05-04T21:57:37.532739"
    },
    "collapsed": true
   },
   "source": [
    "### Original MNIST Data"
   ]
  },
  {
   "cell_type": "code",
   "execution_count": 14,
   "metadata": {
    "ExecuteTime": {
     "end_time": "2016-06-13T16:26:25.165452",
     "start_time": "2016-06-13T16:26:24.151196"
    },
    "collapsed": false,
    "scrolled": false
   },
   "outputs": [
    {
     "name": "stdout",
     "output_type": "stream",
     "text": [
      "Extracting ./train-images-idx3-ubyte.gz\n",
      "Extracting ./train-labels-idx1-ubyte.gz\n",
      "Extracting ./t10k-images-idx3-ubyte.gz\n",
      "Extracting ./t10k-labels-idx1-ubyte.gz\n"
     ]
    }
   ],
   "source": [
    "from tensorflow.examples.tutorials.mnist import input_data\n",
    "mnist = input_data.read_data_sets(\".\", one_hot=True)\n",
    "trX_0, trY_0 = mnist.train.images, mnist.train.labels\n",
    "teX_0, teY_0 = mnist.test.images, mnist.test.labels"
   ]
  },
  {
   "cell_type": "code",
   "execution_count": 15,
   "metadata": {
    "ExecuteTime": {
     "end_time": "2016-06-13T16:26:25.797795",
     "start_time": "2016-06-13T16:26:25.795079"
    },
    "collapsed": false,
    "scrolled": true
   },
   "outputs": [],
   "source": [
    "alignmnist = AlignMNIST()"
   ]
  },
  {
   "cell_type": "code",
   "execution_count": 16,
   "metadata": {
    "ExecuteTime": {
     "end_time": "2016-06-13T17:19:31.704284",
     "start_time": "2016-06-13T16:26:26.830986"
    },
    "collapsed": false
   },
   "outputs": [
    {
     "name": "stdout",
     "output_type": "stream",
     "text": [
      "(0, 0.94113332, 0.93769997)\n",
      "(1, 0.91923332, 0.95670003)\n",
      "(2, 0.93248332, 0.96280003)\n",
      "(3, 0.93906665, 0.96759999)\n",
      "(4, 0.94316667, 0.9677)\n",
      "(5, 0.94608331, 0.96810001)\n",
      "(6, 0.94503331, 0.97070003)\n",
      "(7, 0.94571668, 0.96759999)\n",
      "(8, 0.94066668, 0.96719998)\n",
      "(9, 0.94800001, 0.9702)\n",
      "(10, 0.94846666, 0.96829998)\n",
      "(11, 0.94700003, 0.9716)\n",
      "(12, 0.94770002, 0.96890002)\n",
      "(13, 0.94870001, 0.97079998)\n",
      "(14, 0.94958335, 0.97149998)\n",
      "(15, 0.94814998, 0.96990001)\n",
      "(16, 0.94910002, 0.97229999)\n",
      "(17, 0.94516665, 0.96939999)\n",
      "(18, 0.94736665, 0.9673)\n",
      "(19, 0.94791669, 0.96939999)\n",
      "(20, 0.94916666, 0.97000003)\n",
      "(21, 0.94536668, 0.96670002)\n",
      "(22, 0.94546664, 0.96880001)\n",
      "(23, 0.94688332, 0.96950001)\n",
      "(24, 0.94910002, 0.97210002)\n",
      "(25, 0.94496667, 0.97060001)\n",
      "(26, 0.94443333, 0.97049999)\n",
      "(27, 0.94685, 0.9716)\n",
      "(28, 0.94956666, 0.97170001)\n",
      "(29, 0.94981664, 0.97229999)\n",
      "(30, 0.94814998, 0.96969998)\n",
      "(31, 0.94951665, 0.97149998)\n",
      "(32, 0.94503331, 0.96710002)\n",
      "(33, 0.94928336, 0.97320002)\n",
      "(34, 0.95069999, 0.97130001)\n",
      "(35, 0.94993335, 0.97140002)\n",
      "(36, 0.94809997, 0.97289997)\n",
      "(37, 0.94848335, 0.97049999)\n",
      "(38, 0.94376665, 0.96929997)\n",
      "(39, 0.94973332, 0.97189999)\n",
      "(40, 0.94950002, 0.96939999)\n",
      "(41, 0.94651669, 0.97000003)\n",
      "(42, 0.94994998, 0.97189999)\n",
      "(43, 0.94823331, 0.9677)\n",
      "(44, 0.95074999, 0.97189999)\n",
      "(45, 0.94884998, 0.97119999)\n",
      "(46, 0.94946665, 0.97079998)\n",
      "(47, 0.94743335, 0.9698)\n",
      "(48, 0.94921666, 0.97170001)\n",
      "(49, 0.94966668, 0.97170001)\n",
      "(50, 0.94566667, 0.97039998)\n",
      "(51, 0.94618332, 0.972)\n",
      "(52, 0.95016664, 0.97350001)\n",
      "(53, 0.95061666, 0.97289997)\n",
      "(54, 0.94896668, 0.97289997)\n",
      "(55, 0.94613332, 0.96820003)\n",
      "(56, 0.94730002, 0.96950001)\n",
      "(57, 0.94773334, 0.97079998)\n",
      "(58, 0.94954997, 0.9709)\n",
      "(59, 0.94373333, 0.96869999)\n",
      "(60, 0.94978333, 0.97070003)\n",
      "(61, 0.94615, 0.9702)\n",
      "(62, 0.95061666, 0.97079998)\n",
      "(63, 0.95066667, 0.9727)\n",
      "(64, 0.94793332, 0.96850002)\n",
      "(65, 0.94781667, 0.9691)\n",
      "(66, 0.94344997, 0.9666)\n",
      "(67, 0.94924998, 0.97049999)\n",
      "(68, 0.94778335, 0.97009999)\n",
      "(69, 0.95074999, 0.97310001)\n",
      "(70, 0.94891667, 0.97229999)\n",
      "(71, 0.94723332, 0.9716)\n",
      "(72, 0.95041668, 0.97060001)\n",
      "(73, 0.9440167, 0.96759999)\n",
      "(74, 0.94730002, 0.96969998)\n"
     ]
    }
   ],
   "source": [
    "test_accuracies = []\n",
    "train_accuracies = []\n",
    "with tf.Session() as sess:\n",
    "    # create a log writer. run 'tensorboard --logdir=./logs/{logfile}'\n",
    "    writer = tf.train.SummaryWriter(\"./logs/{0}\".format(logfile), sess.graph) # for 0.8\n",
    "    merged = tf.merge_all_summaries()\n",
    " \n",
    "    tf.initialize_all_variables().run()\n",
    "\n",
    "    for epoch in range(num_epochs):\n",
    "        trX, trY = alignmnist.next_epoch()\n",
    "      \n",
    "        for start, end in zip(range(0, len(trX), batch_size), range(batch_size, len(trX), batch_size)):\n",
    "            sess.run(train_op, feed_dict={x: trX[start:end], y: trY[start:end]})\n",
    "                 \n",
    "        summary, trn_acc, tst_acc = sess.run([merged, train_acc_op, test_acc_op], feed_dict={x: trX, y: trY, xt: teX_0, yt: teY_0})\n",
    "        writer.add_summary(summary, epoch)  \n",
    "        \n",
    "        print(epoch, trn_acc, tst_acc)\n",
    "        train_accuracies.append(trn_acc)\n",
    "        test_accuracies.append(tst_acc)\n",
    "\n",
    "        writer.flush()\n",
    "        "
   ]
  },
  {
   "cell_type": "code",
   "execution_count": 17,
   "metadata": {
    "ExecuteTime": {
     "end_time": "2016-06-13T22:13:57.788624",
     "start_time": "2016-06-13T22:13:55.718022"
    },
    "collapsed": false
   },
   "outputs": [
    {
     "name": "stderr",
     "output_type": "stream",
     "text": [
      "/Users/charlesmartin14/anaconda2/lib/python2.7/site-packages/matplotlib/font_manager.py:273: UserWarning: Matplotlib is building the font cache using fc-list. This may take a moment.\n",
      "  warnings.warn('Matplotlib is building the font cache using fc-list. This may take a moment.')\n"
     ]
    }
   ],
   "source": [
    "import matplotlib\n",
    "import numpy as np\n",
    "import matplotlib.pyplot as plt\n",
    "%matplotlib inline  "
   ]
  },
  {
   "cell_type": "code",
   "execution_count": 18,
   "metadata": {
    "ExecuteTime": {
     "end_time": "2016-06-13T22:13:58.003452",
     "start_time": "2016-06-13T22:13:57.804911"
    },
    "collapsed": false
   },
   "outputs": [
    {
     "data": {
      "text/plain": [
       "[<matplotlib.lines.Line2D at 0x11e727610>]"
      ]
     },
     "execution_count": 18,
     "metadata": {},
     "output_type": "execute_result"
    },
    {
     "data": {
      "image/png": "[encoded data removed]",
      "text/plain": [
       "<matplotlib.figure.Figure at 0x11e727650>"
      ]
     },
     "metadata": {},
     "output_type": "display_data"
    }
   ],
   "source": [
    "plt.plot(train_accuracies)\n",
    "plt.plot(test_accuracies)"
   ]
  },
  {
   "cell_type": "code",
   "execution_count": 19,
   "metadata": {
    "ExecuteTime": {
     "end_time": "2016-06-13T22:13:59.426419",
     "start_time": "2016-06-13T22:13:59.422033"
    },
    "collapsed": false
   },
   "outputs": [
    {
     "data": {
      "text/plain": [
       "0.97350001"
      ]
     },
     "execution_count": 19,
     "metadata": {},
     "output_type": "execute_result"
    }
   ],
   "source": [
    "np.max(test_accuracies)"
   ]
  },
  {
   "cell_type": "markdown",
   "metadata": {},
   "source": [
    "Number test errors is"
   ]
  },
  {
   "cell_type": "code",
   "execution_count": 20,
   "metadata": {
    "ExecuteTime": {
     "end_time": "2016-06-13T22:14:00.356685",
     "start_time": "2016-06-13T22:14:00.352500"
    },
    "collapsed": false,
    "scrolled": true
   },
   "outputs": [
    {
     "data": {
      "text/plain": [
       "264.9998664855957"
      ]
     },
     "execution_count": 20,
     "metadata": {},
     "output_type": "execute_result"
    }
   ],
   "source": [
    "10000*(1.0-np.max(test_accuracies))"
   ]
  },
  {
   "cell_type": "markdown",
   "metadata": {
    "ExecuteTime": {
     "end_time": "2016-06-13T22:15:04.502616",
     "start_time": "2016-06-13T22:15:04.497878"
    },
    "collapsed": true
   },
   "source": [
    "### why is it significantly worse ?!"
   ]
  },
  {
   "cell_type": "code",
   "execution_count": null,
   "metadata": {
    "collapsed": true
   },
   "outputs": [],
   "source": []
  }
 ],
 "metadata": {
  "kernelspec": {
   "display_name": "Python 2",
   "language": "python",
   "name": "python2"
  },
  "language_info": {
   "codemirror_mode": {
    "name": "ipython",
    "version": 2
   },
   "file_extension": ".py",
   "mimetype": "text/x-python",
   "name": "python",
   "nbconvert_exporter": "python",
   "pygments_lexer": "ipython2",
   "version": "2.7.11"
  }
 },
 "nbformat": 4,
 "nbformat_minor": 0
}
