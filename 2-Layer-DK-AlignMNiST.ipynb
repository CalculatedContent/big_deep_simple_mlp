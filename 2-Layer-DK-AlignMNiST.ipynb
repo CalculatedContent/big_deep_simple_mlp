{
 "cells": [
  {
   "cell_type": "markdown",
   "metadata": {
    "ExecuteTime": {
     "end_time": "2016-04-20T21:52:04.548207",
     "start_time": "2016-04-20T21:52:04.544771"
    }
   },
   "source": [
    "## 2 Layer MLP for Dark Knoweldge Experiments w/AlignMNIST\n",
    "\n",
    "75 epochs of RMSProp\n",
    "\n",
    "Eval extra data first, on same size network"
   ]
  },
  {
   "cell_type": "code",
   "execution_count": 1,
   "metadata": {
    "ExecuteTime": {
     "end_time": "2016-06-13T11:41:22.195643",
     "start_time": "2016-06-13T11:41:20.925794"
    },
    "collapsed": false
   },
   "outputs": [],
   "source": [
    "import tensorflow as tf\n",
    "import numpy as np"
   ]
  },
  {
   "cell_type": "code",
   "execution_count": 2,
   "metadata": {
    "ExecuteTime": {
     "end_time": "2016-06-13T11:41:22.202863",
     "start_time": "2016-06-13T11:41:22.197182"
    },
    "collapsed": false
   },
   "outputs": [],
   "source": [
    "%run augmentmnist.py"
   ]
  },
  {
   "cell_type": "code",
   "execution_count": 3,
   "metadata": {
    "ExecuteTime": {
     "end_time": "2016-06-13T11:41:22.207613",
     "start_time": "2016-06-13T11:41:22.204990"
    },
    "collapsed": true
   },
   "outputs": [],
   "source": [
    "num_epochs = 75\n",
    "batch_size = 125\n",
    "\n",
    "learning_rate = 0.001"
   ]
  },
  {
   "cell_type": "code",
   "execution_count": 4,
   "metadata": {
    "ExecuteTime": {
     "end_time": "2016-06-13T11:41:22.215134",
     "start_time": "2016-06-13T11:41:22.209358"
    },
    "collapsed": false
   },
   "outputs": [],
   "source": [
    "# Network Parameters\n",
    "n_hidden_1 = 800 # 1st layer num features\n",
    "n_hidden_2 = 800 # 2nd layer num features\n",
    "n_input = 784 # MNIST data input (img shape: 28*28)\n",
    "n_classes = 10 # MNIST total classes (0-9 digits)\n",
    "\n",
    "std_0  = np.sqrt(6.0/(n_input+n_hidden_1))\n",
    "std_h1 = np.sqrt(6.0/(n_hidden_1+n_hidden_2))\n",
    "std_h2 = np.sqrt(6.0/(n_hidden_2+n_classes))\n",
    "\n",
    "logfile = \"2-layer-dlk-alignmnist\""
   ]
  },
  {
   "cell_type": "code",
   "execution_count": 5,
   "metadata": {
    "ExecuteTime": {
     "end_time": "2016-06-13T11:41:22.223215",
     "start_time": "2016-06-13T11:41:22.216948"
    },
    "collapsed": false
   },
   "outputs": [],
   "source": [
    "# tf Graph input\n",
    "x = tf.placeholder(\"float\", [None, n_input])\n",
    "y = tf.placeholder(\"float\", [None, n_classes])\n",
    "\n",
    "xt = tf.placeholder(\"float\", [None, n_input])\n",
    "yt = tf.placeholder(\"float\", [None, n_classes])"
   ]
  },
  {
   "cell_type": "code",
   "execution_count": 6,
   "metadata": {
    "ExecuteTime": {
     "end_time": "2016-06-13T11:41:22.229905",
     "start_time": "2016-06-13T11:41:22.225062"
    },
    "collapsed": false
   },
   "outputs": [],
   "source": [
    "def multilayer_perceptron(_X, _weights, _biases):\n",
    "    layer_1 = tf.nn.relu(tf.add(tf.matmul(_X, _weights['h1']), _biases['b1'])) \n",
    "    layer_2 = tf.nn.relu(tf.add(tf.matmul(layer_1, _weights['h2']), _biases['b2'])) \n",
    "    return tf.matmul(layer_2, weights['out']) + biases['out']"
   ]
  },
  {
   "cell_type": "code",
   "execution_count": 7,
   "metadata": {
    "ExecuteTime": {
     "end_time": "2016-06-13T11:41:22.273322",
     "start_time": "2016-06-13T11:41:22.231294"
    },
    "collapsed": false
   },
   "outputs": [],
   "source": [
    "# Store layers weight & bias\n",
    "weights = {\n",
    "    'h1': tf.Variable(tf.random_normal([n_input, n_hidden_1], stddev=std_0)),\n",
    "    'h2': tf.Variable(tf.random_normal([n_hidden_1, n_hidden_2], stddev=std_h1)),\n",
    "    'out': tf.Variable(tf.random_normal([n_hidden_2, n_classes], stddev=std_h2))\n",
    "}\n",
    "biases = {\n",
    "    'b1': tf.Variable(tf.random_normal([n_hidden_1], stddev=0.1)),\n",
    "    'b2': tf.Variable(tf.random_normal([n_hidden_2], stddev=0.01)),\n",
    "    'out': tf.Variable(tf.random_normal([n_classes], stddev=0.001))\n",
    "}"
   ]
  },
  {
   "cell_type": "code",
   "execution_count": 8,
   "metadata": {
    "ExecuteTime": {
     "end_time": "2016-06-13T11:41:22.285464",
     "start_time": "2016-06-13T11:41:22.274578"
    },
    "collapsed": false,
    "scrolled": false
   },
   "outputs": [],
   "source": [
    "mlp = multilayer_perceptron(x, weights, biases )\n",
    "mlp_test = multilayer_perceptron(xt, weights, biases )"
   ]
  },
  {
   "cell_type": "code",
   "execution_count": 9,
   "metadata": {
    "ExecuteTime": {
     "end_time": "2016-06-13T11:41:22.300218",
     "start_time": "2016-06-13T11:41:22.287006"
    },
    "collapsed": false
   },
   "outputs": [],
   "source": [
    "cost =  tf.reduce_mean(tf.nn.softmax_cross_entropy_with_logits(mlp, y)) \n",
    "gs = tf.get_variable(\"global_step\",[],trainable=False,initializer=tf.constant_initializer(0))\n",
    "lr = tf.constant(learning_rate) "
   ]
  },
  {
   "cell_type": "code",
   "execution_count": 10,
   "metadata": {
    "ExecuteTime": {
     "end_time": "2016-06-13T11:41:36.705000",
     "start_time": "2016-06-13T11:41:36.565738"
    },
    "collapsed": false,
    "scrolled": true
   },
   "outputs": [],
   "source": [
    "train_op = tf.contrib.layers.optimize_loss(cost, global_step=gs, learning_rate=lr,optimizer=\"RMSProp\")"
   ]
  },
  {
   "cell_type": "code",
   "execution_count": 11,
   "metadata": {
    "ExecuteTime": {
     "end_time": "2016-06-13T11:41:36.726580",
     "start_time": "2016-06-13T11:41:36.706363"
    },
    "collapsed": false
   },
   "outputs": [
    {
     "data": {
      "text/plain": [
       "<tf.Tensor 'ScalarSummary_2:0' shape=() dtype=string>"
      ]
     },
     "execution_count": 11,
     "metadata": {},
     "output_type": "execute_result"
    }
   ],
   "source": [
    "#with tf.name_scope(\"training accuracy\"):\n",
    "pred = tf.equal(tf.argmax(mlp, 1), tf.argmax(y, 1)) # Count correct predictions\n",
    "train_acc_op = tf.reduce_mean(tf.cast(pred, \"float\"))  # Cast boolean to float to average\n",
    "tf.scalar_summary(\"training accuracy\", train_acc_op)"
   ]
  },
  {
   "cell_type": "code",
   "execution_count": 12,
   "metadata": {
    "ExecuteTime": {
     "end_time": "2016-06-13T11:41:36.867225",
     "start_time": "2016-06-13T11:41:36.852334"
    },
    "collapsed": false
   },
   "outputs": [
    {
     "data": {
      "text/plain": [
       "<tf.Tensor 'ScalarSummary_3:0' shape=() dtype=string>"
      ]
     },
     "execution_count": 12,
     "metadata": {},
     "output_type": "execute_result"
    }
   ],
   "source": [
    "test_pred = tf.equal(tf.argmax(mlp_test, 1), tf.argmax(yt, 1)) # Count correct predictions\n",
    "test_acc_op = tf.reduce_mean(tf.cast(test_pred, \"float\"))  # Cast boolean to float to average\n",
    "tf.scalar_summary(\"test 0 accuracy\", test_acc_op)"
   ]
  },
  {
   "cell_type": "code",
   "execution_count": 13,
   "metadata": {
    "ExecuteTime": {
     "end_time": "2016-06-13T11:41:37.240735",
     "start_time": "2016-06-13T11:41:37.003741"
    },
    "collapsed": false
   },
   "outputs": [
    {
     "name": "stdout",
     "output_type": "stream",
     "text": [
      "\u001b[34m2-layer-mlp-alignmnist\u001b[m\u001b[m \u001b[34m5-layer-mlp-alignmnist\u001b[m\u001b[m\r\n",
      "\u001b[34m2-layer-mlp-infimnist\u001b[m\u001b[m  \u001b[34m5-layer-mlp-infimnist\u001b[m\u001b[m\r\n"
     ]
    }
   ],
   "source": [
    "!rm -rf ./logs/{logfile}\n",
    "!ls logs"
   ]
  },
  {
   "cell_type": "markdown",
   "metadata": {
    "ExecuteTime": {
     "end_time": "2016-05-04T21:57:37.534602",
     "start_time": "2016-05-04T21:57:37.532739"
    },
    "collapsed": true
   },
   "source": [
    "### Original MNIST Data"
   ]
  },
  {
   "cell_type": "code",
   "execution_count": 14,
   "metadata": {
    "ExecuteTime": {
     "end_time": "2016-06-13T11:41:39.384250",
     "start_time": "2016-06-13T11:41:38.452026"
    },
    "collapsed": false,
    "scrolled": true
   },
   "outputs": [
    {
     "name": "stdout",
     "output_type": "stream",
     "text": [
      "Extracting ./train-images-idx3-ubyte.gz\n",
      "Extracting ./train-labels-idx1-ubyte.gz\n",
      "Extracting ./t10k-images-idx3-ubyte.gz\n",
      "Extracting ./t10k-labels-idx1-ubyte.gz\n"
     ]
    }
   ],
   "source": [
    "from tensorflow.examples.tutorials.mnist import input_data\n",
    "mnist = input_data.read_data_sets(\".\", one_hot=True)\n",
    "trX_0, trY_0 = mnist.train.images, mnist.train.labels\n",
    "teX_0, teY_0 = mnist.test.images, mnist.test.labels"
   ]
  },
  {
   "cell_type": "code",
   "execution_count": null,
   "metadata": {
    "collapsed": true
   },
   "outputs": [],
   "source": []
  },
  {
   "cell_type": "code",
   "execution_count": 15,
   "metadata": {
    "ExecuteTime": {
     "end_time": "2016-06-13T11:41:39.517621",
     "start_time": "2016-06-13T11:41:39.514257"
    },
    "collapsed": false,
    "scrolled": true
   },
   "outputs": [],
   "source": [
    "alignmnist = AlignMNIST()"
   ]
  },
  {
   "cell_type": "code",
   "execution_count": 16,
   "metadata": {
    "ExecuteTime": {
     "end_time": "2016-06-13T11:47:34.431224",
     "start_time": "2016-06-13T11:41:46.812423"
    },
    "collapsed": false
   },
   "outputs": [
    {
     "name": "stdout",
     "output_type": "stream",
     "text": [
      "(0, 0.97108334, 0.96319997)\n",
      "(1, 0.96214998, 0.97640002)\n",
      "(2, 0.97236669, 0.98009998)\n",
      "(3, 0.97483331, 0.9831)\n",
      "(4, 0.97855002, 0.98299998)\n",
      "(5, 0.98044997, 0.98479998)\n",
      "(6, 0.98294997, 0.98629999)\n",
      "(7, 0.98183334, 0.98699999)\n",
      "(8, 0.97925001, 0.98409998)\n",
      "(9, 0.98268336, 0.98629999)\n",
      "(10, 0.98040003, 0.98500001)\n",
      "(11, 0.98363334, 0.98549998)\n",
      "(12, 0.98479998, 0.98699999)\n",
      "(13, 0.98316669, 0.98619998)\n",
      "(14, 0.97815001, 0.9817)\n",
      "(15, 0.98456669, 0.98799998)\n",
      "(16, 0.98154998, 0.9842)\n",
      "(17, 0.97898334, 0.98449999)\n",
      "(18, 0.98654997, 0.98940003)\n",
      "(19, 0.98245001, 0.98439997)\n",
      "(20, 0.98091668, 0.98460001)\n",
      "(21, 0.98548335, 0.98860002)\n",
      "(22, 0.98708332, 0.98769999)\n",
      "(23, 0.98656666, 0.9892)\n",
      "(24, 0.98521668, 0.98519999)\n",
      "(25, 0.98616666, 0.98860002)\n",
      "(26, 0.97931665, 0.98390001)\n",
      "(27, 0.98733336, 0.9892)\n",
      "(28, 0.98273331, 0.98750001)\n",
      "(29, 0.97896665, 0.98439997)\n",
      "(30, 0.98436666, 0.98720002)\n",
      "(31, 0.98438334, 0.98809999)\n",
      "(32, 0.98693335, 0.98940003)\n",
      "(33, 0.98796666, 0.98940003)\n",
      "(34, 0.98711669, 0.98930001)\n",
      "(35, 0.98346668, 0.98439997)\n",
      "(36, 0.98594999, 0.98640001)\n",
      "(37, 0.98141664, 0.98409998)\n",
      "(38, 0.98643333, 0.9878)\n",
      "(39, 0.98633331, 0.9885)\n",
      "(40, 0.98839998, 0.98790002)\n",
      "(41, 0.98385, 0.98400003)\n",
      "(42, 0.98755002, 0.9892)\n",
      "(43, 0.98618335, 0.98769999)\n",
      "(44, 0.98753333, 0.9885)\n",
      "(45, 0.98326665, 0.98589998)\n",
      "(46, 0.98491669, 0.98640001)\n",
      "(47, 0.98301667, 0.98500001)\n",
      "(48, 0.98571664, 0.98699999)\n",
      "(49, 0.98563331, 0.9885)\n",
      "(50, 0.98408335, 0.98570001)\n",
      "(51, 0.98473334, 0.98860002)\n",
      "(52, 0.98675001, 0.98750001)\n",
      "(53, 0.98734999, 0.98799998)\n",
      "(54, 0.98014998, 0.9831)\n",
      "(55, 0.98483336, 0.98610002)\n",
      "(56, 0.98828334, 0.98900002)\n",
      "(57, 0.98536664, 0.9878)\n",
      "(58, 0.98659998, 0.98890001)\n",
      "(59, 0.98795003, 0.9896)\n",
      "(60, 0.98463333, 0.98680001)\n",
      "(61, 0.98760003, 0.98720002)\n",
      "(62, 0.97866666, 0.98549998)\n",
      "(63, 0.98540002, 0.98839998)\n",
      "(64, 0.98608333, 0.98830003)\n",
      "(65, 0.98636669, 0.9874)\n",
      "(66, 0.9885, 0.98890001)\n",
      "(67, 0.98696667, 0.98820001)\n",
      "(68, 0.98673332, 0.98970002)\n",
      "(69, 0.98570001, 0.98860002)\n",
      "(70, 0.98316669, 0.98659998)\n",
      "(71, 0.98798335, 0.98879999)\n",
      "(72, 0.98633331, 0.98689997)\n",
      "(73, 0.98764998, 0.9892)\n",
      "(74, 0.98833334, 0.98940003)\n"
     ]
    }
   ],
   "source": [
    "test_accuracies = []\n",
    "train_accuracies = []\n",
    "with tf.Session() as sess:\n",
    "    # create a log writer. run 'tensorboard --logdir=./logs/{logfile}'\n",
    "    writer = tf.train.SummaryWriter(\"./logs/{0}\".format(logfile), sess.graph) # for 0.8\n",
    "    merged = tf.merge_all_summaries()\n",
    " \n",
    "    tf.initialize_all_variables().run()\n",
    "\n",
    "    for epoch in range(num_epochs):\n",
    "        trX, trY = alignmnist.next_epoch()\n",
    "      \n",
    "        for start, end in zip(range(0, len(trX), batch_size), range(batch_size, len(trX), batch_size)):\n",
    "            sess.run(train_op, feed_dict={x: trX[start:end], y: trY[start:end]})\n",
    "                 \n",
    "        summary, trn_acc, tst_acc = sess.run([merged, train_acc_op, test_acc_op], feed_dict={x: trX, y: trY, xt: teX_0, yt: teY_0})\n",
    "        writer.add_summary(summary, epoch)  \n",
    "        \n",
    "        print(epoch, trn_acc, tst_acc)\n",
    "        train_accuracies.append(trn_acc)\n",
    "        test_accuracies.append(tst_acc)\n",
    "\n",
    "        writer.flush()\n",
    "        "
   ]
  },
  {
   "cell_type": "code",
   "execution_count": 17,
   "metadata": {
    "ExecuteTime": {
     "end_time": "2016-06-13T11:47:34.432223",
     "start_time": "2016-06-13T18:41:47.546Z"
    },
    "collapsed": false
   },
   "outputs": [],
   "source": [
    "import matplotlib\n",
    "import numpy as np\n",
    "import matplotlib.pyplot as plt\n",
    "%matplotlib inline  "
   ]
  },
  {
   "cell_type": "code",
   "execution_count": 18,
   "metadata": {
    "ExecuteTime": {
     "end_time": "2016-06-13T11:47:34.432647",
     "start_time": "2016-06-13T18:41:47.697Z"
    },
    "collapsed": false
   },
   "outputs": [
    {
     "data": {
      "text/plain": [
       "[<matplotlib.lines.Line2D at 0x11ccd2c90>]"
      ]
     },
     "execution_count": 18,
     "metadata": {},
     "output_type": "execute_result"
    },
    {
     "data": {
      "image/png": "[encoded data removed]",
      "text/plain": [
       "<matplotlib.figure.Figure at 0x11ccd2cd0>"
      ]
     },
     "metadata": {},
     "output_type": "display_data"
    }
   ],
   "source": [
    "plt.plot(train_accuracies)\n",
    "plt.plot(test_accuracies)"
   ]
  },
  {
   "cell_type": "code",
   "execution_count": 19,
   "metadata": {
    "ExecuteTime": {
     "end_time": "2016-06-13T11:47:34.433373",
     "start_time": "2016-06-13T18:41:48.203Z"
    },
    "collapsed": false
   },
   "outputs": [
    {
     "data": {
      "text/plain": [
       "0.98970002"
      ]
     },
     "execution_count": 19,
     "metadata": {},
     "output_type": "execute_result"
    }
   ],
   "source": [
    "np.max(test_accuracies)"
   ]
  },
  {
   "cell_type": "markdown",
   "metadata": {},
   "source": [
    "Number test errors is"
   ]
  },
  {
   "cell_type": "code",
   "execution_count": 20,
   "metadata": {
    "ExecuteTime": {
     "end_time": "2016-06-13T11:47:34.433755",
     "start_time": "2016-06-13T18:42:01.002Z"
    },
    "collapsed": false
   },
   "outputs": [
    {
     "data": {
      "text/plain": [
       "102.99980640411377"
      ]
     },
     "execution_count": 20,
     "metadata": {},
     "output_type": "execute_result"
    }
   ],
   "source": [
    "10000*(1.0-np.max(test_accuracies))"
   ]
  },
  {
   "cell_type": "code",
   "execution_count": null,
   "metadata": {
    "collapsed": true
   },
   "outputs": [],
   "source": []
  }
 ],
 "metadata": {
  "kernelspec": {
   "display_name": "Python 2",
   "language": "python",
   "name": "python2"
  },
  "language_info": {
   "codemirror_mode": {
    "name": "ipython",
    "version": 2
   },
   "file_extension": ".py",
   "mimetype": "text/x-python",
   "name": "python",
   "nbconvert_exporter": "python",
   "pygments_lexer": "ipython2",
   "version": "2.7.11"
  }
 },
 "nbformat": 4,
 "nbformat_minor": 0
}
