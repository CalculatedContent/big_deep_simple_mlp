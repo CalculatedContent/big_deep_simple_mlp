{
 "cells": [
  {
   "cell_type": "markdown",
   "metadata": {
    "ExecuteTime": {
     "end_time": "2016-04-20T21:52:04.548207",
     "start_time": "2016-04-20T21:52:04.544771"
    }
   },
   "source": [
    "### Simple MLP 8\n",
    "\n",
    "Testing new infimnist on every epoch\n",
    "\n",
    "RMSProp solver with DropOut\n",
    "\n",
    "2500, 2000, 1500, 1000, 500\n",
    "\n",
    "100 epochs\n",
    "\n",
    "see:  https://github.com/nlintz/TensorFlow-Tutorials/blob/master/4_modern_net.py\n",
    "\n"
   ]
  },
  {
   "cell_type": "code",
   "execution_count": 3,
   "metadata": {
    "ExecuteTime": {
     "end_time": "2016-04-24T21:21:29.048550",
     "start_time": "2016-04-24T21:21:29.046374"
    },
    "collapsed": true
   },
   "outputs": [],
   "source": [
    "# A Multilayer Perceptron implementation example using TensorFlow library.\n",
    "# This example is using the MNIST database of handwritten digits\n",
    "# (http://yann.lecun.com/exdb/mnist/)=\n",
    "\n",
    "\n",
    "# Author: Aymeric Damien\n",
    "# Project: https://github.com/aymericdamien/TensorFlow-Examples/"
   ]
  },
  {
   "cell_type": "code",
   "execution_count": 4,
   "metadata": {
    "ExecuteTime": {
     "end_time": "2016-04-24T21:21:31.052805",
     "start_time": "2016-04-24T21:21:29.335718"
    },
    "collapsed": false
   },
   "outputs": [],
   "source": [
    "import tensorflow as tf\n",
    "import numpy as np\n",
    "import input_data"
   ]
  },
  {
   "cell_type": "code",
   "execution_count": 5,
   "metadata": {
    "ExecuteTime": {
     "end_time": "2016-04-24T21:21:31.074453",
     "start_time": "2016-04-24T21:21:31.053892"
    },
    "collapsed": false,
    "scrolled": false
   },
   "outputs": [],
   "source": [
    "import os\n",
    "from subprocess import Popen\n",
    "INFIMNIST = '/Users/charlesmartin14/packages/infimnist/infimnist -d /Users/charlesmartin14/packages/infimnist/data '\n",
    "\n",
    "class InfiMNIST(object):\n",
    "\n",
    "    def __init__(self):\n",
    "        self.data_dir = \".\"\n",
    "        self._infimnist_start = 10000\n",
    "        self._infimnist_stop =  self._infimnist_start + 59999\n",
    "\n",
    "    def next_epoch(self):\n",
    "        #print \"creating infimnist pat files %d - %d\" % (self._infimnist_start, self._infimnist_stop)\n",
    "        lab_file = os.path.join(self.data_dir, 'infimnist-labels')\n",
    "        pat_file = os.path.join(self.data_dir, 'infimnist-images')\n",
    "        \n",
    "        # execute cmd \n",
    "        \n",
    "        with open(lab_file, 'wb') as out:\n",
    "            cmd = \"{} lab {} {} \".format(INFIMNIST, self._infimnist_start, self._infimnist_stop)\n",
    "            #print cmd\n",
    "            Popen(cmd, shell=True, stdout=out, cwd=self.data_dir).wait()\n",
    "            \n",
    "        with open(pat_file, 'wb') as out:\n",
    "            cmd = \"{} pat {} {} \".format(INFIMNIST, self._infimnist_start, self._infimnist_stop)\n",
    "            #print cmd\n",
    "            Popen(cmd, shell=True, stdout=out, cwd=self.data_dir).wait()\n",
    "        \n",
    "        cmd1 = \"rm infimnist-labels.gz infimnist-images.gz mnist-labels.gz mnist-images.gz\"\n",
    "        cmd2 = \"gzip -f infimnist-labels infimnist-images\"\n",
    "        cmd3 = \"ln -s infimnist-labels.gz  mnist-labels.gz\"\n",
    "        cmd4 = \"ln -s infimnist-images.gz  mnist-images.gz\"\n",
    "\n",
    "        os.system(cmd1)\n",
    "        os.system(cmd2)\n",
    "        os.system(cmd3)\n",
    "        os.system(cmd4)\n",
    "        \n",
    "        self._infimnist_start = self._infimnist_stop + 1\n",
    "        self._infimnist_stop =  self._infimnist_start + 59999\n"
   ]
  },
  {
   "cell_type": "code",
   "execution_count": 6,
   "metadata": {
    "ExecuteTime": {
     "end_time": "2016-04-24T21:21:31.077596",
     "start_time": "2016-04-24T21:21:31.075666"
    },
    "collapsed": false
   },
   "outputs": [],
   "source": [
    "infiminst = InfiMNIST()"
   ]
  },
  {
   "cell_type": "code",
   "execution_count": 7,
   "metadata": {
    "ExecuteTime": {
     "end_time": "2016-04-24T21:21:31.208859",
     "start_time": "2016-04-24T21:21:31.206293"
    },
    "collapsed": true
   },
   "outputs": [],
   "source": [
    "# Parameters\n",
    "learning_rate = 0.001\n",
    "training_epochs = 100\n",
    "batch_size = 100\n",
    "display_step = 1\n",
    "total_batch = 55000/100"
   ]
  },
  {
   "cell_type": "code",
   "execution_count": 8,
   "metadata": {
    "ExecuteTime": {
     "end_time": "2016-04-24T21:21:31.828821",
     "start_time": "2016-04-24T21:21:31.822993"
    },
    "collapsed": false
   },
   "outputs": [],
   "source": [
    "# Network Parameters\n",
    "n_hidden_1 = 2500\n",
    "n_hidden_2 = 2000 \n",
    "n_hidden_3 = 1500\n",
    "n_hidden_4 = 1000 \n",
    "n_hidden_5 =  500 \n",
    "\n",
    "n_input = 784 # MNIST data input (img shape: 28*28)\n",
    "n_classes = 10 # MNIST total classes (0-9 digits)\n",
    "\n",
    "std_0 = 1.0/np.sqrt(n_input)\n",
    "std_h1 = 1.0/np.sqrt(n_hidden_1)\n",
    "std_h2 = 1.0/np.sqrt(n_hidden_2)\n",
    "std_h3 = 1.0/np.sqrt(n_hidden_3)\n",
    "std_h4 = 1.0/np.sqrt(n_hidden_4)\n",
    "std_h5 = 1.0/np.sqrt(n_hidden_5)"
   ]
  },
  {
   "cell_type": "code",
   "execution_count": 9,
   "metadata": {
    "ExecuteTime": {
     "end_time": "2016-04-24T21:21:33.179419",
     "start_time": "2016-04-24T21:21:33.174907"
    },
    "collapsed": false
   },
   "outputs": [],
   "source": [
    "# tf Graph input\n",
    "x = tf.placeholder(\"float\", [None, n_input])\n",
    "y = tf.placeholder(\"float\", [None, n_classes])"
   ]
  },
  {
   "cell_type": "code",
   "execution_count": 10,
   "metadata": {
    "ExecuteTime": {
     "end_time": "2016-04-24T21:21:33.786126",
     "start_time": "2016-04-24T21:21:33.782261"
    },
    "collapsed": true
   },
   "outputs": [],
   "source": [
    "# dropout parameters\n",
    "pv = tf.placeholder(\"float\")\n",
    "ph = tf.placeholder(\"float\")"
   ]
  },
  {
   "cell_type": "code",
   "execution_count": 11,
   "metadata": {
    "ExecuteTime": {
     "end_time": "2016-04-24T21:22:24.997585",
     "start_time": "2016-04-24T21:22:24.981098"
    },
    "collapsed": true
   },
   "outputs": [],
   "source": [
    "def multilayer_perceptron(_X, _weights, _biases, _pv, _ph):\n",
    "\n",
    "    _Xd = tf.nn.dropout(_X, _pv)\n",
    "    \n",
    "    layer_1 = tf.nn.relu(tf.add(tf.matmul(_Xd, _weights['h1']), _biases['b1'])) \n",
    "    layer_1d =  tf.nn.dropout(layer_1, _ph)\n",
    "    \n",
    "    layer_2 = tf.nn.relu(tf.add(tf.matmul(layer_1d, _weights['h2']), _biases['b2'])) \n",
    "    layer_2d =  tf.nn.dropout(layer_2, _ph)\n",
    "    \n",
    "    layer_3 = tf.nn.relu(tf.add(tf.matmul(layer_2d, _weights['h3']), _biases['b3'])) \n",
    "    layer_3d =  tf.nn.dropout(layer_3, _ph)\n",
    "    \n",
    "    layer_4 = tf.nn.relu(tf.add(tf.matmul(layer_3d, _weights['h4']), _biases['b4'])) \n",
    "    layer_4d =  tf.nn.dropout(layer_4, _ph)\n",
    "    \n",
    "    layer_5 = tf.nn.relu(tf.add(tf.matmul(layer_4d, _weights['h5']), _biases['b5'])) \n",
    "    layer_5d =  tf.nn.dropout(layer_5, _ph)\n",
    "\n",
    "    \n",
    "    return tf.matmul(layer_5d, weights['out']) + biases['out']"
   ]
  },
  {
   "cell_type": "code",
   "execution_count": 10,
   "metadata": {
    "ExecuteTime": {
     "end_time": "2016-04-24T21:11:10.205364",
     "start_time": "2016-04-24T21:11:10.167576"
    },
    "collapsed": false
   },
   "outputs": [],
   "source": [
    "# Store layers weight & bias\n",
    "weights = {\n",
    "    'h1': tf.Variable(tf.random_normal([n_input, n_hidden_1], stddev=std_0)),\n",
    "    'h2': tf.Variable(tf.random_normal([n_hidden_1, n_hidden_2], stddev=std_h1)),\n",
    "    \n",
    "    'h3': tf.Variable(tf.random_normal([n_hidden_1, n_hidden_3], stddev=std_h2)),\n",
    "    'h4': tf.Variable(tf.random_normal([n_hidden_1, n_hidden_4], stddev=std_h3)),\n",
    "    'h5': tf.Variable(tf.random_normal([n_hidden_1, n_hidden_5], stddev=std_h4)),\n",
    "\n",
    "    'out': tf.Variable(tf.random_normal([n_hidden_5, n_classes], stddev=std_h5))\n",
    "}\n",
    "biases = {\n",
    "    'b1': tf.Variable(tf.random_normal([n_hidden_1], stddev=std_h1)),\n",
    "    'b2': tf.Variable(tf.random_normal([n_hidden_2], stddev=std_h2)),\n",
    "        'b2': tf.Variable(tf.random_normal([n_hidden_2], stddev=std_h2)),\n",
    "\n",
    "        'b2': tf.Variable(tf.random_normal([n_hidden_2], stddev=std_h2)),\n",
    "\n",
    "    \n",
    "    'out': tf.Variable(tf.random_normal([n_classes], stddev=std_0))\n",
    "}\n"
   ]
  },
  {
   "cell_type": "code",
   "execution_count": 13,
   "metadata": {
    "ExecuteTime": {
     "end_time": "2016-04-24T21:11:14.347114",
     "start_time": "2016-04-24T21:11:14.326953"
    },
    "collapsed": false,
    "scrolled": false
   },
   "outputs": [],
   "source": [
    "# Construct model\n",
    "pred = multilayer_perceptron(x, weights, biases, pv, ph )"
   ]
  },
  {
   "cell_type": "code",
   "execution_count": 14,
   "metadata": {
    "ExecuteTime": {
     "end_time": "2016-04-24T21:11:28.160406",
     "start_time": "2016-04-24T21:11:28.063239"
    },
    "collapsed": false
   },
   "outputs": [],
   "source": [
    "# Define loss and optimizer\n",
    "# Softmax loss\n",
    "cost = tf.reduce_mean(tf.nn.softmax_cross_entropy_with_logits(pred, y)) \n",
    "\n",
    "optimizer = tf.train.RMSPropOptimizer(learning_rate=learning_rate).minimize(cost) "
   ]
  },
  {
   "cell_type": "code",
   "execution_count": 15,
   "metadata": {
    "ExecuteTime": {
     "end_time": "2016-04-24T21:11:30.384798",
     "start_time": "2016-04-24T21:11:30.382055"
    },
    "collapsed": true
   },
   "outputs": [],
   "source": [
    "# Initializing the variables\n",
    "init = tf.initialize_all_variables()"
   ]
  },
  {
   "cell_type": "code",
   "execution_count": null,
   "metadata": {
    "ExecuteTime": {
     "start_time": "2016-04-25T04:11:31.156Z"
    },
    "collapsed": false,
    "scrolled": true
   },
   "outputs": [
    {
     "name": "stdout",
     "output_type": "stream",
     "text": [
      "Epoch: 0001 cost= 0.521421121\n",
      "Accuracy: 0.9432\n",
      "Epoch: 0002 cost= 0.106560695\n",
      "Accuracy: 0.9652\n",
      "Epoch: 0003 cost= 0.063977638\n",
      "Accuracy:"
     ]
    }
   ],
   "source": [
    "# Launch the graph\n",
    "import input_data\n",
    "\n",
    "accs = []\n",
    "with tf.Session() as sess:\n",
    "    sess.run(init)\n",
    "\n",
    "    # Training cycle\n",
    "    for epoch in range(training_epochs):\n",
    "        infiminst.next_epoch()\n",
    "        mnist = input_data.read_data_sets(\".\", one_hot=True)\n",
    "        avg_cost = 0.0\n",
    "        # Loop over all batches\n",
    "        for i in range(total_batch):\n",
    "            batch_xs, batch_ys = mnist.train.next_batch(batch_size)\n",
    "            # Fit training using batch data\n",
    "            sess.run(optimizer, feed_dict={x: batch_xs, y: batch_ys, pv: 0.8, ph: 0.5})\n",
    "            # Compute average loss\n",
    "            avg_cost += sess.run(cost, feed_dict={x: batch_xs, y: batch_ys, pv: 1.0, ph: 1.0})/total_batch\n",
    "            \n",
    "        # Display logs per epoch step\n",
    "        if epoch % display_step == 0:\n",
    "            print \"Epoch:\", '%04d' % (epoch+1), \"cost=\", \"{:.9f}\".format(avg_cost)\n",
    "            correct_prediction = tf.equal(tf.argmax(pred, 1), tf.argmax(y, 1))\n",
    "            accuracy = tf.reduce_mean(tf.cast(correct_prediction, \"float\"))\n",
    "            a = accuracy.eval(feed_dict={x: mnist.test.images, y: mnist.test.labels, pv:1.0, ph:1.0})\n",
    "            accs.append(a)\n",
    "            print \"Accuracy:\", a\n",
    "\n",
    "    # Test model\n",
    "    correct_prediction = tf.equal(tf.argmax(pred, 1), tf.argmax(y, 1))\n",
    "    # Calculate accuracy\n",
    "    accuracy = tf.reduce_mean(tf.cast(correct_prediction, \"float\"))\n",
    "    print \"Accuracy:\", accuracy.eval({x: mnist.test.images, y: mnist.test.labels, pv:1.0, ph:1.0})"
   ]
  },
  {
   "cell_type": "code",
   "execution_count": null,
   "metadata": {
    "ExecuteTime": {
     "start_time": "2016-04-25T04:11:34.355Z"
    },
    "collapsed": false
   },
   "outputs": [],
   "source": [
    "import matplotlib\n",
    "import numpy as np\n",
    "import matplotlib.pyplot as plt\n",
    "%matplotlib inline  "
   ]
  },
  {
   "cell_type": "code",
   "execution_count": null,
   "metadata": {
    "ExecuteTime": {
     "start_time": "2016-04-25T04:11:36.586Z"
    },
    "collapsed": false
   },
   "outputs": [],
   "source": [
    "plt.plot(accs)\n"
   ]
  },
  {
   "cell_type": "code",
   "execution_count": null,
   "metadata": {
    "collapsed": true
   },
   "outputs": [],
   "source": []
  },
  {
   "cell_type": "code",
   "execution_count": null,
   "metadata": {
    "collapsed": true
   },
   "outputs": [],
   "source": []
  }
 ],
 "metadata": {
  "kernelspec": {
   "display_name": "Python 2",
   "language": "python",
   "name": "python2"
  },
  "language_info": {
   "codemirror_mode": {
    "name": "ipython",
    "version": 2
   },
   "file_extension": ".py",
   "mimetype": "text/x-python",
   "name": "python",
   "nbconvert_exporter": "python",
   "pygments_lexer": "ipython2",
   "version": "2.7.11"
  }
 },
 "nbformat": 4,
 "nbformat_minor": 0
}
