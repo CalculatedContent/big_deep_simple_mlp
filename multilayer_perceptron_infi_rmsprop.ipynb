{
 "cells": [
  {
   "cell_type": "markdown",
   "metadata": {
    "ExecuteTime": {
     "end_time": "2016-04-20T21:52:04.548207",
     "start_time": "2016-04-20T21:52:04.544771"
    }
   },
   "source": [
    "### Simple MLP\n",
    "\n",
    "Testing new mnist on every epoch\n"
   ]
  },
  {
   "cell_type": "code",
   "execution_count": 1,
   "metadata": {
    "ExecuteTime": {
     "end_time": "2016-04-22T20:58:08.114633",
     "start_time": "2016-04-22T20:58:08.111777"
    },
    "collapsed": true
   },
   "outputs": [],
   "source": [
    "# A Multilayer Perceptron implementation example using TensorFlow library.\n",
    "# This example is using the MNIST database of handwritten digits\n",
    "# (http://yann.lecun.com/exdb/mnist/)\n",
    "\n",
    "# Author: Aymeric Damien\n",
    "# Project: https://github.com/aymericdamien/TensorFlow-Examples/"
   ]
  },
  {
   "cell_type": "code",
   "execution_count": 2,
   "metadata": {
    "ExecuteTime": {
     "end_time": "2016-04-22T20:58:08.930362",
     "start_time": "2016-04-22T20:58:08.904104"
    },
    "collapsed": false,
    "scrolled": false
   },
   "outputs": [],
   "source": [
    "import os\n",
    "from subprocess import Popen\n",
    "INFIMNIST = '/Users/charlesmartin14/packages/infimnist/infimnist -d /Users/charlesmartin14/packages/infimnist/data '\n",
    "\n",
    "class InfiMNIST(object):\n",
    "\n",
    "    def __init__(self):\n",
    "        self.data_dir = \".\"\n",
    "        self._infimnist_start = 10000\n",
    "        self._infimnist_stop =  self._infimnist_start + 59999\n",
    "\n",
    "    def next_epoch(self):\n",
    "        print \"creating infimnist pat files %d - %d\" % (self._infimnist_start, self._infimnist_stop)\n",
    "        lab_file = os.path.join(self.data_dir, 'infimnist-labels')\n",
    "        pat_file = os.path.join(self.data_dir, 'infimnist-images')\n",
    "        \n",
    "        # execute cmd \n",
    "        \n",
    "        with open(lab_file, 'wb') as out:\n",
    "            cmd = \"{} lab {} {} \".format(INFIMNIST, self._infimnist_start, self._infimnist_stop)\n",
    "            print cmd\n",
    "            Popen(cmd, shell=True, stdout=out, cwd=self.data_dir).wait()\n",
    "            \n",
    "        with open(pat_file, 'wb') as out:\n",
    "            cmd = \"{} pat {} {} \".format(INFIMNIST, self._infimnist_start, self._infimnist_stop)\n",
    "            print cmd\n",
    "            Popen(cmd, shell=True, stdout=out, cwd=self.data_dir).wait()\n",
    "        \n",
    "        cmd1 = \"rm infimnist-labels.gz infimnist-images.gz\"\n",
    "        cmd2 = \"gzip -f infimnist-labels infimnist-images\"\n",
    "        cmd3 = \"ln -s infimnist-labels.gz  mnist-labels.gz\"\n",
    "        cmd4 = \"ln -s infimnist-images.gz  mnist-images.gz\"\n",
    "\n",
    "        os.system(cmd1)\n",
    "        os.system(cmd2)\n",
    "        os.system(cmd3)\n",
    "        os.system(cmd4)\n",
    "        \n",
    "        self._infimnist_start = self._infimnist_stop + 1\n",
    "        self._infimnist_stop =  self._infimnist_start + 59999\n"
   ]
  },
  {
   "cell_type": "code",
   "execution_count": 3,
   "metadata": {
    "ExecuteTime": {
     "end_time": "2016-04-22T20:58:09.859853",
     "start_time": "2016-04-22T20:58:09.857843"
    },
    "collapsed": false
   },
   "outputs": [],
   "source": [
    "infiminst = InfiMNIST()"
   ]
  },
  {
   "cell_type": "code",
   "execution_count": 4,
   "metadata": {
    "ExecuteTime": {
     "end_time": "2016-04-22T20:58:12.811496",
     "start_time": "2016-04-22T20:58:10.600227"
    },
    "collapsed": false,
    "scrolled": true
   },
   "outputs": [
    {
     "name": "stdout",
     "output_type": "stream",
     "text": [
      "creating infimnist pat files 10000 - 69999\n",
      "/Users/charlesmartin14/packages/infimnist/infimnist -d /Users/charlesmartin14/packages/infimnist/data  lab 10000 69999 \n",
      "/Users/charlesmartin14/packages/infimnist/infimnist -d /Users/charlesmartin14/packages/infimnist/data  pat 10000 69999 \n"
     ]
    }
   ],
   "source": [
    "infiminst.next_epoch()"
   ]
  },
  {
   "cell_type": "code",
   "execution_count": 5,
   "metadata": {
    "ExecuteTime": {
     "end_time": "2016-04-22T20:58:12.931014",
     "start_time": "2016-04-22T20:58:12.812759"
    },
    "collapsed": false
   },
   "outputs": [
    {
     "name": "stdout",
     "output_type": "stream",
     "text": [
      "-rw-r--r--+ 1 charlesmartin14  staff  9822045 Apr 22 20:58 infimnist-images.gz\r\n",
      "-rw-r--r--+ 1 charlesmartin14  staff    28895 Apr 22 20:58 infimnist-labels.gz\r\n",
      "lrwxr-xr-x  1 charlesmartin14  staff       19 Apr 22 20:53 \u001b[35mmnist-images.gz\u001b[m\u001b[m -> infimnist-images.gz\r\n",
      "lrwxr-xr-x  1 charlesmartin14  staff       19 Apr 22 20:53 \u001b[35mmnist-labels.gz\u001b[m\u001b[m -> infimnist-labels.gz\r\n",
      "-rw-r--r--+ 1 charlesmartin14  staff  1634324 Apr 22 13:56 t10k-images.gz\r\n",
      "-rw-r--r--+ 1 charlesmartin14  staff     4531 Apr 22 13:56 t10k-labels.gz\r\n"
     ]
    }
   ],
   "source": [
    "!ls -l *gz"
   ]
  },
  {
   "cell_type": "code",
   "execution_count": 6,
   "metadata": {
    "ExecuteTime": {
     "end_time": "2016-04-22T20:58:13.017149",
     "start_time": "2016-04-22T20:58:12.932671"
    },
    "collapsed": false
   },
   "outputs": [],
   "source": [
    "import input_data"
   ]
  },
  {
   "cell_type": "markdown",
   "metadata": {
    "ExecuteTime": {
     "end_time": "2016-04-21T09:52:28.238247",
     "start_time": "2016-04-21T09:52:28.236187"
    }
   },
   "source": [
    "# why does this fail?"
   ]
  },
  {
   "cell_type": "code",
   "execution_count": 7,
   "metadata": {
    "ExecuteTime": {
     "end_time": "2016-04-22T20:58:16.974307",
     "start_time": "2016-04-22T20:58:16.166075"
    },
    "collapsed": false,
    "scrolled": true
   },
   "outputs": [
    {
     "name": "stdout",
     "output_type": "stream",
     "text": [
      "Extracting ./mnist-images.gz\n",
      "Extracting ./mnist-labels.gz\n",
      "Extracting ./t10k-images.gz\n",
      "Extracting ./t10k-labels.gz\n"
     ]
    },
    {
     "name": "stderr",
     "output_type": "stream",
     "text": [
      "/Users/charlesmartin14/anaconda2/lib/python2.7/gzip.py:275: VisibleDeprecationWarning: converting an array with ndim > 0 to an index will result in an error in the future\n",
      "  chunk = self.extrabuf[offset: offset + size]\n",
      "input_data.py:35: VisibleDeprecationWarning: converting an array with ndim > 0 to an index will result in an error in the future\n",
      "  data = data.reshape(num_images, rows, cols, 1)\n"
     ]
    }
   ],
   "source": [
    "mnist = input_data.read_data_sets(\".\", one_hot=True)"
   ]
  },
  {
   "cell_type": "code",
   "execution_count": null,
   "metadata": {
    "collapsed": true
   },
   "outputs": [],
   "source": []
  },
  {
   "cell_type": "code",
   "execution_count": null,
   "metadata": {
    "collapsed": true
   },
   "outputs": [],
   "source": []
  },
  {
   "cell_type": "code",
   "execution_count": null,
   "metadata": {
    "ExecuteTime": {
     "end_time": "2016-04-21T09:51:23.134816",
     "start_time": "2016-04-21T09:51:23.131922"
    },
    "collapsed": true
   },
   "outputs": [],
   "source": [
    "# Parameters\n",
    "learning_rate = 0.001\n",
    "training_epochs = 10000\n",
    "batch_size = 100\n",
    "display_step = 25"
   ]
  },
  {
   "cell_type": "code",
   "execution_count": null,
   "metadata": {
    "ExecuteTime": {
     "end_time": "2016-04-21T09:46:42.667984",
     "start_time": "2016-04-21T09:46:42.665027"
    },
    "collapsed": true
   },
   "outputs": [],
   "source": [
    "# Network Parameters\n",
    "n_hidden_1 = 256 # 1st layer num features\n",
    "n_hidden_2 = 256 # 2nd layer num features\n",
    "n_input = 784 # MNIST data input (img shape: 28*28)\n",
    "n_classes = 10 # MNIST total classes (0-9 digits)"
   ]
  },
  {
   "cell_type": "code",
   "execution_count": null,
   "metadata": {
    "ExecuteTime": {
     "end_time": "2016-04-21T09:46:43.285159",
     "start_time": "2016-04-21T09:46:43.281030"
    },
    "collapsed": true
   },
   "outputs": [],
   "source": [
    "# tf Graph input\n",
    "x = tf.placeholder(\"float\", [None, n_input])\n",
    "y = tf.placeholder(\"float\", [None, n_classes])"
   ]
  },
  {
   "cell_type": "code",
   "execution_count": null,
   "metadata": {
    "ExecuteTime": {
     "end_time": "2016-04-21T09:46:43.683843",
     "start_time": "2016-04-21T09:46:43.679981"
    },
    "collapsed": true
   },
   "outputs": [],
   "source": [
    "# Create model\n",
    "def multilayer_perceptron(_X, _weights, _biases):\n",
    "    #Hidden layer with RELU activation\n",
    "    layer_1 = tf.nn.relu(tf.add(tf.matmul(_X, _weights['h1']), _biases['b1'])) \n",
    "    #Hidden layer with RELU activation\n",
    "    layer_2 = tf.nn.relu(tf.add(tf.matmul(layer_1, _weights['h2']), _biases['b2'])) \n",
    "    return tf.matmul(layer_2, weights['out']) + biases['out']"
   ]
  },
  {
   "cell_type": "code",
   "execution_count": null,
   "metadata": {
    "ExecuteTime": {
     "end_time": "2016-04-21T09:46:44.156543",
     "start_time": "2016-04-21T09:46:44.119522"
    },
    "collapsed": false
   },
   "outputs": [],
   "source": [
    "# Store layers weight & bias\n",
    "weights = {\n",
    "    'h1': tf.Variable(tf.random_normal([n_input, n_hidden_1], stddev=0.1)),\n",
    "    'h2': tf.Variable(tf.random_normal([n_hidden_1, n_hidden_2], stddev=0.1)),\n",
    "    'out': tf.Variable(tf.random_normal([n_hidden_2, n_classes], stddev=0.1))\n",
    "}\n",
    "biases = {\n",
    "    'b1': tf.Variable(tf.random_normal([n_hidden_1], stddev=0.1)),\n",
    "    'b2': tf.Variable(tf.random_normal([n_hidden_2], stddev=0.1)),\n",
    "    'out': tf.Variable(tf.random_normal([n_classes], stddev=0.1))\n",
    "}"
   ]
  },
  {
   "cell_type": "code",
   "execution_count": null,
   "metadata": {
    "ExecuteTime": {
     "end_time": "2016-04-21T09:46:44.607565",
     "start_time": "2016-04-21T09:46:44.600669"
    },
    "collapsed": true
   },
   "outputs": [],
   "source": [
    "# Construct model\n",
    "pred = multilayer_perceptron(x, weights, biases)"
   ]
  },
  {
   "cell_type": "code",
   "execution_count": null,
   "metadata": {
    "ExecuteTime": {
     "end_time": "2016-04-21T09:46:45.092206",
     "start_time": "2016-04-21T09:46:45.011547"
    },
    "collapsed": true
   },
   "outputs": [],
   "source": [
    "# Define loss and optimizer\n",
    "# Softmax loss\n",
    "cost = tf.reduce_mean(tf.nn.softmax_cross_entropy_with_logits(pred, y)) \n",
    "# Adam Optimizer\n",
    "optimizer = tf.train.RMSPropOptimizer(learning_rate=learning_rate).minimize(cost) "
   ]
  },
  {
   "cell_type": "code",
   "execution_count": null,
   "metadata": {
    "ExecuteTime": {
     "end_time": "2016-04-21T09:46:45.433362",
     "start_time": "2016-04-21T09:46:45.430841"
    },
    "collapsed": true
   },
   "outputs": [],
   "source": [
    "# Initializing the variables\n",
    "init = tf.initialize_all_variables()"
   ]
  },
  {
   "cell_type": "code",
   "execution_count": null,
   "metadata": {
    "ExecuteTime": {
     "end_time": "2016-04-21T09:46:55.220053",
     "start_time": "2016-04-21T09:46:54.568093"
    },
    "collapsed": false,
    "scrolled": false
   },
   "outputs": [],
   "source": [
    "# Launch the graph\n",
    "import input_data\n",
    "\n",
    "accs = []\n",
    "with tf.Session() as sess:\n",
    "    sess.run(init)\n",
    "\n",
    "    # Training cycle\n",
    "    for epoch in range(training_epochs):\n",
    "        infiminst.next_epoch()\n",
    "        mnist = input_data.read_data_sets(\".\", one_hot=True)\n",
    "        avg_cost = 0.0\n",
    "        # Loop over all batches\n",
    "        for i in range(total_batch):\n",
    "            batch_xs, batch_ys = mnist.train.next_batch(batch_size)\n",
    "            # Fit training using batch data\n",
    "            sess.run(optimizer, feed_dict={x: batch_xs, y: batch_ys})\n",
    "            # Compute average loss\n",
    "            avg_cost += sess.run(cost, feed_dict={x: batch_xs, y: batch_ys})/total_batch\n",
    "        # Display logs per epoch step\n",
    "        if epoch % display_step == 0:\n",
    "            print \"Epoch:\", '%04d' % (epoch+1), \"cost=\", \"{:.9f}\".format(avg_cost)\n",
    "            correct_prediction = tf.equal(tf.argmax(pred, 1), tf.argmax(y, 1))\n",
    "            accuracy = tf.reduce_mean(tf.cast(correct_prediction, \"float\"))\n",
    "            a = accuracy.eval({x: mnist.test.images, y: mnist.test.labels})\n",
    "            accs.append(a)\n",
    "            print \"Accuracy:\", a\n",
    "\n",
    "    # Test model\n",
    "    correct_prediction = tf.equal(tf.argmax(pred, 1), tf.argmax(y, 1))\n",
    "    # Calculate accuracy\n",
    "    accuracy = tf.reduce_mean(tf.cast(correct_prediction, \"float\"))\n",
    "    print \"Accuracy:\", accuracy.eval({x: mnist.test.images, y: mnist.test.labels})"
   ]
  },
  {
   "cell_type": "code",
   "execution_count": null,
   "metadata": {
    "ExecuteTime": {
     "start_time": "2016-04-20T16:48:05.350Z"
    },
    "collapsed": true
   },
   "outputs": [],
   "source": [
    "accs"
   ]
  },
  {
   "cell_type": "code",
   "execution_count": null,
   "metadata": {
    "ExecuteTime": {
     "end_time": "2016-04-21T09:47:13.946341",
     "start_time": "2016-04-21T09:47:13.600400"
    },
    "collapsed": false
   },
   "outputs": [],
   "source": [
    "infiminst.next_epoch()"
   ]
  },
  {
   "cell_type": "code",
   "execution_count": null,
   "metadata": {
    "ExecuteTime": {
     "end_time": "2016-04-21T09:47:16.817777",
     "start_time": "2016-04-21T09:47:16.702917"
    },
    "collapsed": false
   },
   "outputs": [],
   "source": [
    "!ls\n"
   ]
  },
  {
   "cell_type": "code",
   "execution_count": null,
   "metadata": {
    "collapsed": true
   },
   "outputs": [],
   "source": []
  }
 ],
 "metadata": {
  "kernelspec": {
   "display_name": "Python 2",
   "language": "python",
   "name": "python2"
  },
  "language_info": {
   "codemirror_mode": {
    "name": "ipython",
    "version": 2
   },
   "file_extension": ".py",
   "mimetype": "text/x-python",
   "name": "python",
   "nbconvert_exporter": "python",
   "pygments_lexer": "ipython2",
   "version": "2.7.11"
  }
 },
 "nbformat": 4,
 "nbformat_minor": 0
}
