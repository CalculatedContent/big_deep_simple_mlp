{
 "cells": [
  {
   "cell_type": "markdown",
   "metadata": {
    "ExecuteTime": {
     "end_time": "2016-04-20T21:52:04.548207",
     "start_time": "2016-04-20T21:52:04.544771"
    }
   },
   "source": [
    "### Simple MLP 7 b\n",
    "\n",
    "Testing new infimnist on every epoch\n",
    "\n",
    "RMSProp solver with DropOut\n",
    "\n",
    "1000 x 500 \n",
    "\n",
    "1500 epochs\n",
    "\n",
    "see:  https://github.com/nlintz/TensorFlow-Tutorials/blob/master/4_modern_net.py\n",
    "\n"
   ]
  },
  {
   "cell_type": "code",
   "execution_count": 1,
   "metadata": {
    "ExecuteTime": {
     "end_time": "2016-04-25T08:33:31.299397",
     "start_time": "2016-04-25T08:33:31.295984"
    },
    "collapsed": true
   },
   "outputs": [],
   "source": [
    "# A Multilayer Perceptron implementation example using TensorFlow library.\n",
    "# This example is using the MNIST database of handwritten digits\n",
    "# (http://yann.lecun.com/exdb/mnist/)=\n",
    "\n",
    "\n",
    "# Author: Aymeric Damien\n",
    "# Project: https://github.com/aymericdamien/TensorFlow-Examples/"
   ]
  },
  {
   "cell_type": "code",
   "execution_count": 2,
   "metadata": {
    "ExecuteTime": {
     "end_time": "2016-04-25T08:33:33.635882",
     "start_time": "2016-04-25T08:33:31.670492"
    },
    "collapsed": false
   },
   "outputs": [],
   "source": [
    "import tensorflow as tf\n",
    "import numpy as np\n",
    "import input_data"
   ]
  },
  {
   "cell_type": "code",
   "execution_count": 3,
   "metadata": {
    "ExecuteTime": {
     "end_time": "2016-04-25T08:33:33.661957",
     "start_time": "2016-04-25T08:33:33.637240"
    },
    "collapsed": false,
    "scrolled": false
   },
   "outputs": [],
   "source": [
    "import os\n",
    "from subprocess import Popen\n",
    "INFIMNIST = '/Users/charlesmartin14/packages/infimnist/infimnist -d /Users/charlesmartin14/packages/infimnist/data '\n",
    "\n",
    "class InfiMNIST(object):\n",
    "\n",
    "    def __init__(self):\n",
    "        self.data_dir = \".\"\n",
    "        self._infimnist_start = 10000\n",
    "        self._infimnist_stop =  self._infimnist_start + 59999\n",
    "\n",
    "    def next_epoch(self):\n",
    "        #print \"creating infimnist pat files %d - %d\" % (self._infimnist_start, self._infimnist_stop)\n",
    "        lab_file = os.path.join(self.data_dir, 'infimnist-labels')\n",
    "        pat_file = os.path.join(self.data_dir, 'infimnist-images')\n",
    "        \n",
    "        # execute cmd \n",
    "        \n",
    "        with open(lab_file, 'wb') as out:\n",
    "            cmd = \"{} lab {} {} \".format(INFIMNIST, self._infimnist_start, self._infimnist_stop)\n",
    "            #print cmd\n",
    "            Popen(cmd, shell=True, stdout=out, cwd=self.data_dir).wait()\n",
    "            \n",
    "        with open(pat_file, 'wb') as out:\n",
    "            cmd = \"{} pat {} {} \".format(INFIMNIST, self._infimnist_start, self._infimnist_stop)\n",
    "            #print cmd\n",
    "            Popen(cmd, shell=True, stdout=out, cwd=self.data_dir).wait()\n",
    "        \n",
    "        cmd1 = \"rm infimnist-labels.gz infimnist-images.gz mnist-labels.gz mnist-images.gz\"\n",
    "        cmd2 = \"gzip -f infimnist-labels infimnist-images\"\n",
    "        cmd3 = \"ln -s infimnist-labels.gz  mnist-labels.gz\"\n",
    "        cmd4 = \"ln -s infimnist-images.gz  mnist-images.gz\"\n",
    "\n",
    "        os.system(cmd1)\n",
    "        os.system(cmd2)\n",
    "        os.system(cmd3)\n",
    "        os.system(cmd4)\n",
    "        \n",
    "        self._infimnist_start = self._infimnist_stop + 1\n",
    "        self._infimnist_stop =  self._infimnist_start + 59999\n"
   ]
  },
  {
   "cell_type": "code",
   "execution_count": 4,
   "metadata": {
    "ExecuteTime": {
     "end_time": "2016-04-25T08:33:33.665928",
     "start_time": "2016-04-25T08:33:33.663372"
    },
    "collapsed": false
   },
   "outputs": [],
   "source": [
    "infiminst = InfiMNIST()"
   ]
  },
  {
   "cell_type": "code",
   "execution_count": 5,
   "metadata": {
    "ExecuteTime": {
     "end_time": "2016-04-25T08:33:33.669878",
     "start_time": "2016-04-25T08:33:33.667099"
    },
    "collapsed": true
   },
   "outputs": [],
   "source": [
    "# Parameters\n",
    "learning_rate = 0.001\n",
    "training_epochs = 1500\n",
    "batch_size = 100\n",
    "display_step = 1\n",
    "total_batch = 55000/100"
   ]
  },
  {
   "cell_type": "code",
   "execution_count": 6,
   "metadata": {
    "ExecuteTime": {
     "end_time": "2016-04-24T23:16:00.398427",
     "start_time": "2016-04-24T23:16:00.395136"
    },
    "collapsed": false
   },
   "outputs": [],
   "source": [
    "# Network Parameters\n",
    "n_hidden_1 = 1000 # 1st layer num features\n",
    "n_hidden_2 = 500 # 2nd layer num features\n",
    "n_input = 784 # MNIST data input (img shape: 28*28)\n",
    "n_classes = 10 # MNIST total classes (0-9 digits)\n",
    "\n",
    "std_0 = 1.0/np.sqrt(n_input)\n",
    "std_h1 = 1.0/np.sqrt(n_hidden_1)\n",
    "std_h2 = 1.0/np.sqrt(n_hidden_2)\n"
   ]
  },
  {
   "cell_type": "code",
   "execution_count": 7,
   "metadata": {
    "ExecuteTime": {
     "end_time": "2016-04-24T23:16:00.403788",
     "start_time": "2016-04-24T23:16:00.399617"
    },
    "collapsed": false
   },
   "outputs": [],
   "source": [
    "# tf Graph input\n",
    "x = tf.placeholder(\"float\", [None, n_input])\n",
    "y = tf.placeholder(\"float\", [None, n_classes])"
   ]
  },
  {
   "cell_type": "code",
   "execution_count": 8,
   "metadata": {
    "ExecuteTime": {
     "end_time": "2016-04-24T23:16:00.408198",
     "start_time": "2016-04-24T23:16:00.404756"
    },
    "collapsed": true
   },
   "outputs": [],
   "source": [
    "# dropout parameters\n",
    "pv = tf.placeholder(\"float\")\n",
    "ph = tf.placeholder(\"float\")"
   ]
  },
  {
   "cell_type": "code",
   "execution_count": 9,
   "metadata": {
    "ExecuteTime": {
     "end_time": "2016-04-24T23:16:00.414922",
     "start_time": "2016-04-24T23:16:00.409611"
    },
    "collapsed": true
   },
   "outputs": [],
   "source": [
    "def multilayer_perceptron(_X, _weights, _biases, _pv, _ph):\n",
    "\n",
    "    _Xd = tf.nn.dropout(_X, _pv)\n",
    "    \n",
    "    layer_1 = tf.nn.relu(tf.add(tf.matmul(_Xd, _weights['h1']), _biases['b1'])) \n",
    "    layer_1d =  tf.nn.dropout(layer_1, _ph)\n",
    "    \n",
    "    layer_2 = tf.nn.relu(tf.add(tf.matmul(layer_1d, _weights['h2']), _biases['b2'])) \n",
    "    layer_2d =  tf.nn.dropout(layer_2, _ph)\n",
    "\n",
    "    \n",
    "    return tf.matmul(layer_2d, weights['out']) + biases['out']"
   ]
  },
  {
   "cell_type": "code",
   "execution_count": 10,
   "metadata": {
    "ExecuteTime": {
     "end_time": "2016-04-24T23:16:00.450779",
     "start_time": "2016-04-24T23:16:00.415896"
    },
    "collapsed": false
   },
   "outputs": [],
   "source": [
    "# Store layers weight & bias\n",
    "weights = {\n",
    "    'h1': tf.Variable(tf.random_normal([n_input, n_hidden_1], stddev=std_0)),\n",
    "    'h2': tf.Variable(tf.random_normal([n_hidden_1, n_hidden_2], stddev=std_h1)),\n",
    "    'out': tf.Variable(tf.random_normal([n_hidden_2, n_classes], stddev=std_h2))\n",
    "}\n",
    "biases = {\n",
    "    'b1': tf.Variable(tf.random_normal([n_hidden_1], stddev=std_h1)),\n",
    "    'b2': tf.Variable(tf.random_normal([n_hidden_2], stddev=std_h2)),\n",
    "    'out': tf.Variable(tf.random_normal([n_classes], stddev=0.3))\n",
    "}\n"
   ]
  },
  {
   "cell_type": "code",
   "execution_count": 11,
   "metadata": {
    "ExecuteTime": {
     "end_time": "2016-04-24T23:16:00.475469",
     "start_time": "2016-04-24T23:16:00.451738"
    },
    "collapsed": false,
    "scrolled": false
   },
   "outputs": [],
   "source": [
    "# Construct model\n",
    "pred = multilayer_perceptron(x, weights, biases, pv, ph )"
   ]
  },
  {
   "cell_type": "code",
   "execution_count": 12,
   "metadata": {
    "ExecuteTime": {
     "end_time": "2016-04-24T23:16:00.577033",
     "start_time": "2016-04-24T23:16:00.476403"
    },
    "collapsed": false
   },
   "outputs": [],
   "source": [
    "# Define loss and optimizer\n",
    "# Softmax loss\n",
    "cost = tf.reduce_mean(tf.nn.softmax_cross_entropy_with_logits(pred, y)) \n",
    "\n",
    "optimizer = tf.train.RMSPropOptimizer(learning_rate=learning_rate).minimize(cost) "
   ]
  },
  {
   "cell_type": "code",
   "execution_count": 13,
   "metadata": {
    "ExecuteTime": {
     "end_time": "2016-04-24T23:16:00.580268",
     "start_time": "2016-04-24T23:16:00.578044"
    },
    "collapsed": true
   },
   "outputs": [],
   "source": [
    "# Initializing the variables\n",
    "init = tf.initialize_all_variables()"
   ]
  },
  {
   "cell_type": "code",
   "execution_count": 14,
   "metadata": {
    "ExecuteTime": {
     "end_time": "2016-04-24T23:48:24.011436",
     "start_time": "2016-04-24T23:16:00.581360"
    },
    "collapsed": false,
    "scrolled": true
   },
   "outputs": [
    {
     "name": "stdout",
     "output_type": "stream",
     "text": [
      "Epoch: 0001 cost= 0.518171387\n",
      "Accuracy: 0.9376\n",
      "Epoch: 0002 cost= 0.107059158\n",
      "Accuracy: 0.9576\n",
      "Epoch: 0003 cost= 0.063640554\n",
      "Accuracy: 0.971\n",
      "Epoch: 0004 cost= 0.051121856\n",
      "Accuracy: 0.972\n",
      "Epoch: 0005 cost= 0.048795569\n",
      "Accuracy: 0.9749\n",
      "Epoch: 0006 cost= 0.045604144\n",
      "Accuracy: 0.9787\n",
      "Epoch: 0007 cost= 0.044702522\n",
      "Accuracy: 0.9806\n",
      "Epoch: 0008 cost= 0.043783881\n",
      "Accuracy: 0.9806\n",
      "Epoch: 0009 cost= 0.044288158\n",
      "Accuracy: 0.9781\n",
      "Epoch: 0010 cost= 0.045196971\n",
      "Accuracy: 0.9791\n",
      "Epoch: 0011 cost= 0.047468655\n",
      "Accuracy: 0.9807\n",
      "Epoch: 0012 cost= 0.047983741\n",
      "Accuracy: 0.9803\n",
      "Epoch: 0013 cost= 0.050229650\n",
      "Accuracy: 0.9804\n",
      "Epoch: 0014 cost= 0.051722539\n",
      "Accuracy: 0.9769\n",
      "Epoch: 0015 cost= 0.051733970\n",
      "Accuracy: 0.983\n",
      "Epoch: 0016 cost= 0.051663446\n",
      "Accuracy: 0.98\n",
      "Epoch: 0017 cost= 0.052273885\n",
      "Accuracy: 0.9835\n",
      "Epoch: 0018 cost= 0.050582185\n",
      "Accuracy: 0.9826\n",
      "Epoch: 0019 cost= 0.049576921\n",
      "Accuracy: 0.9815\n",
      "Epoch: 0020 cost= 0.053800696\n",
      "Accuracy: 0.9812\n",
      "Epoch: 0021 cost= 0.050844687\n",
      "Accuracy: 0.9794\n",
      "Epoch: 0022 cost= 0.051712200\n",
      "Accuracy: 0.9801\n",
      "Epoch: 0023 cost= 0.050864921\n",
      "Accuracy: 0.9824\n",
      "Epoch: 0024 cost= 0.052298647\n",
      "Accuracy: 0.9802\n",
      "Epoch: 0025 cost= 0.053560734\n",
      "Accuracy: 0.98\n",
      "Epoch: 0026 cost= 0.052513730\n",
      "Accuracy: 0.9778\n",
      "Epoch: 0027 cost= 0.055401150\n",
      "Accuracy: 0.9807\n",
      "Epoch: 0028 cost= 0.055956136\n",
      "Accuracy: 0.9781\n",
      "Epoch: 0029 cost= 0.057916488\n",
      "Accuracy: 0.9809\n",
      "Epoch: 0030 cost= 0.055384157\n",
      "Accuracy: 0.9813\n",
      "Epoch: 0031 cost= 0.054257736\n",
      "Accuracy: 0.977\n",
      "Epoch: 0032 cost= 0.057245008\n",
      "Accuracy: 0.9805\n",
      "Epoch: 0033 cost= 0.058595363\n",
      "Accuracy: 0.9795\n",
      "Epoch: 0034 cost= 0.057405480\n",
      "Accuracy: 0.9808\n",
      "Epoch: 0035 cost= 0.058904675\n",
      "Accuracy: 0.9808\n",
      "Epoch: 0036 cost= 0.058281379\n",
      "Accuracy: 0.9802\n",
      "Epoch: 0037 cost= 0.057475269\n",
      "Accuracy: 0.9754\n",
      "Epoch: 0038 cost= 0.059274353\n",
      "Accuracy: 0.9783\n",
      "Epoch: 0039 cost= 0.059615154\n",
      "Accuracy: 0.9801\n",
      "Epoch: 0040 cost= 0.061237410\n",
      "Accuracy: 0.9803\n",
      "Epoch: 0041 cost= 0.061867225\n",
      "Accuracy: 0.9767\n",
      "Epoch: 0042 cost= 0.063540267\n",
      "Accuracy: 0.9797\n",
      "Epoch: 0043 cost= 0.060958080\n",
      "Accuracy: 0.981\n",
      "Epoch: 0044 cost= 0.060902626\n",
      "Accuracy: 0.9791\n",
      "Epoch: 0045 cost= 0.062838336\n",
      "Accuracy: 0.9765\n",
      "Epoch: 0046 cost= 0.061187204\n",
      "Accuracy: 0.976\n",
      "Epoch: 0047 cost= 0.062007746\n",
      "Accuracy: 0.9807\n",
      "Epoch: 0048 cost= 0.059737507\n",
      "Accuracy: 0.9825\n",
      "Epoch: 0049 cost= 0.062209020\n",
      "Accuracy: 0.9775\n",
      "Epoch: 0050 cost= 0.060510780\n",
      "Accuracy: 0.9772\n",
      "Epoch: 0051 cost= 0.060919581\n",
      "Accuracy: 0.9784\n",
      "Epoch: 0052 cost= 0.063112901\n",
      "Accuracy: 0.9803\n",
      "Epoch: 0053 cost= 0.064360252\n",
      "Accuracy: 0.9786\n",
      "Epoch: 0054 cost= 0.065205539\n",
      "Accuracy: 0.9756\n",
      "Epoch: 0055 cost= 0.063860638\n",
      "Accuracy: 0.9764\n",
      "Epoch: 0056 cost= 0.068191599\n",
      "Accuracy: 0.9767\n",
      "Epoch: 0057 cost= 0.063930407\n",
      "Accuracy: 0.9734\n",
      "Epoch: 0058 cost= 0.064722486\n",
      "Accuracy: 0.978\n",
      "Epoch: 0059 cost= 0.061991338\n",
      "Accuracy: 0.9782\n",
      "Epoch: 0060 cost= 0.060182362\n",
      "Accuracy: 0.9762\n",
      "Epoch: 0061 cost= 0.066328831\n",
      "Accuracy: 0.9762\n",
      "Epoch: 0062 cost= 0.063498010\n",
      "Accuracy: 0.9752\n",
      "Epoch: 0063 cost= 0.065138589\n",
      "Accuracy: 0.9779\n",
      "Epoch: 0064 cost= 0.066561320\n",
      "Accuracy: 0.9757\n",
      "Epoch: 0065 cost= 0.062108845\n",
      "Accuracy: 0.9786\n",
      "Epoch: 0066 cost= 0.062284735\n",
      "Accuracy: 0.9762\n",
      "Epoch: 0067 cost= 0.066554125\n",
      "Accuracy: 0.9783\n",
      "Epoch: 0068 cost= 0.065462652\n",
      "Accuracy: 0.9726\n",
      "Epoch: 0069 cost= 0.070446014\n",
      "Accuracy: 0.9787\n",
      "Epoch: 0070 cost= 0.067000185\n",
      "Accuracy: 0.9776\n",
      "Epoch: 0071 cost= 0.066857722\n",
      "Accuracy: 0.9747\n",
      "Epoch: 0072 cost= 0.063897979\n",
      "Accuracy: 0.9734\n",
      "Epoch: 0073 cost= 0.066472081\n",
      "Accuracy: 0.9749\n",
      "Epoch: 0074 cost= 0.067446990\n",
      "Accuracy: 0.9776\n",
      "Epoch: 0075 cost= 0.063803824\n",
      "Accuracy: 0.9798\n",
      "Epoch: 0076 cost= 0.066677693\n",
      "Accuracy: 0.9763\n",
      "Epoch: 0077 cost= 0.067924228\n",
      "Accuracy: 0.9757\n",
      "Epoch: 0078 cost= 0.067081845\n",
      "Accuracy: 0.9754\n",
      "Epoch: 0079 cost= 0.065411501\n",
      "Accuracy: 0.9771\n",
      "Epoch: 0080 cost= 0.067020321\n",
      "Accuracy: 0.9807\n",
      "Epoch: 0081 cost= 0.070539274\n",
      "Accuracy: 0.9762\n",
      "Epoch: 0082 cost= 0.069477223\n",
      "Accuracy: 0.977\n",
      "Epoch: 0083 cost= 0.072004236\n",
      "Accuracy: 0.9771\n",
      "Epoch: 0084 cost= 0.068967190\n",
      "Accuracy: 0.977\n",
      "Epoch: 0085 cost= 0.068408937\n",
      "Accuracy: 0.9772\n",
      "Epoch: 0086 cost= 0.067163958\n",
      "Accuracy: 0.9759\n",
      "Epoch: 0087 cost= 0.066925081\n",
      "Accuracy: 0.9762\n",
      "Epoch: 0088 cost= 0.067750306\n",
      "Accuracy: 0.9769\n",
      "Epoch: 0089 cost= 0.068155833\n",
      "Accuracy: 0.9783\n",
      "Epoch: 0090 cost= 0.069994301\n",
      "Accuracy: 0.9745\n",
      "Epoch: 0091 cost= 0.069955773\n",
      "Accuracy: 0.9767\n",
      "Epoch: 0092 cost= 0.067064098\n",
      "Accuracy: 0.9745\n",
      "Epoch: 0093 cost= 0.068665651\n",
      "Accuracy: 0.9787\n",
      "Epoch: 0094 cost= 0.070677073\n",
      "Accuracy: 0.975\n",
      "Epoch: 0095 cost= 0.069041806\n",
      "Accuracy: 0.9778\n",
      "Epoch: 0096 cost= 0.070519341\n",
      "Accuracy: 0.9797\n",
      "Epoch: 0097 cost= 0.073467922\n",
      "Accuracy: 0.9781\n",
      "Epoch: 0098 cost= 0.073536152\n",
      "Accuracy: 0.9746\n",
      "Epoch: 0099 cost= 0.070345355\n",
      "Accuracy: 0.979\n",
      "Epoch: 0100 cost= 0.068803192\n",
      "Accuracy: 0.9788\n",
      "Accuracy: 0.9788\n"
     ]
    },
    {
     "name": "stderr",
     "output_type": "stream",
     "text": [
      "/Users/charlesmartin14/anaconda2/lib/python2.7/gzip.py:275: VisibleDeprecationWarning: converting an array with ndim > 0 to an index will result in an error in the future\n",
      "  chunk = self.extrabuf[offset: offset + size]\n",
      "input_data.py:35: VisibleDeprecationWarning: converting an array with ndim > 0 to an index will result in an error in the future\n",
      "  data = data.reshape(num_images, rows, cols, 1)\n"
     ]
    }
   ],
   "source": [
    "# Launch the graph\n",
    "import input_data\n",
    "\n",
    "accs = []\n",
    "with tf.Session() as sess:\n",
    "    sess.run(init)\n",
    "\n",
    "    # Training cycle\n",
    "    for epoch in range(training_epochs):\n",
    "        infiminst.next_epoch()\n",
    "        mnist = input_data.read_data_sets(\".\", one_hot=True)\n",
    "        avg_cost = 0.0\n",
    "        # Loop over all batches\n",
    "        for i in range(total_batch):\n",
    "            batch_xs, batch_ys = mnist.train.next_batch(batch_size)\n",
    "            # Fit training using batch data\n",
    "            sess.run(optimizer, feed_dict={x: batch_xs, y: batch_ys, pv: 0.8, ph: 0.5})\n",
    "            # Compute average loss\n",
    "            avg_cost += sess.run(cost, feed_dict={x: batch_xs, y: batch_ys, pv: 1.0, ph: 1.0})/total_batch\n",
    "            \n",
    "        # Display logs per epoch step\n",
    "        if epoch % display_step == 0:\n",
    "            print \"Epoch:\", '%04d' % (epoch+1), \"cost=\", \"{:.9f}\".format(avg_cost)\n",
    "            correct_prediction = tf.equal(tf.argmax(pred, 1), tf.argmax(y, 1))\n",
    "            accuracy = tf.reduce_mean(tf.cast(correct_prediction, \"float\"))\n",
    "            a = accuracy.eval(feed_dict={x: mnist.test.images, y: mnist.test.labels, pv:1.0, ph:1.0})\n",
    "            accs.append(a)\n",
    "            print \"Accuracy:\", a\n",
    "\n",
    "    # Test model\n",
    "    correct_prediction = tf.equal(tf.argmax(pred, 1), tf.argmax(y, 1))\n",
    "    # Calculate accuracy\n",
    "    accuracy = tf.reduce_mean(tf.cast(correct_prediction, \"float\"))\n",
    "    print \"Accuracy:\", accuracy.eval({x: mnist.test.images, y: mnist.test.labels, pv:1.0, ph:1.0})"
   ]
  },
  {
   "cell_type": "code",
   "execution_count": 17,
   "metadata": {
    "ExecuteTime": {
     "end_time": "2016-04-24T23:52:07.904155",
     "start_time": "2016-04-24T23:52:07.900803"
    },
    "collapsed": false
   },
   "outputs": [],
   "source": [
    "import matplotlib\n",
    "import numpy as np\n",
    "import matplotlib.pyplot as plt\n",
    "%matplotlib inline  "
   ]
  },
  {
   "cell_type": "code",
   "execution_count": 16,
   "metadata": {
    "ExecuteTime": {
     "end_time": "2016-04-24T23:48:25.935472",
     "start_time": "2016-04-24T23:48:25.700363"
    },
    "collapsed": false
   },
   "outputs": [
    {
     "data": {
      "text/plain": [
       "[<matplotlib.lines.Line2D at 0x12c7ebad0>]"
      ]
     },
     "execution_count": 16,
     "metadata": {},
     "output_type": "execute_result"
    },
    {
     "data": {
      "image/png": "[encoded data removed]",
      "text/plain": [
       "<matplotlib.figure.Figure at 0x11a702050>"
      ]
     },
     "metadata": {},
     "output_type": "display_data"
    }
   ],
   "source": [
    "plt.plot(accs)\n"
   ]
  },
  {
   "cell_type": "code",
   "execution_count": null,
   "metadata": {
    "collapsed": true
   },
   "outputs": [],
   "source": []
  },
  {
   "cell_type": "code",
   "execution_count": null,
   "metadata": {
    "collapsed": true
   },
   "outputs": [],
   "source": []
  }
 ],
 "metadata": {
  "kernelspec": {
   "display_name": "Python 2",
   "language": "python",
   "name": "python2"
  },
  "language_info": {
   "codemirror_mode": {
    "name": "ipython",
    "version": 2
   },
   "file_extension": ".py",
   "mimetype": "text/x-python",
   "name": "python",
   "nbconvert_exporter": "python",
   "pygments_lexer": "ipython2",
   "version": "2.7.11"
  }
 },
 "nbformat": 4,
 "nbformat_minor": 0
}
