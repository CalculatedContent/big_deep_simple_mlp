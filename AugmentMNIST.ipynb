{
 "cells": [
  {
   "cell_type": "markdown",
   "metadata": {
    "collapsed": true
   },
   "source": [
    "## Augmented data for MNIST\n",
    "\n",
    "\n",
    "### infimnist\n",
    "\n",
    "- Install from http://leon.bottou.org/projects/infimnist\n",
    "\n",
    "- modify INFIMNST_CMD below \n",
    "\n",
    "### alignmnist\n",
    "\n",
    "- Download alignmnist.npz from http://www2.compute.dtu.dk/~sohau/augmentations/\n",
    "\n",
    "- see also http://people.csail.mit.edu/freifeld/cpab/poster_ICCV2015.pdf\n",
    "\n",
    "### run this notebook to generate\n",
    "\n",
    "    augmentmnist.py\n",
    "\n"
   ]
  },
  {
   "cell_type": "code",
   "execution_count": 48,
   "metadata": {
    "ExecuteTime": {
     "end_time": "2016-06-06T08:55:28.023720",
     "start_time": "2016-06-06T08:55:28.016659"
    },
    "collapsed": false
   },
   "outputs": [],
   "source": [
    "from matplotlib import pyplot\n",
    "import matplotlib as mpl\n",
    "%matplotlib inline  \n",
    "\n",
    "\n",
    "def show_image(image): \n",
    "    fig = pyplot.figure()\n",
    "    ax = fig.add_subplot(1,1,1)\n",
    "    imgplot = ax.imshow(image, cmap=mpl.cm.Greys)\n",
    "    imgplot.set_interpolation('nearest')\n",
    "    ax.xaxis.set_ticks_position('top')\n",
    "    ax.yaxis.set_ticks_position('left')\n",
    "    pyplot.show()"
   ]
  },
  {
   "cell_type": "code",
   "execution_count": 73,
   "metadata": {
    "ExecuteTime": {
     "end_time": "2016-06-06T09:09:23.003293",
     "start_time": "2016-06-06T09:09:22.997874"
    },
    "collapsed": false
   },
   "outputs": [
    {
     "name": "stdout",
     "output_type": "stream",
     "text": [
      "Overwriting augmentmnist.py\n"
     ]
    }
   ],
   "source": [
    "%%writefile  augmentmnist.py\n",
    "\n",
    "from __future__ import print_function\n",
    "import gzip\n",
    "import os\n",
    "import urllib\n",
    "import numpy as np\n",
    "from subprocess import Popen\n",
    "\n",
    "# TODO:  replace\n",
    "INFIMNIST_CMD = '/Users/charlesmartin14/packages/infimnist/infimnist -d /Users/charlesmartin14/packages/infimnist/data '\n",
    "\n",
    "\n",
    "class AugmentMNIST(object):\n",
    "\n",
    "    def __init__(self):\n",
    "        self.data_dir-\".\"\n",
    "        \n",
    "    # does not work\n",
    "    def dense_to_one_hot(self, labels_dense, num_classes=10):\n",
    "        \"\"\"Convert class labels from scalars to one-hot vectors.\"\"\"\n",
    "        num_labels = labels_dense.shape[0]\n",
    "        index_offset = np.arange(num_labels) * num_classes\n",
    "        labels_one_hot = np.zeros((num_labels, num_classes))\n",
    "        labels_one_hot.flat[index_offset + labels_dense.ravel()] = 1\n",
    "        return labels_one_hot\n",
    "    \n",
    "    def reshape_images(self, images):\n",
    "        #print images.shape[0], images.shape[1] * images.shape[2]\n",
    "        images = images.reshape(images.shape[0], images.shape[1] * images.shape[2])\n",
    "        # Convert from [0, 255] -> [0.0, 1.0].\n",
    "        images = images.astype(np.float32)\n",
    "        images = np.multiply(images, 1.0 / 255.0)\n",
    "        return images\n",
    "        \n",
    "    def shuffle_epoch(self, images, labels):   \n",
    "        num = labels.shape[0]\n",
    "        pids = np.arange(num)\n",
    "        np.random.shuffle(pids)\n",
    "        images, labels = images[pids], labels[pids]\n",
    "        return images, labels   \n",
    "    \n",
    "    def _read32(self, bytestream):\n",
    "        dt = np.dtype(np.uint32).newbyteorder('>')\n",
    "        return np.frombuffer(bytestream.read(4), dtype=dt)\n",
    "\n",
    "    def extract_images(self, filename):\n",
    "        \"\"\"Extract the images into a 4D uint8 numpy array [index, y, x, depth].\"\"\"\n",
    "        #print('Extracting', filename)\n",
    "        data = None\n",
    "        with gzip.open(filename) as bytestream:\n",
    "            magic = self._read32(bytestream)\n",
    "            if magic != 2051:\n",
    "                raise ValueError('Invalid magic number %d in MNIST image file: %s' % (magic, filename))\n",
    "            num_images = self._read32(bytestream)\n",
    "            rows = self._read32(bytestream)\n",
    "            cols = self._read32(bytestream)\n",
    "            buf = bytestream.read(rows * cols * num_images)\n",
    "            data = np.frombuffer(buf, dtype=np.uint8)\n",
    "        data = data.reshape(num_images, rows, cols, 1)\n",
    "        return data\n",
    "    \n",
    "    def extract_labels(self, filename, one_hot=False):\n",
    "        \"\"\"Extract the labels into a 1D uint8 numpy array [index].\"\"\"\n",
    "        #print('Extracting', filename)\n",
    "        lebals = None\n",
    "        with gzip.open(filename) as bytestream:\n",
    "            magic = self._read32(bytestream)\n",
    "            if magic != 2049:\n",
    "                raise ValueError('Invalid magic number %d in MNIST label file: %s' %(magic, filename))\n",
    "            num_items = self._read32(bytestream)\n",
    "            buf = bytestream.read(num_items)\n",
    "            labels = np.frombuffer(buf, dtype=np.uint8)\n",
    "        #labels = self.dense_to_one_hot(labels)\n",
    "        return labels\n",
    "    \n",
    "    def readdata_sets(self, image_file, label_file):\n",
    "        images = self.extract_images(image_file)\n",
    "        labels = self.extract_labels(label_file)   \n",
    "        return images, labels\n",
    "\n",
    "    \n",
    "class AlignMNIST(AugmentMNIST):\n",
    "\n",
    "    # Augmnist was only applied to the training data\n",
    "    # there are onl\n",
    "    def __init__(self, filename='alignmnist.npz', mmap_mode='r'):\n",
    "        self.start = 0\n",
    "        self.stop  = self.start + 59999          \n",
    "        self.data = np.load(filename, mmap_mode=mmap_mode)\n",
    "        \n",
    "        \n",
    "    def next_epoch(self):\n",
    "        x = self.data['x']\n",
    "        x = x[self.start:self.stop,:,:]\n",
    "        y = self.data['y']\n",
    "        y = y.astype(int)\n",
    "        y = y[self.start:self.stop]\n",
    "        \n",
    "        self.start = self.stop + 1\n",
    "        self.stop  = self.start + 69999          \n",
    "\n",
    "        #print x.shape, y.shape\n",
    "        x = self.reshape_images(x)\n",
    "        y = self.dense_to_one_hot(y)\n",
    "        #print x.shape, y.shape\n",
    "                \n",
    "        x_train, y_train = self.shuffle_epoch(x,y)\n",
    "        #print x_train.shape, y_train.shape\n",
    "\n",
    "        return x_train, y_train\n",
    "    \n",
    "\n",
    "class InfiMNIST(AugmentMNIST):\n",
    "\n",
    "    def __init__(self, data_dir=\".\"):\n",
    "        self.data_dir = data_dir\n",
    "        self.start = 10000\n",
    "        self.stop =  self.start + 59999   \n",
    "        self.infimnist = INFIMNIST_CMD\n",
    "    \n",
    "    \n",
    "    def next_epoch(self):\n",
    "        #print \"creating infimnist pat files %d - %d\" % (self._infimniststart, self._infimniststop)\n",
    "        lab_file = os.path.join(self.data_dir, 'infimnist-labels')\n",
    "        pat_file = os.path.join(self.data_dir, 'infimnist-images')\n",
    "\n",
    "        # execute cmd\n",
    "\n",
    "        with open(lab_file, 'wb') as out:\n",
    "            cmd = \"{} lab {} {} \".format(self.infimnist, self.start, self.stop)\n",
    "            Popen(cmd, shell=True, stdout=out, cwd=self.data_dir).wait()\n",
    "\n",
    "        with open(pat_file, 'wb') as out:\n",
    "            cmd = \"{} pat {} {} \".format(self.infimnist, self.start, self.stop)\n",
    "            Popen(cmd, shell=True, stdout=out, cwd=self.data_dir).wait()\n",
    "\n",
    "        cmd1 = \"rm infimnist-labels.gz infimnist-images.gz mnist-labels.gz mnist-images.gz\"\n",
    "        cmd2 = \"gzip -f infimnist-labels infimnist-images\"\n",
    "\n",
    "        # note: we don't regenerate the test data, only the training data (I hope)\n",
    "        os.system(cmd1)\n",
    "        os.system(cmd2)\n",
    "\n",
    "        self.start = self.stop + 10000\n",
    "        self.stop =  self.start + 59999\n",
    "        \n",
    "        # read files in, reshape, and shuffle for each epoch\n",
    "        # (should not shuffle original)\n",
    "        x_train, y_train = self.readdata_sets(pat_file+'.gz', lab_file+'.gz')\n",
    "     \n",
    "        x_train = self.reshape_images(x_train)\n",
    "        y_train = self.dense_to_one_hot(y_train)\n",
    "\n",
    "        #print x_train.shape, y_train.shape\n",
    "        x_train, y_train = self.shuffle_epoch(x_train,y_train)\n",
    "        #print x_train.shape, y_train.shape\n",
    "        \n",
    "        return x_train, y_train"
   ]
  },
  {
   "cell_type": "code",
   "execution_count": 74,
   "metadata": {
    "ExecuteTime": {
     "end_time": "2016-06-06T09:09:23.360961",
     "start_time": "2016-06-06T09:09:23.356209"
    },
    "collapsed": false
   },
   "outputs": [],
   "source": [
    "%run augmentmnist.py"
   ]
  },
  {
   "cell_type": "markdown",
   "metadata": {},
   "source": [
    "### Test AlignMNIST"
   ]
  },
  {
   "cell_type": "code",
   "execution_count": 69,
   "metadata": {
    "ExecuteTime": {
     "end_time": "2016-06-06T09:07:40.718682",
     "start_time": "2016-06-06T09:07:40.716099"
    },
    "collapsed": false
   },
   "outputs": [],
   "source": [
    "a = AlignMNIST()"
   ]
  },
  {
   "cell_type": "code",
   "execution_count": 70,
   "metadata": {
    "ExecuteTime": {
     "end_time": "2016-06-06T09:07:53.966820",
     "start_time": "2016-06-06T09:07:41.460061"
    },
    "collapsed": false
   },
   "outputs": [],
   "source": [
    "x_train, y_train = a.next_epoch()"
   ]
  },
  {
   "cell_type": "code",
   "execution_count": 71,
   "metadata": {
    "ExecuteTime": {
     "end_time": "2016-06-06T09:08:11.638235",
     "start_time": "2016-06-06T09:08:11.635907"
    },
    "collapsed": false
   },
   "outputs": [
    {
     "name": "stdout",
     "output_type": "stream",
     "text": [
      "(59999, 784) (59999, 10)\n"
     ]
    }
   ],
   "source": [
    "print x_train.shape, y_train.shape"
   ]
  },
  {
   "cell_type": "markdown",
   "metadata": {},
   "source": [
    "### TODO:  check alignment of data"
   ]
  },
  {
   "cell_type": "code",
   "execution_count": null,
   "metadata": {
    "ExecuteTime": {
     "end_time": "2016-06-06T08:36:26.627545",
     "start_time": "2016-06-06T15:36:22.004Z"
    },
    "collapsed": false,
    "scrolled": true
   },
   "outputs": [],
   "source": [
    "image = x_train[0,:]\n",
    "image = image.reshape(28,28)\n",
    "print y_train[0]\n",
    "show_image(image)"
   ]
  },
  {
   "cell_type": "code",
   "execution_count": null,
   "metadata": {
    "ExecuteTime": {
     "end_time": "2016-06-06T08:36:26.627946",
     "start_time": "2016-06-06T15:36:22.181Z"
    },
    "collapsed": false,
    "scrolled": true
   },
   "outputs": [],
   "source": [
    "for i in range(75):\n",
    "    x_train, y_train= a.next_epoch()\n",
    "    print i, x_train.shape, y_train.shape"
   ]
  },
  {
   "cell_type": "markdown",
   "metadata": {
    "ExecuteTime": {
     "end_time": "2016-06-06T08:36:44.159262",
     "start_time": "2016-06-06T08:36:44.157374"
    }
   },
   "source": [
    "### InfiMNIST"
   ]
  },
  {
   "cell_type": "code",
   "execution_count": 75,
   "metadata": {
    "ExecuteTime": {
     "end_time": "2016-06-06T09:09:27.014832",
     "start_time": "2016-06-06T09:09:27.012707"
    },
    "collapsed": false
   },
   "outputs": [],
   "source": [
    "i = InfiMNIST()"
   ]
  },
  {
   "cell_type": "code",
   "execution_count": 76,
   "metadata": {
    "ExecuteTime": {
     "end_time": "2016-06-06T09:09:30.399324",
     "start_time": "2016-06-06T09:09:27.357132"
    },
    "collapsed": false
   },
   "outputs": [
    {
     "name": "stderr",
     "output_type": "stream",
     "text": [
      "<string>:59: VisibleDeprecationWarning: converting an array with ndim > 0 to an index will result in an error in the future\n"
     ]
    }
   ],
   "source": [
    "x, y = i.next_epoch()"
   ]
  },
  {
   "cell_type": "code",
   "execution_count": 77,
   "metadata": {
    "ExecuteTime": {
     "end_time": "2016-06-06T09:09:39.406602",
     "start_time": "2016-06-06T09:09:39.403985"
    },
    "collapsed": false
   },
   "outputs": [
    {
     "name": "stdout",
     "output_type": "stream",
     "text": [
      "(60000, 784) (60000, 10)\n"
     ]
    }
   ],
   "source": [
    "print x.shape, y.shape"
   ]
  },
  {
   "cell_type": "code",
   "execution_count": 78,
   "metadata": {
    "ExecuteTime": {
     "end_time": "2016-06-06T09:09:43.842503",
     "start_time": "2016-06-06T09:09:43.836622"
    },
    "collapsed": false
   },
   "outputs": [
    {
     "data": {
      "text/plain": [
       "array([ 0.,  0.,  0.,  0.,  0.,  0.,  1.,  0.,  0.,  0.])"
      ]
     },
     "execution_count": 78,
     "metadata": {},
     "output_type": "execute_result"
    }
   ],
   "source": [
    "y[0]"
   ]
  },
  {
   "cell_type": "code",
   "execution_count": null,
   "metadata": {
    "collapsed": true
   },
   "outputs": [],
   "source": []
  }
 ],
 "metadata": {
  "kernelspec": {
   "display_name": "Python 2",
   "language": "python",
   "name": "python2"
  },
  "language_info": {
   "codemirror_mode": {
    "name": "ipython",
    "version": 2
   },
   "file_extension": ".py",
   "mimetype": "text/x-python",
   "name": "python",
   "nbconvert_exporter": "python",
   "pygments_lexer": "ipython2",
   "version": "2.7.11"
  }
 },
 "nbformat": 4,
 "nbformat_minor": 0
}
