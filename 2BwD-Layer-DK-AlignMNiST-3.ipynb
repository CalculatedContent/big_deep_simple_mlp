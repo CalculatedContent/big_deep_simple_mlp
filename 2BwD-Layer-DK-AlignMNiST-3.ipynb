{
 "cells": [
  {
   "cell_type": "markdown",
   "metadata": {
    "ExecuteTime": {
     "end_time": "2016-04-20T21:52:04.548207",
     "start_time": "2016-04-20T21:52:04.544771"
    }
   },
   "source": [
    "## 2 Layer MLP for Dark Knoweldge Experiments w/AlignMNIST\n",
    "\n",
    "75 epochs of RMSProp on AlignMNIST\n",
    "\n",
    "Bigger network with dropout yet, and trying to add some kind of weight constraint / max norm \n",
    "\n",
    "for now, looking at norms on each layer\n",
    "\n",
    "\n",
    "see  http://www.r2rt.com/posts/implementations/2016-03-29-implementing-batch-normalization-tensorflow/\n",
    "\n",
    "https://github.com/tensorflow/tensorflow/blob/b3621c95160a916d4d255f9f44318b9d465701af/tensorflow/contrib/layers/python/layers/layers.py\n",
    "\n",
    "\n",
    "https://www.reddit.com/r/MachineLearning/comments/2bopxs/question_about_the_maxnorm_constraint_used_with/\n",
    "\n",
    "\n",
    "\n",
    "https://arxiv.org/pdf/1207.0580.pdf\n",
    "\n",
    "https://arxiv.org/pdf/1503.02531v1.pdf\n",
    "\n",
    "http://www.kdnuggets.com/2015/04/preventing-overfitting-neural-networks.html\n",
    "\n",
    "https://www.reddit.com/r/MachineLearning/comments/2bopxs/question_about_the_maxnorm_constraint_used_with/\n",
    "\n",
    "and https://github.com/tensorflow/tensorflow/issues/608"
   ]
  },
  {
   "cell_type": "code",
   "execution_count": 1,
   "metadata": {
    "ExecuteTime": {
     "end_time": "2016-06-14T14:41:48.245739",
     "start_time": "2016-06-14T14:41:46.031889"
    },
    "collapsed": false
   },
   "outputs": [],
   "source": [
    "import tensorflow as tf\n",
    "import numpy as np"
   ]
  },
  {
   "cell_type": "code",
   "execution_count": 2,
   "metadata": {
    "ExecuteTime": {
     "end_time": "2016-06-14T14:41:48.870518",
     "start_time": "2016-06-14T14:41:48.865396"
    },
    "collapsed": false
   },
   "outputs": [],
   "source": [
    "%run augmentmnist.py"
   ]
  },
  {
   "cell_type": "code",
   "execution_count": 3,
   "metadata": {
    "ExecuteTime": {
     "end_time": "2016-06-14T14:41:49.595312",
     "start_time": "2016-06-14T14:41:49.592438"
    },
    "collapsed": true
   },
   "outputs": [],
   "source": [
    "num_epochs = 75\n",
    "batch_size = 125\n",
    "\n",
    "learning_rate = 0.001\n"
   ]
  },
  {
   "cell_type": "code",
   "execution_count": 4,
   "metadata": {
    "ExecuteTime": {
     "end_time": "2016-06-14T14:41:50.617425",
     "start_time": "2016-06-14T14:41:50.612300"
    },
    "collapsed": false
   },
   "outputs": [],
   "source": [
    "# Network Parameters\n",
    "n_hidden_1 = 1200 # 1st layer num features\n",
    "n_hidden_2 = 1200 # 2nd layer num features\n",
    "n_input = 784 # MNIST data input (img shape: 28*28)\n",
    "n_classes = 10 # MNIST total classes (0-9 digits)\n",
    "\n",
    "std_0  = np.sqrt(6.0/(n_input+n_hidden_1))\n",
    "std_h1 = np.sqrt(6.0/(n_hidden_1+n_hidden_2))\n",
    "std_h2 = np.sqrt(6.0/(n_hidden_2+n_classes))\n",
    "\n",
    "logfile = \"2BwD-layer-dlk-alignmnist-3\""
   ]
  },
  {
   "cell_type": "code",
   "execution_count": 5,
   "metadata": {
    "ExecuteTime": {
     "end_time": "2016-06-14T14:41:51.485964",
     "start_time": "2016-06-14T14:41:51.479127"
    },
    "collapsed": false
   },
   "outputs": [],
   "source": [
    "# tf Graph input\n",
    "x = tf.placeholder(\"float\", [None, n_input])\n",
    "y = tf.placeholder(\"float\", [None, n_classes])\n",
    "\n",
    "xt = tf.placeholder(\"float\", [None, n_input])\n",
    "yt = tf.placeholder(\"float\", [None, n_classes])"
   ]
  },
  {
   "cell_type": "code",
   "execution_count": 6,
   "metadata": {
    "ExecuteTime": {
     "end_time": "2016-06-14T14:41:52.143697",
     "start_time": "2016-06-14T14:41:52.139324"
    },
    "collapsed": false
   },
   "outputs": [],
   "source": [
    "def multilayer_perceptron(_X, _weights, _biases):\n",
    "    layer_1 = tf.nn.dropout(tf.nn.relu(tf.add(tf.matmul(_X, _weights['h1']), _biases['b1'])),  0.2)\n",
    "    layer_2 = tf.nn.dropout(tf.nn.relu(tf.add(tf.matmul(layer_1, _weights['h2']), _biases['b2'])), 0.5)    \n",
    "    return tf.matmul(layer_2, weights['out']) + biases['out']"
   ]
  },
  {
   "cell_type": "code",
   "execution_count": 7,
   "metadata": {
    "ExecuteTime": {
     "end_time": "2016-06-14T14:41:53.006744",
     "start_time": "2016-06-14T14:41:52.971178"
    },
    "collapsed": false
   },
   "outputs": [],
   "source": [
    "# Store layers weight & bias\n",
    "weights = {\n",
    "    'h1': tf.Variable(tf.random_normal([n_input, n_hidden_1], stddev=std_0)),\n",
    "    'h2': tf.Variable(tf.random_normal([n_hidden_1, n_hidden_2], stddev=std_h1)),\n",
    "    'out': tf.Variable(tf.random_normal([n_hidden_2, n_classes], stddev=std_h2))\n",
    "}\n",
    "biases = {\n",
    "    'b1': tf.Variable(tf.random_normal([n_hidden_1], stddev=0.1)),\n",
    "    'b2': tf.Variable(tf.random_normal([n_hidden_2], stddev=0.01)),\n",
    "    'out': tf.Variable(tf.random_normal([n_classes], stddev=0.001))\n",
    "}"
   ]
  },
  {
   "cell_type": "code",
   "execution_count": 8,
   "metadata": {
    "ExecuteTime": {
     "end_time": "2016-06-14T14:41:53.845347",
     "start_time": "2016-06-14T14:41:53.805116"
    },
    "collapsed": false,
    "scrolled": false
   },
   "outputs": [],
   "source": [
    "mlp = multilayer_perceptron(x, weights, biases )\n",
    "mlp_test = multilayer_perceptron(xt, weights, biases  )"
   ]
  },
  {
   "cell_type": "code",
   "execution_count": 9,
   "metadata": {
    "ExecuteTime": {
     "end_time": "2016-06-14T14:41:54.530086",
     "start_time": "2016-06-14T14:41:54.517890"
    },
    "collapsed": false
   },
   "outputs": [],
   "source": [
    "cost =  tf.reduce_mean(tf.nn.softmax_cross_entropy_with_logits(mlp, y)) \n",
    "gs = tf.get_variable(\"global_step\",[],trainable=False,initializer=tf.constant_initializer(0))\n",
    "lr = tf.constant(learning_rate) "
   ]
  },
  {
   "cell_type": "code",
   "execution_count": 10,
   "metadata": {
    "ExecuteTime": {
     "end_time": "2016-06-14T14:41:55.337943",
     "start_time": "2016-06-14T14:41:55.201247"
    },
    "collapsed": false,
    "scrolled": false
   },
   "outputs": [],
   "source": [
    "train_op = tf.contrib.layers.optimize_loss(cost, global_step=gs, learning_rate=lr,optimizer=\"RMSProp\")"
   ]
  },
  {
   "cell_type": "code",
   "execution_count": 11,
   "metadata": {
    "ExecuteTime": {
     "end_time": "2016-06-14T14:41:55.941728",
     "start_time": "2016-06-14T14:41:55.923963"
    },
    "collapsed": false
   },
   "outputs": [
    {
     "data": {
      "text/plain": [
       "<tf.Tensor 'ScalarSummary_2:0' shape=() dtype=string>"
      ]
     },
     "execution_count": 11,
     "metadata": {},
     "output_type": "execute_result"
    }
   ],
   "source": [
    "#with tf.name_scope(\"training accuracy\"):\n",
    "pred = tf.equal(tf.argmax(mlp, 1), tf.argmax(y, 1)) # Count correct predictions\n",
    "train_acc_op = tf.reduce_mean(tf.cast(pred, \"float\"))  # Cast boolean to float to average\n",
    "tf.scalar_summary(\"training accuracy\", train_acc_op)"
   ]
  },
  {
   "cell_type": "code",
   "execution_count": 12,
   "metadata": {
    "ExecuteTime": {
     "end_time": "2016-06-14T14:41:56.664747",
     "start_time": "2016-06-14T14:41:56.654137"
    },
    "collapsed": false
   },
   "outputs": [
    {
     "data": {
      "text/plain": [
       "<tf.Tensor 'ScalarSummary_3:0' shape=() dtype=string>"
      ]
     },
     "execution_count": 12,
     "metadata": {},
     "output_type": "execute_result"
    }
   ],
   "source": [
    "test_pred = tf.equal(tf.argmax(mlp_test, 1), tf.argmax(yt, 1)) # Count correct predictions\n",
    "test_acc_op = tf.reduce_mean(tf.cast(test_pred, \"float\"))  # Cast boolean to float to average\n",
    "tf.scalar_summary(\"test 0 accuracy\", test_acc_op)"
   ]
  },
  {
   "cell_type": "code",
   "execution_count": 13,
   "metadata": {
    "ExecuteTime": {
     "end_time": "2016-06-14T14:41:57.684406",
     "start_time": "2016-06-14T14:41:57.437300"
    },
    "collapsed": false
   },
   "outputs": [
    {
     "name": "stdout",
     "output_type": "stream",
     "text": [
      "\u001b[1m\u001b[36m2-layer-dk-alignmnist\u001b[m\u001b[m           \u001b[1m\u001b[36m2-layer-modern-mlp-alignmnist\u001b[m\u001b[m\r\n",
      "\u001b[1m\u001b[36m2-layer-dlk-alignmnist\u001b[m\u001b[m          \u001b[1m\u001b[36m2BwD-layer-dlk-alignmnist\u001b[m\u001b[m\r\n",
      "\u001b[1m\u001b[36m2-layer-mlp-alignmnist-wdropout\u001b[m\u001b[m \u001b[1m\u001b[36m5-layer-mlp-alignmnist-wdropout\u001b[m\u001b[m\r\n",
      "\u001b[1m\u001b[36m2-layer-mlp-mnist-temp\u001b[m\u001b[m          \u001b[1m\u001b[36m5-layer-mlp-infimnist\u001b[m\u001b[m\r\n",
      "\u001b[1m\u001b[36m2-layer-mlp-mnist-watch\u001b[m\u001b[m\r\n"
     ]
    }
   ],
   "source": [
    "!rm -rf ./logs/{logfile}\n",
    "!ls logs"
   ]
  },
  {
   "cell_type": "markdown",
   "metadata": {
    "ExecuteTime": {
     "end_time": "2016-05-04T21:57:37.534602",
     "start_time": "2016-05-04T21:57:37.532739"
    },
    "collapsed": true
   },
   "source": [
    "### Original MNIST Data"
   ]
  },
  {
   "cell_type": "code",
   "execution_count": 14,
   "metadata": {
    "ExecuteTime": {
     "end_time": "2016-06-14T14:42:03.305706",
     "start_time": "2016-06-14T14:42:02.443355"
    },
    "collapsed": false,
    "scrolled": false
   },
   "outputs": [
    {
     "name": "stdout",
     "output_type": "stream",
     "text": [
      "Extracting ./train-images-idx3-ubyte.gz\n",
      "Extracting ./train-labels-idx1-ubyte.gz\n",
      "Extracting ./t10k-images-idx3-ubyte.gz\n",
      "Extracting ./t10k-labels-idx1-ubyte.gz\n"
     ]
    }
   ],
   "source": [
    "from tensorflow.examples.tutorials.mnist import input_data\n",
    "mnist = input_data.read_data_sets(\".\", one_hot=True)\n",
    "trX_0, trY_0 = mnist.train.images, mnist.train.labels\n",
    "teX_0, teY_0 = mnist.test.images, mnist.test.labels"
   ]
  },
  {
   "cell_type": "code",
   "execution_count": 15,
   "metadata": {
    "ExecuteTime": {
     "end_time": "2016-06-14T14:42:04.415110",
     "start_time": "2016-06-14T14:42:04.411826"
    },
    "collapsed": false,
    "scrolled": true
   },
   "outputs": [],
   "source": [
    "alignmnist = AlignMNIST()"
   ]
  },
  {
   "cell_type": "code",
   "execution_count": 22,
   "metadata": {
    "ExecuteTime": {
     "end_time": "2016-06-14T15:44:52.046565",
     "start_time": "2016-06-14T14:49:36.210726"
    },
    "collapsed": false,
    "scrolled": true
   },
   "outputs": [
    {
     "name": "stdout",
     "output_type": "stream",
     "text": [
      "(0, 0.81511664, 0.88749999)\n",
      "[54.569935, 62.339447, 6.9963851, 3.448611, 1.0789102, 0.082129896]\n",
      "(1, 0.86266667, 0.91829997)\n",
      "[56.05917, 65.244644, 6.5838289, 3.5065219, 2.1609182, 0.17845699]\n",
      "(2, 0.88026667, 0.92940003)\n",
      "[57.390232, 67.908058, 6.3219166, 3.5616927, 3.3341305, 0.27384359]\n",
      "(3, 0.89233333, 0.9386)\n",
      "[58.672428, 70.474121, 6.2681961, 3.6408212, 4.4861813, 0.36348552]\n",
      "(4, 0.89481664, 0.94099998)\n",
      "[59.879402, 72.952095, 6.3676305, 3.7453721, 5.5518999, 0.45345449]\n",
      "(5, 0.90166664, 0.94340003)\n",
      "[61.056767, 75.36821, 6.6044264, 3.8553052, 6.585577, 0.55994248]\n",
      "(6, 0.90773332, 0.95039999)\n",
      "[62.184849, 77.724831, 6.9394088, 3.992049, 7.5731235, 0.64984828]\n",
      "(7, 0.90786666, 0.94679999)\n",
      "[63.217308, 79.973152, 7.2663913, 4.1529312, 8.5597239, 0.75256306]\n",
      "(8, 0.90481669, 0.94709998)\n",
      "[64.219734, 82.17511, 7.6462321, 4.2979636, 9.5112324, 0.8630808]\n",
      "(9, 0.91521668, 0.95020002)\n",
      "[65.212883, 84.351112, 8.066247, 4.4625301, 10.426193, 0.94609499]\n",
      "(10, 0.90969998, 0.94870001)\n",
      "[66.108734, 86.468483, 8.4950523, 4.6553831, 11.355545, 1.048309]\n",
      "(11, 0.91565001, 0.94940001)\n",
      "[66.986855, 88.53553, 8.9402294, 4.8467298, 12.236042, 1.1433825]\n",
      "(12, 0.91455001, 0.95169997)\n",
      "[67.857887, 90.538864, 9.4048405, 5.0487452, 13.10191, 1.2374161]\n",
      "(13, 0.91781664, 0.95249999)\n",
      "[68.686852, 92.498749, 9.8125896, 5.2619033, 13.965233, 1.3266867]\n",
      "(14, 0.91971666, 0.9526)\n",
      "[69.505959, 94.384567, 10.328677, 5.4711604, 14.786835, 1.3974668]\n",
      "(15, 0.91638333, 0.94840002)\n",
      "[70.303291, 96.206253, 10.802207, 5.6913486, 15.6172, 1.4887288]\n",
      "(16, 0.91686666, 0.95429999)\n",
      "[71.070358, 97.976143, 11.285682, 5.9213619, 16.401409, 1.5643139]\n",
      "(17, 0.91918331, 0.9558)\n",
      "[71.822533, 99.679901, 11.714366, 6.1380196, 17.23484, 1.6405612]\n",
      "(18, 0.91869998, 0.95490003)\n",
      "[72.552368, 101.39856, 12.199872, 6.3537712, 18.028183, 1.7167299]\n",
      "(19, 0.91659999, 0.95300001)\n",
      "[73.290352, 103.07032, 12.666897, 6.5932903, 18.82575, 1.7845236]\n",
      "(20, 0.92036664, 0.95270002)\n",
      "[74.001213, 104.75574, 13.135871, 6.8153305, 19.611986, 1.8425934]\n",
      "(21, 0.92145002, 0.95730001)\n",
      "[74.697639, 106.32642, 13.637591, 7.0372286, 20.403564, 1.9064153]\n",
      "(22, 0.92321664, 0.95429999)\n",
      "[75.378006, 107.86785, 14.172114, 7.2620792, 21.141459, 1.966068]\n",
      "(23, 0.92068332, 0.95370001)\n",
      "[76.050995, 109.35846, 14.682657, 7.4923372, 21.912424, 2.0259686]\n",
      "(24, 0.91976666, 0.95209998)\n",
      "[76.682556, 110.82507, 15.121241, 7.7200146, 22.684597, 2.0832262]\n",
      "(25, 0.92063332, 0.95429999)\n",
      "[77.31221, 112.28627, 15.708577, 7.9551039, 23.380959, 2.1401856]\n",
      "(26, 0.92108333, 0.95179999)\n",
      "[77.944313, 113.69922, 16.182251, 8.1923094, 24.09444, 2.1669662]\n",
      "(27, 0.92463332, 0.95569998)\n",
      "[78.581642, 115.12203, 16.716074, 8.4065399, 24.813454, 2.205497]\n",
      "(28, 0.92186666, 0.95859998)\n",
      "[79.208786, 116.45968, 17.25577, 8.6439762, 25.522203, 2.2470915]\n",
      "(29, 0.91773331, 0.95469999)\n",
      "[79.788254, 117.77435, 17.752979, 8.8780413, 26.267006, 2.2789381]\n",
      "(30, 0.92281669, 0.95660001)\n",
      "[80.377579, 119.1104, 18.281847, 9.1166401, 26.969416, 2.3005657]\n",
      "(31, 0.92533332, 0.95899999)\n",
      "[80.972397, 120.42966, 18.792698, 9.3567734, 27.656218, 2.3509064]\n",
      "(32, 0.92079997, 0.95770001)\n",
      "[81.568573, 121.71946, 19.355625, 9.6017313, 28.366259, 2.3865311]\n",
      "(33, 0.92696667, 0.9562)\n",
      "[82.144722, 122.98081, 19.860567, 9.8347454, 29.066902, 2.4213989]\n",
      "(34, 0.92528331, 0.95670003)\n",
      "[82.716789, 124.28417, 20.398714, 10.081834, 29.769274, 2.4541461]\n",
      "(35, 0.9242, 0.95840001)\n",
      "[83.29187, 125.52774, 20.938486, 10.333005, 30.429003, 2.4942305]\n",
      "(36, 0.92398334, 0.95700002)\n",
      "[83.85611, 126.76325, 21.50816, 10.572257, 31.145134, 2.5327387]\n",
      "(37, 0.9242667, 0.95660001)\n",
      "[84.415726, 127.98941, 22.066324, 10.802129, 31.830999, 2.5595288]\n",
      "(38, 0.92016667, 0.95340002)\n",
      "[84.962296, 129.21895, 22.568316, 11.054328, 32.541031, 2.5931988]\n",
      "(39, 0.92423332, 0.95469999)\n",
      "[85.545006, 130.39685, 23.130333, 11.281258, 33.206898, 2.6241546]\n",
      "(40, 0.92366666, 0.95609999)\n",
      "[86.103355, 131.61763, 23.695093, 11.510935, 33.867378, 2.6653423]\n",
      "(41, 0.92455, 0.95789999)\n",
      "[86.677643, 132.74893, 24.245455, 11.743328, 34.524715, 2.675276]\n",
      "(42, 0.92451668, 0.95410001)\n",
      "[87.212524, 133.87428, 24.741199, 11.987894, 35.209175, 2.6949975]\n",
      "(43, 0.92116666, 0.95700002)\n",
      "[87.735733, 134.98067, 25.300257, 12.224077, 35.870392, 2.7258332]\n",
      "(44, 0.91930002, 0.95389998)\n",
      "[88.229958, 136.06815, 25.855301, 12.467381, 36.522182, 2.7486534]\n",
      "(45, 0.92661667, 0.9601)\n",
      "[88.78569, 137.16595, 26.417099, 12.695825, 37.136501, 2.7862618]\n",
      "(46, 0.92290002, 0.96030003)\n",
      "[89.328468, 138.25919, 26.953682, 12.943019, 37.784039, 2.8068116]\n",
      "(47, 0.92258334, 0.95670003)\n",
      "[89.848701, 139.3046, 27.514395, 13.167522, 38.41724, 2.8303139]\n",
      "(48, 0.92535001, 0.95529997)\n",
      "[90.386269, 140.29968, 28.025305, 13.397225, 39.066326, 2.8490038]\n",
      "(49, 0.92733335, 0.95929998)\n",
      "[90.87384, 141.35033, 28.578241, 13.616638, 39.702904, 2.8660417]\n",
      "(50, 0.9181, 0.95169997)\n",
      "[91.376289, 142.37071, 29.122089, 13.864511, 40.302883, 2.8894296]\n",
      "(51, 0.92605001, 0.958)\n",
      "[91.911751, 143.37984, 29.684347, 14.074899, 40.931458, 2.9108198]\n",
      "(52, 0.92473334, 0.95719999)\n",
      "[92.426727, 144.40573, 30.268461, 14.29416, 41.560516, 2.9132752]\n",
      "(53, 0.92326665, 0.9569)\n",
      "[92.953789, 145.39934, 30.81588, 14.534431, 42.19482, 2.9249189]\n",
      "(54, 0.92486668, 0.9576)\n",
      "[93.479431, 146.41206, 31.327526, 14.759096, 42.837517, 2.9569569]\n",
      "(55, 0.92580003, 0.95819998)\n",
      "[93.971565, 147.38495, 31.865746, 14.99767, 43.452827, 2.9678311]\n",
      "(56, 0.92601669, 0.9576)\n",
      "[94.493385, 148.41061, 32.397614, 15.213389, 44.056259, 2.9877491]\n",
      "(57, 0.92553335, 0.9612)\n",
      "[95.002487, 149.3727, 32.938843, 15.453576, 44.685135, 3.0112486]\n",
      "(58, 0.92676669, 0.95730001)\n",
      "[95.494804, 150.34189, 33.507671, 15.66866, 45.270321, 3.0443487]\n",
      "(59, 0.92483336, 0.95889997)\n",
      "[95.994713, 151.30365, 34.022457, 15.900341, 45.885952, 3.0500152]\n",
      "(60, 0.92734998, 0.95889997)\n",
      "[96.510216, 152.2558, 34.533279, 16.127514, 46.480461, 3.070816]\n",
      "(61, 0.92449999, 0.95929998)\n",
      "[97.010284, 153.21498, 35.092983, 16.347609, 47.049248, 3.0776284]\n",
      "(62, 0.92704999, 0.95929998)\n",
      "[97.500984, 154.15291, 35.636024, 16.564795, 47.624714, 3.0893929]\n",
      "(63, 0.92401665, 0.95639998)\n",
      "[97.975998, 155.07315, 36.164299, 16.788696, 48.209236, 3.1050465]\n",
      "(64, 0.92491668, 0.95480001)\n",
      "[98.449158, 156.00024, 36.70631, 17.023319, 48.778286, 3.1162803]\n",
      "(65, 0.92206669, 0.95730001)\n",
      "[98.993713, 156.89951, 37.271343, 17.239206, 49.361362, 3.1435463]\n",
      "(66, 0.92813331, 0.96030003)\n",
      "[99.490044, 157.7643, 37.833462, 17.461254, 49.926441, 3.152992]\n",
      "(67, 0.92518336, 0.9619)\n",
      "[99.968407, 158.64619, 38.303909, 17.691927, 50.516487, 3.1624649]\n",
      "(68, 0.92421669, 0.95539999)\n",
      "[100.49645, 159.50598, 38.828247, 17.920877, 51.081608, 3.1750205]\n",
      "(69, 0.92381668, 0.95679998)\n",
      "[100.9708, 160.39659, 39.324093, 18.117662, 51.655357, 3.1892529]\n",
      "(70, 0.92334998, 0.95539999)\n",
      "[101.4595, 161.2692, 39.861073, 18.326294, 52.21608, 3.2092633]\n",
      "(71, 0.92224997, 0.95520002)\n",
      "[101.94269, 162.10997, 40.400974, 18.550079, 52.739338, 3.2152977]\n",
      "(72, 0.92578334, 0.95639998)\n",
      "[102.45666, 162.9534, 40.922997, 18.756783, 53.30151, 3.2270765]\n",
      "(73, nan, 0.95829999)\n",
      "[102.45666, 162.9534, 40.922997, 18.756783, 53.30151, 3.2270765]\n",
      "(74, nan, 0.9594)\n",
      "[102.45666, 162.9534, 40.922997, 18.756783, 53.30151, 3.2270765]\n"
     ]
    }
   ],
   "source": [
    "test_accuracies = []\n",
    "train_accuracies = []\n",
    "norms = []\n",
    "with tf.Session() as sess:\n",
    "    # create a log writer. run 'tensorboard --logdir=./logs/{logfile}'\n",
    "    writer = tf.train.SummaryWriter(\"./logs/{0}\".format(logfile), sess.graph) # for 0.8\n",
    "    merged = tf.merge_all_summaries()\n",
    " \n",
    "    tf.initialize_all_variables().run()\n",
    "\n",
    "    for epoch in range(num_epochs):\n",
    "        trX, trY = alignmnist.next_epoch()\n",
    "      \n",
    "        for start, end in zip(range(0, len(trX), batch_size), range(batch_size, len(trX), batch_size)):\n",
    "            sess.run(train_op, feed_dict={x: trX[start:end], y: trY[start:end]})\n",
    "                 \n",
    "        summary, trn_acc, tst_acc = sess.run([merged, train_acc_op, test_acc_op], feed_dict={x: trX, y: trY, xt: teX_0, yt: teY_0})\n",
    "        writer.add_summary(summary, epoch)  \n",
    "        \n",
    "        \n",
    "        print(epoch, trn_acc, tst_acc)\n",
    "        train_accuracies.append(trn_acc)\n",
    "        test_accuracies.append(tst_acc)\n",
    "\n",
    "        nrms= [np.linalg.norm(weights['h1'].eval()),np.linalg.norm(weights['h2'].eval()), np.linalg.norm(weights['out'].eval()), np.linalg.norm(biases['b1'].eval()),np.linalg.norm(biases['b2'].eval()),np.linalg.norm(biases['out'].eval())]\n",
    "        print nrms\n",
    "        norms.append(nrms)\n",
    "        writer.flush()\n",
    "        "
   ]
  },
  {
   "cell_type": "code",
   "execution_count": 23,
   "metadata": {
    "ExecuteTime": {
     "end_time": "2016-06-14T16:31:51.327745",
     "start_time": "2016-06-14T16:31:48.392102"
    },
    "collapsed": false
   },
   "outputs": [
    {
     "name": "stderr",
     "output_type": "stream",
     "text": [
      "/Users/charlesmartin14/anaconda2/lib/python2.7/site-packages/matplotlib/font_manager.py:273: UserWarning: Matplotlib is building the font cache using fc-list. This may take a moment.\n",
      "  warnings.warn('Matplotlib is building the font cache using fc-list. This may take a moment.')\n"
     ]
    }
   ],
   "source": [
    "import matplotlib\n",
    "import numpy as np\n",
    "import matplotlib.pyplot as plt\n",
    "%matplotlib inline  "
   ]
  },
  {
   "cell_type": "markdown",
   "metadata": {
    "ExecuteTime": {
     "end_time": "2016-06-14T16:31:51.529806",
     "start_time": "2016-06-14T16:31:51.329495"
    },
    "collapsed": false
   },
   "source": [
    "plt.plot(train_accuracies)\n",
    "plt.plot(test_accuracies)"
   ]
  },
  {
   "cell_type": "code",
   "execution_count": 25,
   "metadata": {
    "ExecuteTime": {
     "end_time": "2016-06-14T16:31:51.535330",
     "start_time": "2016-06-14T16:31:51.531173"
    },
    "collapsed": false
   },
   "outputs": [
    {
     "data": {
      "text/plain": [
       "0.9619"
      ]
     },
     "execution_count": 25,
     "metadata": {},
     "output_type": "execute_result"
    }
   ],
   "source": [
    "np.max(test_accuracies)"
   ]
  },
  {
   "cell_type": "markdown",
   "metadata": {},
   "source": [
    "Number test errors is"
   ]
  },
  {
   "cell_type": "code",
   "execution_count": 26,
   "metadata": {
    "ExecuteTime": {
     "end_time": "2016-06-14T16:32:07.217220",
     "start_time": "2016-06-14T16:32:07.212804"
    },
    "collapsed": false,
    "scrolled": true
   },
   "outputs": [
    {
     "data": {
      "text/plain": [
       "381.00004196166992"
      ]
     },
     "execution_count": 26,
     "metadata": {},
     "output_type": "execute_result"
    }
   ],
   "source": [
    "10000*(1.0-np.max(test_accuracies))"
   ]
  },
  {
   "cell_type": "code",
   "execution_count": 31,
   "metadata": {
    "ExecuteTime": {
     "end_time": "2016-06-14T16:32:40.544667",
     "start_time": "2016-06-14T16:32:40.541309"
    },
    "collapsed": false
   },
   "outputs": [
    {
     "name": "stdout",
     "output_type": "stream",
     "text": [
      "[54.569935, 62.339447, 6.9963851, 3.448611, 1.0789102, 0.082129896]\n",
      "[102.45666, 162.9534, 40.922997, 18.756783, 53.30151, 3.2270765]\n"
     ]
    }
   ],
   "source": [
    "print norms[0]\n",
    "print norms[-1]"
   ]
  },
  {
   "cell_type": "markdown",
   "metadata": {
    "ExecuteTime": {
     "end_time": "2016-06-14T16:33:49.528886",
     "start_time": "2016-06-14T16:33:49.525098"
    }
   },
   "source": [
    "#### What is the best way to implement the cutoff ?\n",
    "\n",
    "by the norm of the weights at each layer ?\n",
    "\n",
    "see also:  http://keras.io/constraints/\n",
    "\n",
    "Does this just reflect the loss decreasing ?\n",
    "\n",
    "Can we simply bound the norm?"
   ]
  },
  {
   "cell_type": "code",
   "execution_count": 37,
   "metadata": {
    "ExecuteTime": {
     "end_time": "2016-06-14T16:57:05.122672",
     "start_time": "2016-06-14T16:57:04.910441"
    },
    "collapsed": false
   },
   "outputs": [
    {
     "data": {
      "image/png": "[encoded data removed]",
      "text/plain": [
       "<matplotlib.figure.Figure at 0x125aa77d0>"
      ]
     },
     "metadata": {},
     "output_type": "display_data"
    }
   ],
   "source": [
    "for i in range(6):\n",
    "    plt.plot([nrm[i] for nrm in norms])"
   ]
  },
  {
   "cell_type": "code",
   "execution_count": null,
   "metadata": {
    "collapsed": true
   },
   "outputs": [],
   "source": []
  }
 ],
 "metadata": {
  "kernelspec": {
   "display_name": "Python 2",
   "language": "python",
   "name": "python2"
  },
  "language_info": {
   "codemirror_mode": {
    "name": "ipython",
    "version": 2
   },
   "file_extension": ".py",
   "mimetype": "text/x-python",
   "name": "python",
   "nbconvert_exporter": "python",
   "pygments_lexer": "ipython2",
   "version": "2.7.11"
  }
 },
 "nbformat": 4,
 "nbformat_minor": 0
}
